{
 "cells": [
  {
   "cell_type": "code",
   "execution_count": 1,
   "metadata": {
    "collapsed": false,
    "deletable": true,
    "editable": true
   },
   "outputs": [],
   "source": [
    "import os, sys, time, resource, re, gc, shutil\n",
    "from multiprocess import Pool\n",
    "from functools import partial\n",
    "from urllib.parse import urlparse, parse_qsl\n",
    "import matplotlib.pyplot as plt\n",
    "import numpy as np\n",
    "import pandas as pd\n",
    "import django\n",
    "sys.path.append('/home/galm/software/django/tmv/BasicBrowser/')\n",
    "os.environ.setdefault(\"DJANGO_SETTINGS_MODULE\", \"BasicBrowser.settings\")\n",
    "django.setup()\n",
    "\n",
    "from scoping.models import *\n",
    "from tmv_app.models import *\n",
    "\n",
    "from sklearn.feature_extraction.text import CountVectorizer, TfidfVectorizer\n",
    "from sklearn.preprocessing import normalize\n",
    "\n",
    "q = Query.objects.get(pk=2355)\n",
    "\n",
    "hot_docs = Doc.objects.filter(query=q,wosarticle__tc__isnull=False).order_by('-wosarticle__tc')[:100]\n",
    "\n",
    "\n",
    "#doc = Doc.objects.get(pk=)\n",
    "#topic = Topic.objects.get(pk=)\n",
    "stat = RunStats.objects.get(pk=662)"
   ]
  },
  {
   "cell_type": "code",
   "execution_count": 2,
   "metadata": {
    "collapsed": false,
    "deletable": true,
    "editable": true
   },
   "outputs": [
    {
     "data": {
      "text/html": [
       "<div>\n",
       "<style scoped>\n",
       "    .dataframe tbody tr th:only-of-type {\n",
       "        vertical-align: middle;\n",
       "    }\n",
       "\n",
       "    .dataframe tbody tr th {\n",
       "        vertical-align: top;\n",
       "    }\n",
       "\n",
       "    .dataframe thead th {\n",
       "        text-align: right;\n",
       "    }\n",
       "</style>\n",
       "<table border=\"1\" class=\"dataframe\">\n",
       "  <thead>\n",
       "    <tr style=\"text-align: right;\">\n",
       "      <th></th>\n",
       "      <th>PY</th>\n",
       "      <th>authors</th>\n",
       "      <th>id</th>\n",
       "      <th>title</th>\n",
       "      <th>wosarticle__tc</th>\n",
       "    </tr>\n",
       "  </thead>\n",
       "  <tbody>\n",
       "    <tr>\n",
       "      <th>0</th>\n",
       "      <td>2005</td>\n",
       "      <td>Arico, AS, Bruce, P, Scrosati, B, Tarascon, JM...</td>\n",
       "      <td>671811</td>\n",
       "      <td>Nanostructured materials for advanced energy c...</td>\n",
       "      <td>4501</td>\n",
       "    </tr>\n",
       "    <tr>\n",
       "      <th>1</th>\n",
       "      <td>2002</td>\n",
       "      <td>Walther, GR, Post, E, Convey, P, Menzel, A, Pa...</td>\n",
       "      <td>536594</td>\n",
       "      <td>Ecological responses to recent climate change</td>\n",
       "      <td>4476</td>\n",
       "    </tr>\n",
       "    <tr>\n",
       "      <th>2</th>\n",
       "      <td>2006</td>\n",
       "      <td>Phillips, SJ, Anderson, RP, Schapire, RE</td>\n",
       "      <td>461474</td>\n",
       "      <td>Maximum entropy modeling of species geographic...</td>\n",
       "      <td>4407</td>\n",
       "    </tr>\n",
       "    <tr>\n",
       "      <th>3</th>\n",
       "      <td>2003</td>\n",
       "      <td>Parmesan, C, Yohe, G</td>\n",
       "      <td>578042</td>\n",
       "      <td>A globally coherent fingerprint of climate cha...</td>\n",
       "      <td>4300</td>\n",
       "    </tr>\n",
       "    <tr>\n",
       "      <th>4</th>\n",
       "      <td>2001</td>\n",
       "      <td>Zachos, J, Pagani, M, Sloan, L, Thomas, E, Bil...</td>\n",
       "      <td>42709</td>\n",
       "      <td>Trends, rhythms, and aberrations in global cli...</td>\n",
       "      <td>4127</td>\n",
       "    </tr>\n",
       "    <tr>\n",
       "      <th>5</th>\n",
       "      <td>2007</td>\n",
       "      <td>Chisti, Y, Chisti, Y</td>\n",
       "      <td>69164</td>\n",
       "      <td>Biodiesel from microalgae</td>\n",
       "      <td>3525</td>\n",
       "    </tr>\n",
       "    <tr>\n",
       "      <th>6</th>\n",
       "      <td>2003</td>\n",
       "      <td>Rayner, NA, Parker, DE, Horton, EB, Folland, C...</td>\n",
       "      <td>408552</td>\n",
       "      <td>Global analyses of sea surface temperature, se...</td>\n",
       "      <td>3479</td>\n",
       "    </tr>\n",
       "    <tr>\n",
       "      <th>7</th>\n",
       "      <td>1997</td>\n",
       "      <td>Mantua, NJ, Hare, SR, Zhang, Y, Wallace, JM, F...</td>\n",
       "      <td>25916</td>\n",
       "      <td>A Pacific interdecadal climate oscillation wit...</td>\n",
       "      <td>3368</td>\n",
       "    </tr>\n",
       "    <tr>\n",
       "      <th>8</th>\n",
       "      <td>1992</td>\n",
       "      <td>LEVIN, SA</td>\n",
       "      <td>94906</td>\n",
       "      <td>THE PROBLEM OF PATTERN AND SCALE IN ECOLOGY</td>\n",
       "      <td>3302</td>\n",
       "    </tr>\n",
       "    <tr>\n",
       "      <th>9</th>\n",
       "      <td>2000</td>\n",
       "      <td>Sala, OE, Chapin, FS, Armesto, JJ, Berlow, E, ...</td>\n",
       "      <td>188209</td>\n",
       "      <td>Biodiversity - Global biodiversity scenarios f...</td>\n",
       "      <td>3272</td>\n",
       "    </tr>\n",
       "    <tr>\n",
       "      <th>10</th>\n",
       "      <td>2000</td>\n",
       "      <td>Hewitt, G</td>\n",
       "      <td>334683</td>\n",
       "      <td>The genetic legacy of the Quaternary ice ages</td>\n",
       "      <td>3265</td>\n",
       "    </tr>\n",
       "    <tr>\n",
       "      <th>11</th>\n",
       "      <td>2000</td>\n",
       "      <td>Guisan, A, Zimmermann, NE</td>\n",
       "      <td>680414</td>\n",
       "      <td>Predictive habitat distribution models in ecology</td>\n",
       "      <td>3062</td>\n",
       "    </tr>\n",
       "    <tr>\n",
       "      <th>12</th>\n",
       "      <td>2006</td>\n",
       "      <td>Elith, J, Graham, CH, Anderson, RP, Dudik, M, ...</td>\n",
       "      <td>564695</td>\n",
       "      <td>Novel methods improve prediction of species' d...</td>\n",
       "      <td>3012</td>\n",
       "    </tr>\n",
       "    <tr>\n",
       "      <th>13</th>\n",
       "      <td>2006</td>\n",
       "      <td>Parmesan, C</td>\n",
       "      <td>161254</td>\n",
       "      <td>Ecological and evolutionary responses to recen...</td>\n",
       "      <td>2985</td>\n",
       "    </tr>\n",
       "  </tbody>\n",
       "</table>\n",
       "</div>"
      ],
      "text/plain": [
       "      PY                                            authors      id  \\\n",
       "0   2005  Arico, AS, Bruce, P, Scrosati, B, Tarascon, JM...  671811   \n",
       "1   2002  Walther, GR, Post, E, Convey, P, Menzel, A, Pa...  536594   \n",
       "2   2006           Phillips, SJ, Anderson, RP, Schapire, RE  461474   \n",
       "3   2003                               Parmesan, C, Yohe, G  578042   \n",
       "4   2001  Zachos, J, Pagani, M, Sloan, L, Thomas, E, Bil...   42709   \n",
       "5   2007                               Chisti, Y, Chisti, Y   69164   \n",
       "6   2003  Rayner, NA, Parker, DE, Horton, EB, Folland, C...  408552   \n",
       "7   1997  Mantua, NJ, Hare, SR, Zhang, Y, Wallace, JM, F...   25916   \n",
       "8   1992                                          LEVIN, SA   94906   \n",
       "9   2000  Sala, OE, Chapin, FS, Armesto, JJ, Berlow, E, ...  188209   \n",
       "10  2000                                          Hewitt, G  334683   \n",
       "11  2000                          Guisan, A, Zimmermann, NE  680414   \n",
       "12  2006  Elith, J, Graham, CH, Anderson, RP, Dudik, M, ...  564695   \n",
       "13  2006                                        Parmesan, C  161254   \n",
       "\n",
       "                                                title  wosarticle__tc  \n",
       "0   Nanostructured materials for advanced energy c...            4501  \n",
       "1       Ecological responses to recent climate change            4476  \n",
       "2   Maximum entropy modeling of species geographic...            4407  \n",
       "3   A globally coherent fingerprint of climate cha...            4300  \n",
       "4   Trends, rhythms, and aberrations in global cli...            4127  \n",
       "5                           Biodiesel from microalgae            3525  \n",
       "6   Global analyses of sea surface temperature, se...            3479  \n",
       "7   A Pacific interdecadal climate oscillation wit...            3368  \n",
       "8         THE PROBLEM OF PATTERN AND SCALE IN ECOLOGY            3302  \n",
       "9   Biodiversity - Global biodiversity scenarios f...            3272  \n",
       "10      The genetic legacy of the Quaternary ice ages            3265  \n",
       "11  Predictive habitat distribution models in ecology            3062  \n",
       "12  Novel methods improve prediction of species' d...            3012  \n",
       "13  Ecological and evolutionary responses to recen...            2985  "
      ]
     },
     "execution_count": 2,
     "metadata": {},
     "output_type": "execute_result"
    }
   ],
   "source": [
    "hot_doc_tab = pd.DataFrame.from_dict(list(hot_docs.values('id','title','authors','wosarticle__tc','PY')))\n",
    "\n",
    "hot_doc_tab.head(14)"
   ]
  },
  {
   "cell_type": "code",
   "execution_count": 3,
   "metadata": {
    "collapsed": false,
    "deletable": true,
    "editable": true
   },
   "outputs": [
    {
     "data": {
      "text/html": [
       "<div>\n",
       "<style scoped>\n",
       "    .dataframe tbody tr th:only-of-type {\n",
       "        vertical-align: middle;\n",
       "    }\n",
       "\n",
       "    .dataframe tbody tr th {\n",
       "        vertical-align: top;\n",
       "    }\n",
       "\n",
       "    .dataframe thead th {\n",
       "        text-align: right;\n",
       "    }\n",
       "</style>\n",
       "<table border=\"1\" class=\"dataframe\">\n",
       "  <thead>\n",
       "    <tr style=\"text-align: right;\">\n",
       "      <th></th>\n",
       "      <th>wosarticle__tc</th>\n",
       "    </tr>\n",
       "  </thead>\n",
       "  <tbody>\n",
       "    <tr>\n",
       "      <th>0</th>\n",
       "      <td>2</td>\n",
       "    </tr>\n",
       "    <tr>\n",
       "      <th>1</th>\n",
       "      <td>212</td>\n",
       "    </tr>\n",
       "    <tr>\n",
       "      <th>2</th>\n",
       "      <td>3</td>\n",
       "    </tr>\n",
       "    <tr>\n",
       "      <th>3</th>\n",
       "      <td>4</td>\n",
       "    </tr>\n",
       "    <tr>\n",
       "      <th>4</th>\n",
       "      <td>23</td>\n",
       "    </tr>\n",
       "  </tbody>\n",
       "</table>\n",
       "</div>"
      ],
      "text/plain": [
       "   wosarticle__tc\n",
       "0               2\n",
       "1             212\n",
       "2               3\n",
       "3               4\n",
       "4              23"
      ]
     },
     "execution_count": 3,
     "metadata": {},
     "output_type": "execute_result"
    }
   ],
   "source": [
    "tcs = Doc.objects.filter(\n",
    "    query=stat.query,wosarticle__tc__isnull=False,\n",
    "    #wosarticle__tc__gt=0\n",
    ").values('wosarticle__tc')\n",
    "\n",
    "tcs = pd.DataFrame(list(tcs))\n",
    "tcs.head()"
   ]
  },
  {
   "cell_type": "code",
   "execution_count": 4,
   "metadata": {
    "collapsed": false,
    "deletable": true,
    "editable": true
   },
   "outputs": [
    {
     "data": {
      "text/html": [
       "<div>\n",
       "<style scoped>\n",
       "    .dataframe tbody tr th:only-of-type {\n",
       "        vertical-align: middle;\n",
       "    }\n",
       "\n",
       "    .dataframe tbody tr th {\n",
       "        vertical-align: top;\n",
       "    }\n",
       "\n",
       "    .dataframe thead th {\n",
       "        text-align: right;\n",
       "    }\n",
       "</style>\n",
       "<table border=\"1\" class=\"dataframe\">\n",
       "  <thead>\n",
       "    <tr style=\"text-align: right;\">\n",
       "      <th></th>\n",
       "      <th>wosarticle__tc</th>\n",
       "      <th>log_IPCC</th>\n",
       "    </tr>\n",
       "  </thead>\n",
       "  <tbody>\n",
       "    <tr>\n",
       "      <th>0</th>\n",
       "      <td>159</td>\n",
       "      <td>5.075174</td>\n",
       "    </tr>\n",
       "    <tr>\n",
       "      <th>1</th>\n",
       "      <td>159</td>\n",
       "      <td>5.075174</td>\n",
       "    </tr>\n",
       "    <tr>\n",
       "      <th>2</th>\n",
       "      <td>11</td>\n",
       "      <td>2.484907</td>\n",
       "    </tr>\n",
       "    <tr>\n",
       "      <th>3</th>\n",
       "      <td>11</td>\n",
       "      <td>2.484907</td>\n",
       "    </tr>\n",
       "    <tr>\n",
       "      <th>4</th>\n",
       "      <td>48</td>\n",
       "      <td>3.891820</td>\n",
       "    </tr>\n",
       "  </tbody>\n",
       "</table>\n",
       "</div>"
      ],
      "text/plain": [
       "   wosarticle__tc  log_IPCC\n",
       "0             159  5.075174\n",
       "1             159  5.075174\n",
       "2              11  2.484907\n",
       "3              11  2.484907\n",
       "4              48  3.891820"
      ]
     },
     "execution_count": 4,
     "metadata": {},
     "output_type": "execute_result"
    }
   ],
   "source": [
    "iptcs = Doc.objects.filter(\n",
    "    query=stat.query,wosarticle__tc__isnull=False,\n",
    "    ipccref__isnull=False\n",
    ").values('wosarticle__tc')\n",
    "iptcs = pd.DataFrame(list(iptcs))\n",
    "iptcs['log_IPCC'] = np.log1p(iptcs['wosarticle__tc'])\n",
    "iptcs.head()"
   ]
  },
  {
   "cell_type": "code",
   "execution_count": 5,
   "metadata": {
    "collapsed": false,
    "deletable": true,
    "editable": true
   },
   "outputs": [
    {
     "data": {
      "image/png": "[encoded data removed]",
      "text/plain": [
       "<matplotlib.figure.Figure at 0x7f9dfebbcc18>"
      ]
     },
     "metadata": {},
     "output_type": "display_data"
    }
   ],
   "source": [
    "#iptcs['wosarticle__tc'].hist(bins=1000)\n",
    "\n",
    "#tcs['wosarticle__tc'].hist(bins=1000)\n",
    "\n",
    "plt.hist([iptcs['wosarticle__tc'],tcs['wosarticle__tc']],1000,label=['IPCC','all'])\n",
    "\n",
    "plt.xscale('log')\n",
    "plt.yscale('log')\n",
    "\n",
    "plt.show()"
   ]
  },
  {
   "cell_type": "code",
   "execution_count": 79,
   "metadata": {
    "collapsed": false,
    "deletable": true,
    "editable": true
   },
   "outputs": [
    {
     "data": {
      "image/png": "[encoded data removed]",
      "text/plain": [
       "<matplotlib.figure.Figure at 0x7f9df7fd5da0>"
      ]
     },
     "metadata": {},
     "output_type": "display_data"
    }
   ],
   "source": [
    "from matplotlib import transforms\n",
    "\n",
    "# first of all, the base transformation of the data points is needed\n",
    "base = plt.gca().transData\n",
    "rot = transforms.Affine2D().rotate_deg(90)\n",
    "\n",
    "tcs['wosarticle__tc'].plot.density()#transform = rot + base)\n",
    "\n",
    "iptcs['wosarticle__tc'].plot.density()#transform = rot + base)\n",
    "\n",
    "plt.xscale('log')\n",
    "\n",
    "plt.show()"
   ]
  },
  {
   "cell_type": "code",
   "execution_count": 51,
   "metadata": {
    "collapsed": false,
    "deletable": true,
    "editable": true
   },
   "outputs": [
    {
     "data": {
      "image/png": "[encoded data removed]",
      "text/plain": [
       "<matplotlib.figure.Figure at 0x7f9df802ec18>"
      ]
     },
     "metadata": {},
     "output_type": "display_data"
    }
   ],
   "source": [
    "import seaborn as sns\n",
    "\n",
    "#sns.distplot([iptcs['wosarticle__tc'],tcs['wosarticle__tc']], hist=False, kde=True, \n",
    "             \n",
    "sns.distplot(tcs['wosarticle__tc'], hist=False, \n",
    "             kde_kws = {\n",
    "                 'clip':[0,50000],\n",
    "             },\n",
    "             kde=True, \n",
    "             color = 'blue'#,\n",
    "             #kde_kws={'bw':100}\n",
    "            )\n",
    "\n",
    "#sns.distplot(iptcs['wosarticle__tc'], hist=False, \n",
    "#             kde_kws = {\n",
    "#                 'clip':[0,5000],\n",
    "#             },\n",
    "#             color = 'blue',\n",
    "#             #kde_kws={'bw':100}\n",
    "#            )\n",
    "# Add labels\n",
    "#plt.title('Histogram of Arrival Delays')\n",
    "#plt.xlabel('Delay (min)')\n",
    "#plt.ylabel('Flights')\n",
    "\n",
    "plt.xscale('log')\n",
    "\n",
    "plt.show()"
   ]
  },
  {
   "cell_type": "code",
   "execution_count": 55,
   "metadata": {
    "collapsed": true
   },
   "outputs": [],
   "source": []
  },
  {
   "cell_type": "code",
   "execution_count": 65,
   "metadata": {
    "collapsed": false,
    "deletable": true,
    "editable": true
   },
   "outputs": [
    {
     "data": {
      "image/png": "[encoded data removed]",
      "text/plain": [
       "<matplotlib.figure.Figure at 0x7f9dfcf2b6d8>"
      ]
     },
     "metadata": {},
     "output_type": "display_data"
    }
   ],
   "source": [
    "sns.kdeplot(\n",
    "    tcs['wosarticle__tc'],\n",
    "    bw='scott'\n",
    ")\n",
    "plt.xscale('log')\n",
    "plt.show()"
   ]
  },
  {
   "cell_type": "code",
   "execution_count": 80,
   "metadata": {
    "collapsed": false,
    "deletable": true,
    "editable": true
   },
   "outputs": [],
   "source": [
    "from scipy import stats\n",
    "x = range(0,6000)\n",
    "\n",
    "ip_density = stats.gaussian_kde(iptcs['wosarticle__tc']).pdf(x)\n",
    "all_density = stats.gaussian_kde(tcs['wosarticle__tc']).pdf(x)\n"
   ]
  },
  {
   "cell_type": "code",
   "execution_count": 102,
   "metadata": {
    "collapsed": false
   },
   "outputs": [
    {
     "data": {
      "image/png": "[encoded data removed]",
      "text/plain": [
       "<matplotlib.figure.Figure at 0x7f9dfaebdd68>"
      ]
     },
     "metadata": {},
     "output_type": "display_data"
    }
   ],
   "source": [
    "plt.rcParams[\"figure.figsize\"] = [3,7.5]\n",
    "\n",
    "fig, ax = plt.subplots()\n",
    "\n",
    "p1, = ax.plot(all_density,x, label=\"All Documents\")\n",
    "ax.fill_betweenx(x,0,all_density,alpha=0.2)\n",
    "p2, = ax.plot(ip_density,x, label=\"Cited in IPCC\")\n",
    "ax.fill_betweenx(x,0,ip_density,alpha=0.2)\n",
    "\n",
    "plt.legend(handles=[p1,p2])\n",
    "\n",
    "ax.invert_yaxis()\n",
    "\n",
    "plt.yscale('log')\n",
    "\n",
    "plt.show()"
   ]
  },
  {
   "cell_type": "code",
   "execution_count": null,
   "metadata": {
    "collapsed": false,
    "deletable": true,
    "editable": true
   },
   "outputs": [],
   "source": []
  },
  {
   "cell_type": "code",
   "execution_count": null,
   "metadata": {
    "collapsed": false
   },
   "outputs": [],
   "source": []
  },
  {
   "cell_type": "code",
   "execution_count": null,
   "metadata": {
    "collapsed": true
   },
   "outputs": [],
   "source": []
  },
  {
   "cell_type": "code",
   "execution_count": null,
   "metadata": {
    "collapsed": false,
    "deletable": true,
    "editable": true
   },
   "outputs": [],
   "source": []
  },
  {
   "cell_type": "code",
   "execution_count": null,
   "metadata": {
    "collapsed": false,
    "deletable": true,
    "editable": true
   },
   "outputs": [],
   "source": []
  },
  {
   "cell_type": "code",
   "execution_count": null,
   "metadata": {
    "collapsed": false,
    "deletable": true,
    "editable": true
   },
   "outputs": [],
   "source": []
  }
 ],
 "metadata": {
  "kernelspec": {
   "display_name": "tmvenv",
   "language": "python",
   "name": "tmvenv"
  },
  "language_info": {
   "codemirror_mode": {
    "name": "ipython",
    "version": 3
   },
   "file_extension": ".py",
   "mimetype": "text/x-python",
   "name": "python",
   "nbconvert_exporter": "python",
   "pygments_lexer": "ipython3",
   "version": "3.4.3"
  }
 },
 "nbformat": 4,
 "nbformat_minor": 2
}
