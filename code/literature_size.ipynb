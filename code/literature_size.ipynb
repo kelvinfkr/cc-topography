{
 "cells": [
  {
   "cell_type": "code",
   "execution_count": 17,
   "metadata": {
    "collapsed": false,
    "deletable": true,
    "editable": true
   },
   "outputs": [],
   "source": [
    "import os, sys, time, resource, re, gc, shutil\n",
    "from multiprocess import Pool\n",
    "from functools import partial\n",
    "from urllib.parse import urlparse, parse_qsl\n",
    "import matplotlib\n",
    "matplotlib.use('pgf')\n",
    "import matplotlib.pyplot as plt\n",
    "import numpy as np\n",
    "import pandas as pd\n",
    "import django\n",
    "sys.path.append('/home/galm/software/django/tmv/BasicBrowser/')\n",
    "os.environ.setdefault(\"DJANGO_SETTINGS_MODULE\", \"BasicBrowser.settings\")\n",
    "django.setup()\n",
    "\n",
    "from scoping.models import *\n",
    "\n",
    "from sklearn.feature_extraction.text import CountVectorizer, TfidfVectorizer\n",
    "from sklearn.preprocessing import normalize\n",
    "\n",
    "pgf_with_latex = {\n",
    "    \"text.usetex\": True,            # use LaTeX to write all text\n",
    "    \"pgf.rcfonts\": False,           # Ignore Matplotlibrc\n",
    "    \"text.latex.unicode\": True,\n",
    "    \"pgf.preamble\": [\n",
    "        #r\"\\usepackage[utf8x]{inputenc}\",\n",
    "        r\"\\usepackage{xcolor}\"\n",
    "    ],\n",
    "    \"pgf.texsystem\" : \"xelatex\",\n",
    "    \"figure.figsize\": [3.5,5]\n",
    "}\n",
    "matplotlib.rcParams.update(pgf_with_latex)"
   ]
  },
  {
   "cell_type": "code",
   "execution_count": 2,
   "metadata": {
    "collapsed": false,
    "deletable": true,
    "editable": true
   },
   "outputs": [],
   "source": [
    "import nltk\n",
    "from nltk.stem import SnowballStemmer\n",
    "import string\n",
    "\n",
    "stoplist = set(nltk.corpus.stopwords.words(\"english\"))\n",
    "stoplist.add('elsevier')\n",
    "stoplist.add('rights')\n",
    "stoplist.add('reserved')\n",
    "stoplist.add('john')\n",
    "stoplist.add('wiley')\n",
    "stoplist.add('sons')\n",
    "stoplist.add('copyright')\n",
    "\n",
    "def tokenize(text):\n",
    "    tokens = nltk.word_tokenize(text)\n",
    "    tokens = [i for i in tokens if i not in string.punctuation]\n",
    "    return tokens\n",
    "\n",
    "class snowball_stemmer(object):\n",
    "    def __init__(self):\n",
    "        self.stemmer = SnowballStemmer(\"english\")\n",
    "    def __call__(self, doc):\n",
    "        return [self.stemmer.stem(t) for t in tokenize(doc)]\n",
    "\n",
    "tfidf_vectorizer = TfidfVectorizer(max_df=0.95, min_df=2,\n",
    "                                   tokenizer=snowball_stemmer(),\n",
    "                                   stop_words=stoplist)\n",
    "\n",
    "c_vectorizer = CountVectorizer(max_df=0.95, min_df=2, stop_words=stoplist, tokenizer=snowball_stemmer())\n",
    "\n"
   ]
  },
  {
   "cell_type": "code",
   "execution_count": 3,
   "metadata": {
    "collapsed": false,
    "deletable": true,
    "editable": true
   },
   "outputs": [
    {
     "name": "stdout",
     "output_type": "stream",
     "text": [
      "(1848, 2834)\n",
      "(6941, 13279)\n",
      "(18728, 26657)\n",
      "(44000, 49955)\n",
      "(108277, 92369)\n",
      "(128357, 108102)\n"
     ]
    }
   ],
   "source": [
    "all_ys = range(0,100000)\n",
    "q = Query.objects.get(pk=2355)\n",
    "X = []\n",
    "ars = AR.objects.filter(ar__gt=0)\n",
    "for ar in ars:\n",
    "    abstracts = []\n",
    "    ys = range(ar.start,ar.end+1)\n",
    "    ydocs = Doc.objects.filter(query=q,PY__in=ys)\n",
    "    abdocs = ydocs.filter(content__iregex='\\w')\n",
    "    tidocs = ydocs.exclude(content__iregex='\\w')\n",
    "    #ydocs = Doc.objects.filter(query=q,PY__in=ys,content__iregex='\\w')\n",
    "    #ydocs = Doc.objects.filter(query=q,PY__in=ys)#,content__iregex='\\w')\n",
    "    abstracts = list(abdocs.values_list('content',flat=True)) + list(tidocs.values_list('title',flat=True))\n",
    "    X_y = c_vectorizer.fit_transform(abstracts)\n",
    "    X.append(X_y)\n",
    "    print(X_y.shape)"
   ]
  },
  {
   "cell_type": "code",
   "execution_count": null,
   "metadata": {
    "collapsed": false,
    "deletable": true,
    "editable": true
   },
   "outputs": [],
   "source": []
  },
  {
   "cell_type": "code",
   "execution_count": 4,
   "metadata": {
    "collapsed": false,
    "deletable": true,
    "editable": true
   },
   "outputs": [
    {
     "data": {
      "text/plain": [
       "<QuerySet [{'name': 'AR0', 'start': 0, 'ar': 0, 'end': 1984, 'id': 6}, {'name': 'AR1', 'start': 1985, 'ar': 1, 'end': 1990, 'id': 1}, {'name': 'AR2', 'start': 1991, 'ar': 2, 'end': 1994, 'id': 2}, {'name': 'AR3', 'start': 1995, 'ar': 3, 'end': 2000, 'id': 3}, {'name': 'AR4', 'start': 2001, 'ar': 4, 'end': 2007, 'id': 4}, {'name': 'AR5', 'start': 2008, 'ar': 5, 'end': 2013, 'id': 5}, {'name': 'AR6', 'start': 2014, 'ar': 6, 'end': 9998, 'id': 7}]>"
      ]
     },
     "execution_count": 4,
     "metadata": {},
     "output_type": "execute_result"
    }
   ],
   "source": [
    "AR.objects.values()"
   ]
  },
  {
   "cell_type": "code",
   "execution_count": 5,
   "metadata": {
    "collapsed": false,
    "deletable": true,
    "editable": true
   },
   "outputs": [],
   "source": [
    "import codecs\n",
    "import re\n",
    "bible = []\n",
    "i=0\n",
    "clines=\"\"\n",
    "corpus = []\n",
    "lchapter=\"none\"\n",
    "with codecs.open('/home/galm/projects/big_literature/py/Martin_Luther_Uebersetzung_1912.txt',encoding = \"ISO-8859-1\") as ml:\n",
    "    for line in ml:\n",
    "        chapter = line.split(':')[0]\n",
    "        try:\n",
    "            verse = re.search(\".*([0-9]+\\:[0-9]*)(.*)\",line).group(2).strip()\n",
    "        except:\n",
    "            corpus.append(str(clines))\n",
    "            break\n",
    "        if lchapter!=chapter and i > 0:\n",
    "            corpus.append(str(clines))\n",
    "            clines=verse            \n",
    "        else:\n",
    "            clines+=\" \"+verse\n",
    "            #print('\\n')\n",
    "        lchapter = chapter\n",
    "        i+=1\n",
    "        \n",
    "X_y = c_vectorizer.fit_transform(corpus)\n",
    "X.append(X_y)"
   ]
  },
  {
   "cell_type": "code",
   "execution_count": 20,
   "metadata": {
    "collapsed": false,
    "deletable": true,
    "editable": true
   },
   "outputs": [
    {
     "name": "stdout",
     "output_type": "stream",
     "text": [
      "#8dd3c7\n",
      "0.26106256071014744\n",
      "#ffffb3\n",
      "0.26469409500636126\n",
      "#bebada\n",
      "0.29105686163912314\n",
      "#fb8072\n",
      "0.33736081753188196\n",
      "#80b1d3\n",
      "0.41035679812605236\n",
      "#fdb462\n",
      "0.43180147447054457\n",
      "grey\n",
      "0.9392784910599727\n"
     ]
    }
   ],
   "source": [
    "ind = np.arange(1)\n",
    "\n",
    "\n",
    "def vvrect(X,col_x,m):\n",
    "    return plt.bar(ind+X.shape[1]/2,X.shape[0],width=X.shape[1],facecolor=col_x,edgecolor='black',alpha=m)#,alpha=m)\n",
    "\n",
    "means = [x.getnnz(0).mean()/x.shape[0]*100 for x in X]\n",
    "nmeans = normalize([means])[0]\n",
    "\n",
    "crange = ['#fbb4ae','#b3cde3','#ccebc5','#decbe4','#fed9a6','#ffffcc']\n",
    "\n",
    "crange = [\"#D53E4F\", \"#FC8D59\", \"#FEE08B\", \"#E6F598\", \"#99D594\", \"#3288BD\"]\n",
    "\n",
    "crange = [\"#8dd3c7\",\"#ffffb3\",\"#bebada\",\"#fb8072\",\"#80b1d3\",\"#fdb462\",\"grey\"]\n",
    "\n",
    "years = [x.name for x in ars] + [\"Bible\"]\n",
    "\n",
    "fig = plt.figure()\n",
    "\n",
    "plots = []\n",
    "lvalues = []\n",
    "for x in [5,4,3,2,1,0,6]:\n",
    "    a = (nmeans[x]+0.3)/1.3\n",
    "    #a = nmeans[x]\n",
    "    vvrect(X[x], \"None\",1)\n",
    "    vvrect(X[x], \"white\",1)\n",
    "    p = vvrect(X[x], crange[x] ,a)\n",
    "    plots.append(p[0])\n",
    "    lvalues.append(years[x] + \": \" + str(round(means[x],2)))\n",
    "    print(crange[5-x])\n",
    "    print(a)\n",
    "    \n",
    "plt.legend(plots,lvalues,title='% of documents mean\\nterm appears in')\n",
    "    \n",
    "plt.axis('equal')\n",
    "plt.ylabel('Documents')\n",
    "plt.xlabel('Words')\n",
    "fig.patch.set_facecolor('#f0f0f0')    \n",
    "#plt.tight_layout()\n",
    "\n",
    "plt.savefig(\n",
    "    '../plots/literature_size/volume_variety.pdf',\n",
    "    bbox_inches='tight',\n",
    "    facecolor=fig.get_facecolor(),\n",
    ")\n",
    "\n",
    "plt.show()\n"
   ]
  },
  {
   "cell_type": "code",
   "execution_count": 7,
   "metadata": {
    "collapsed": false,
    "deletable": true,
    "editable": true
   },
   "outputs": [
    {
     "data": {
      "text/html": [
       "<div>\n",
       "<style scoped>\n",
       "    .dataframe tbody tr th:only-of-type {\n",
       "        vertical-align: middle;\n",
       "    }\n",
       "\n",
       "    .dataframe tbody tr th {\n",
       "        vertical-align: top;\n",
       "    }\n",
       "\n",
       "    .dataframe thead th {\n",
       "        text-align: right;\n",
       "    }\n",
       "</style>\n",
       "<table border=\"1\" class=\"dataframe\">\n",
       "  <thead>\n",
       "    <tr style=\"text-align: right;\">\n",
       "      <th></th>\n",
       "      <th>Documents</th>\n",
       "      <th>Terms</th>\n",
       "      <th>Average Document score per Term</th>\n",
       "    </tr>\n",
       "  </thead>\n",
       "  <tbody>\n",
       "    <tr>\n",
       "      <th>AR1</th>\n",
       "      <td>1848</td>\n",
       "      <td>2834</td>\n",
       "      <td>0.580116</td>\n",
       "    </tr>\n",
       "    <tr>\n",
       "      <th>AR2</th>\n",
       "      <td>6941</td>\n",
       "      <td>13279</td>\n",
       "      <td>0.518233</td>\n",
       "    </tr>\n",
       "    <tr>\n",
       "      <th>AR3</th>\n",
       "      <td>18728</td>\n",
       "      <td>26657</td>\n",
       "      <td>0.307590</td>\n",
       "    </tr>\n",
       "    <tr>\n",
       "      <th>AR4</th>\n",
       "      <td>44000</td>\n",
       "      <td>49955</td>\n",
       "      <td>0.173971</td>\n",
       "    </tr>\n",
       "    <tr>\n",
       "      <th>AR5</th>\n",
       "      <td>108277</td>\n",
       "      <td>92369</td>\n",
       "      <td>0.097896</td>\n",
       "    </tr>\n",
       "    <tr>\n",
       "      <th>AR6</th>\n",
       "      <td>128357</td>\n",
       "      <td>108102</td>\n",
       "      <td>0.087417</td>\n",
       "    </tr>\n",
       "    <tr>\n",
       "      <th>Bible</th>\n",
       "      <td>1189</td>\n",
       "      <td>10662</td>\n",
       "      <td>2.044534</td>\n",
       "    </tr>\n",
       "  </tbody>\n",
       "</table>\n",
       "</div>"
      ],
      "text/plain": [
       "       Documents   Terms  Average Document score per Term\n",
       "AR1         1848    2834                         0.580116\n",
       "AR2         6941   13279                         0.518233\n",
       "AR3        18728   26657                         0.307590\n",
       "AR4        44000   49955                         0.173971\n",
       "AR5       108277   92369                         0.097896\n",
       "AR6       128357  108102                         0.087417\n",
       "Bible       1189   10662                         2.044534"
      ]
     },
     "execution_count": 7,
     "metadata": {},
     "output_type": "execute_result"
    }
   ],
   "source": [
    "tab = pd.DataFrame([(x.shape[0],x.shape[1]) for x in X]).rename({0:'Documents',1:'Terms'},axis=\"columns\")\n",
    "tab.index = years\n",
    "tab['Average Document score per Term'] = means\n",
    "tab"
   ]
  },
  {
   "cell_type": "code",
   "execution_count": 8,
   "metadata": {
    "collapsed": false,
    "deletable": true,
    "editable": true
   },
   "outputs": [
    {
     "name": "stdout",
     "output_type": "stream",
     "text": [
      "[]\n",
      "(-1000.0, 119102.0)\n",
      "[0]\n",
      "(-1000.0, 119102.0)\n",
      "[1, 0]\n",
      "(-1000.0, 119102.0)\n",
      "[2, 1, 0]\n",
      "(-1000.0, 119102.0)\n",
      "[3, 2, 1, 0]\n",
      "(-1000.0, 119102.0)\n",
      "[4, 3, 2, 1, 0]\n",
      "(-1000.0, 119102.0)\n",
      "[5, 4, 3, 2, 1, 0]\n",
      "(-1000.0, 119102.0)\n"
     ]
    }
   ],
   "source": [
    "\n",
    "\n",
    "\n",
    "shape = [(x+6000)/10000 for x in list(X[5].shape)[::1]]\n",
    "\n",
    "#plt.rcParams[\"figure.figsize\"] = tuple([round(x) for x in shape[::1]])\n",
    "\n",
    "#plt.rcParams[\"figure.figsize\"] = (9.5,13)\n",
    "\n",
    "xs = [5,4,3,2,1,0,6]\n",
    "\n",
    "for ar in AR.objects.all():\n",
    "    \n",
    "    iprs = IPCCRef.objects.filter(ar=ar).count()\n",
    "    \n",
    "    plots = []\n",
    "    lvalues = []\n",
    "\n",
    "    ar_xs = [x for x in xs if ar.ar > x ]\n",
    "    print(ar_xs)\n",
    "    #continue\n",
    "    for x in ar_xs:\n",
    "        a = (nmeans[x]+0.1)/1.1\n",
    "        #a = nmeans[x]\n",
    "        vvrect(X[x], \"None\",1)\n",
    "        vvrect(X[x], \"white\",1)\n",
    "        p = vvrect(X[x], crange[x] ,a)\n",
    "        plots.append(p[0])\n",
    "        lvalues.append(years[x] + \": \" + str(round(means[x],2)))\n",
    "        ar = AR.objects.get(ar=x+1)\n",
    "        iprs = IPCCRef.objects.filter(ar=ar).count()\n",
    "        xtent = shape[1]*10000+5000+1000\n",
    "        #plt.axhline(iprs,xmin=1/xtent*1000,xmax=1/xtent*(X[x].shape[1]+1000))\n",
    "    \n",
    "    plt.legend(plots,lvalues,title='% of documents mean term appears in')\n",
    "    \n",
    "    #plt.axis('equal')\n",
    "\n",
    "    #plt.ylim((-1000,130000))\n",
    "    #plt.ylim(ymin=-1000)\n",
    "    #plt.xlim((-1000,100000))\n",
    "    plt.xlim((-1000,shape[1]*10000+5000))\n",
    "    plt.ylim((-1000,shape[0]*10000+5000))\n",
    "    #plt.ylim(ymax=shape[0]*10000)\n",
    "    #plt.xlim(xmax=shape[1]*10000)\n",
    "    plt.ylabel('Documents')\n",
    "    plt.xlabel('Words')\n",
    "    plt.savefig('../plots/literature_size/volume_variety_{}.pdf'.format(ar.name),bbox_inches='tight')\n",
    "    \n",
    "    print(plt.xlim())\n",
    "\n",
    "    plt.show()\n"
   ]
  },
  {
   "cell_type": "code",
   "execution_count": null,
   "metadata": {
    "collapsed": true,
    "deletable": true,
    "editable": true
   },
   "outputs": [],
   "source": []
  },
  {
   "cell_type": "code",
   "execution_count": 9,
   "metadata": {
    "collapsed": false,
    "deletable": true,
    "editable": true
   },
   "outputs": [
    {
     "name": "stdout",
     "output_type": "stream",
     "text": [
      "[0, 6]\n",
      "#fdb462\n",
      "0.32849265164700725\n",
      "grey\n",
      "0.9282382167072406\n",
      "(-1000.0, 119102.0)\n",
      "[1, 0, 6]\n",
      "#80b1d3\n",
      "0.30314894323988\n",
      "#fdb462\n",
      "0.32849265164700725\n",
      "grey\n",
      "0.9282382167072406\n",
      "(-1000.0, 119102.0)\n",
      "[2, 1, 0, 6]\n",
      "#fb8072\n",
      "0.21688096617404234\n",
      "#80b1d3\n",
      "0.30314894323988\n",
      "#fdb462\n",
      "0.32849265164700725\n",
      "grey\n",
      "0.9282382167072406\n",
      "(-1000.0, 119102.0)\n",
      "[3, 2, 1, 0, 6]\n",
      "#bebada\n",
      "0.1621581092098728\n",
      "#fb8072\n",
      "0.21688096617404234\n",
      "#80b1d3\n",
      "0.30314894323988\n",
      "#fdb462\n",
      "0.32849265164700725\n",
      "grey\n",
      "0.9282382167072406\n",
      "(-1000.0, 119102.0)\n",
      "[4, 3, 2, 1, 0, 6]\n",
      "#ffffb3\n",
      "0.13100211228024514\n",
      "#bebada\n",
      "0.1621581092098728\n",
      "#fb8072\n",
      "0.21688096617404234\n",
      "#80b1d3\n",
      "0.30314894323988\n",
      "#fdb462\n",
      "0.32849265164700725\n",
      "grey\n",
      "0.9282382167072406\n",
      "(-1000.0, 119102.0)\n",
      "[5, 4, 3, 2, 1, 0, 6]\n",
      "#8dd3c7\n",
      "0.12671029902108336\n",
      "#ffffb3\n",
      "0.13100211228024514\n",
      "#bebada\n",
      "0.1621581092098728\n",
      "#fb8072\n",
      "0.21688096617404234\n",
      "#80b1d3\n",
      "0.30314894323988\n",
      "#fdb462\n",
      "0.32849265164700725\n",
      "grey\n",
      "0.9282382167072406\n",
      "(-1000.0, 119102.0)\n"
     ]
    }
   ],
   "source": [
    "for ar in ars:\n",
    "    plots = []\n",
    "    lvalues = []\n",
    "\n",
    "    ar_xs = [x for x in xs if ar.ar > x or x ==6]\n",
    "    print(ar_xs)\n",
    "    #continue\n",
    "    for x in ar_xs:\n",
    "        a = (nmeans[x]+0.1)/1.1\n",
    "        #a = nmeans[x]\n",
    "        vvrect(X[x], \"None\",1)\n",
    "        vvrect(X[x], \"white\",1)\n",
    "        p = vvrect(X[x], crange[x] ,a)\n",
    "        plots.append(p[0])\n",
    "        #lvalues.append(years[x] + \": \" + str(round(X[x].mean()*1000000/X[x].sum(),5)))\n",
    "        lvalues.append(years[x] + \": \" + str(round(means[x],2)))\n",
    "        print(crange[5-x])\n",
    "        print(a)\n",
    "    \n",
    "    plt.legend(plots,lvalues,title='% of documents mean term appears in')\n",
    "    \n",
    "    #plt.axis('equal')\n",
    "\n",
    "    #plt.ylim((-1000,130000))\n",
    "    #plt.ylim(ymin=-1000)\n",
    "    #plt.xlim((-1000,100000))\n",
    "    plt.xlim((-1000,shape[1]*10000+5000))\n",
    "    plt.ylim((-1000,shape[0]*10000+5000))\n",
    "    #plt.ylim(ymax=shape[0]*10000)\n",
    "    #plt.xlim(xmax=shape[1]*10000)\n",
    "    plt.ylabel('Documents')\n",
    "    plt.xlabel('Words')\n",
    "    plt.savefig('../plots/literatures_size/volume_variety_bible_{}.pdf'.format(ar.name),bbox_inches='tight')\n",
    "    \n",
    "    print(plt.xlim())\n",
    "\n",
    "    plt.show()\n",
    "\n"
   ]
  },
  {
   "cell_type": "code",
   "execution_count": 10,
   "metadata": {
    "collapsed": false,
    "deletable": true,
    "editable": true
   },
   "outputs": [
    {
     "data": {
      "text/plain": [
       "array([0.26134192, 0.23346384, 0.13856906, 0.07837392, 0.04410232,\n",
       "       0.03938133, 0.92106204])"
      ]
     },
     "execution_count": 10,
     "metadata": {},
     "output_type": "execute_result"
    }
   ],
   "source": [
    "means\n",
    "\n",
    "nmeans"
   ]
  },
  {
   "cell_type": "code",
   "execution_count": 11,
   "metadata": {
    "collapsed": false,
    "deletable": true,
    "editable": true
   },
   "outputs": [
    {
     "name": "stdout",
     "output_type": "stream",
     "text": [
      "169.52702077667388\n",
      "0.13207462061023076\n",
      "(128357, 108102)\n",
      "\n",
      "\n",
      "\n",
      "158.94852169017744\n",
      "0.14679804731399784\n",
      "(108277, 92369)\n",
      "\n",
      "\n",
      "\n",
      "115.27574817335602\n",
      "0.2619903367576273\n",
      "(44000, 49955)\n",
      "\n",
      "\n",
      "\n",
      "87.34006077202986\n",
      "0.4663608541864046\n",
      "(18728, 26657)\n",
      "\n",
      "\n",
      "\n",
      "52.82280292190677\n",
      "0.7610258308875777\n",
      "(6941, 13279)\n",
      "\n",
      "\n",
      "\n",
      "14.361679604798871\n",
      "0.7771471647618436\n",
      "(1848, 2834)\n",
      "\n",
      "\n",
      "\n",
      "53.88051022322266\n",
      "4.531582020456069\n",
      "(1189, 10662)\n",
      "\n",
      "\n",
      "\n"
     ]
    }
   ],
   "source": [
    "for x in xs:\n",
    "    print(X[x].sum(0).mean())\n",
    "    print(X[x].sum(0).mean()/X[x].shape[0]*100)\n",
    "    print(X[x].shape)\n",
    "    print('\\n\\n')\n",
    "    \n",
    "    "
   ]
  },
  {
   "cell_type": "code",
   "execution_count": 12,
   "metadata": {
    "collapsed": false,
    "deletable": true,
    "editable": true
   },
   "outputs": [
    {
     "name": "stdout",
     "output_type": "stream",
     "text": [
      "112.20582412906329\n",
      "0.08741698865590758\n",
      "(128357, 108102)\n",
      "\n",
      "\n",
      "\n",
      "105.99933960527883\n",
      "0.09789645040523734\n",
      "(108277, 92369)\n",
      "\n",
      "\n",
      "\n",
      "76.54727254529077\n",
      "0.17397107396656994\n",
      "(44000, 49955)\n",
      "\n",
      "\n",
      "\n",
      "57.605394455490114\n",
      "0.3075896756487084\n",
      "(18728, 26657)\n",
      "\n",
      "\n",
      "\n",
      "35.970555011672566\n",
      "0.5182330357538188\n",
      "(6941, 13279)\n",
      "\n",
      "\n",
      "\n",
      "10.720536344389556\n",
      "0.580115603051383\n",
      "(1848, 2834)\n",
      "\n",
      "\n",
      "\n",
      "24.309510410804727\n",
      "2.0445340967876136\n",
      "(1189, 10662)\n",
      "\n",
      "\n",
      "\n"
     ]
    }
   ],
   "source": [
    "for x in xs:\n",
    "    print(X[x].getnnz(0).mean())\n",
    "    print(X[x].getnnz(0).mean()/X[x].shape[0]*100)\n",
    "    print(X[x].shape)\n",
    "    print('\\n\\n')\n",
    "    "
   ]
  },
  {
   "cell_type": "code",
   "execution_count": 13,
   "metadata": {
    "collapsed": false,
    "deletable": true,
    "editable": true
   },
   "outputs": [
    {
     "data": {
      "text/plain": [
       "53.88051022322266"
      ]
     },
     "execution_count": 13,
     "metadata": {},
     "output_type": "execute_result"
    }
   ],
   "source": [
    "X_y.sum(0).mean()\n"
   ]
  }
 ],
 "metadata": {
  "kernelspec": {
   "display_name": "tmvenv",
   "language": "python",
   "name": "tmvenv"
  },
  "language_info": {
   "codemirror_mode": {
    "name": "ipython",
    "version": 3
   },
   "file_extension": ".py",
   "mimetype": "text/x-python",
   "name": "python",
   "nbconvert_exporter": "python",
   "pygments_lexer": "ipython3",
   "version": "3.4.3"
  }
 },
 "nbformat": 4,
 "nbformat_minor": 2
}
