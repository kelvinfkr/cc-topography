{
 "cells": [
  {
   "cell_type": "code",
   "execution_count": 1,
   "metadata": {
    "collapsed": true,
    "deletable": true,
    "editable": true
   },
   "outputs": [],
   "source": [
    "import os, sys, time, resource, re, gc, shutil\n",
    "from multiprocess import Pool\n",
    "from functools import partial\n",
    "\n",
    "from urllib.parse import urlparse, parse_qsl\n",
    "\n",
    "import matplotlib.pyplot as plt\n",
    "import numpy as np\n",
    "import pandas as pd\n",
    "from mongoengine.queryset.visitor import Q\n",
    "import django\n",
    "from django.db.models import Count\n",
    "sys.path.append('/home/galm/software/tmv/BasicBrowser/')\n",
    "os.environ.setdefault(\"DJANGO_SETTINGS_MODULE\", \"BasicBrowser.settings\")\n",
    "django.setup()\n",
    "\n",
    "from scoping.models import *\n"
   ]
  },
  {
   "cell_type": "code",
   "execution_count": 2,
   "metadata": {
    "collapsed": true,
    "deletable": true,
    "editable": true
   },
   "outputs": [],
   "source": [
    "wos = Query.objects.get(pk=365)\n",
    "scopus = Query.objects.get(pk=354)"
   ]
  },
  {
   "cell_type": "code",
   "execution_count": 3,
   "metadata": {
    "collapsed": false,
    "deletable": true,
    "editable": true
   },
   "outputs": [
    {
     "name": "stdout",
     "output_type": "stream",
     "text": [
      "381005\n"
     ]
    }
   ],
   "source": [
    "alldocs = Doc.objects.filter(query=wos) | Doc.objects.filter(query=scopus)\n",
    "alldocs.count()\n",
    "print(Doc.objects.filter(query=scopus).count())"
   ]
  },
  {
   "cell_type": "code",
   "execution_count": 4,
   "metadata": {
    "collapsed": false,
    "deletable": true,
    "editable": true
   },
   "outputs": [],
   "source": [
    "bypy = alldocs.values('PY').annotate(\n",
    "    only_wos = models.Sum(\n",
    "        models.Case(\n",
    "            models.When(wos=True,scopus=False,then=1),default=0, output_field=models.IntegerField()\n",
    "        )\n",
    "    )\n",
    ")\n",
    "bypy2 = alldocs.values('PY').annotate(\n",
    "    scopus = models.Sum(\n",
    "        models.Case(\n",
    "            models.When(scopus=True,wos=False,then=1),default=0, output_field=models.IntegerField()\n",
    "        )\n",
    "    )\n",
    ")\n",
    "bypy3 = alldocs.values('PY').annotate(\n",
    "    both = models.Sum(\n",
    "        models.Case(\n",
    "            models.When(scopus=True,wos=True,then=1),default=0, output_field=models.IntegerField()\n",
    "        )\n",
    "    )\n",
    ")\n",
    "\n"
   ]
  },
  {
   "cell_type": "code",
   "execution_count": 5,
   "metadata": {
    "collapsed": false,
    "deletable": true,
    "editable": true
   },
   "outputs": [],
   "source": [
    "bypy = pd.DataFrame.from_dict(list(bypy))\n",
    "bypy = bypy.merge(pd.DataFrame.from_dict(list(bypy2)))\n",
    "bypy = bypy.merge(pd.DataFrame.from_dict(list(bypy3)))\n",
    "\n",
    "\n",
    "bypy = bypy[bypy['PY']>1980]#.reset_index(drop=True)\n",
    "bypy = bypy.sort_values(by='PY', ascending=1).reset_index(drop=True)"
   ]
  },
  {
   "cell_type": "code",
   "execution_count": 6,
   "metadata": {
    "collapsed": false,
    "deletable": true,
    "editable": true
   },
   "outputs": [
    {
     "data": {
      "text/html": [
       "<div>\n",
       "<table border=\"1\" class=\"dataframe\">\n",
       "  <thead>\n",
       "    <tr style=\"text-align: right;\">\n",
       "      <th></th>\n",
       "      <th>PY</th>\n",
       "      <th>only_wos</th>\n",
       "      <th>scopus</th>\n",
       "      <th>both</th>\n",
       "      <th>AP</th>\n",
       "    </tr>\n",
       "  </thead>\n",
       "  <tbody>\n",
       "    <tr>\n",
       "      <th>0</th>\n",
       "      <td>1981</td>\n",
       "      <td>58</td>\n",
       "      <td>431</td>\n",
       "      <td>138</td>\n",
       "      <td>NA</td>\n",
       "    </tr>\n",
       "    <tr>\n",
       "      <th>1</th>\n",
       "      <td>1982</td>\n",
       "      <td>70</td>\n",
       "      <td>419</td>\n",
       "      <td>116</td>\n",
       "      <td>NA</td>\n",
       "    </tr>\n",
       "    <tr>\n",
       "      <th>2</th>\n",
       "      <td>1983</td>\n",
       "      <td>97</td>\n",
       "      <td>462</td>\n",
       "      <td>164</td>\n",
       "      <td>NA</td>\n",
       "    </tr>\n",
       "    <tr>\n",
       "      <th>3</th>\n",
       "      <td>1984</td>\n",
       "      <td>89</td>\n",
       "      <td>575</td>\n",
       "      <td>166</td>\n",
       "      <td>NA</td>\n",
       "    </tr>\n",
       "    <tr>\n",
       "      <th>4</th>\n",
       "      <td>1985</td>\n",
       "      <td>62</td>\n",
       "      <td>473</td>\n",
       "      <td>178</td>\n",
       "      <td>NA</td>\n",
       "    </tr>\n",
       "  </tbody>\n",
       "</table>\n",
       "</div>"
      ],
      "text/plain": [
       "     PY  only_wos  scopus  both  AP\n",
       "0  1981        58     431   138  NA\n",
       "1  1982        70     419   116  NA\n",
       "2  1983        97     462   164  NA\n",
       "3  1984        89     575   166  NA\n",
       "4  1985        62     473   178  NA"
      ]
     },
     "execution_count": 6,
     "metadata": {},
     "output_type": "execute_result"
    }
   ],
   "source": [
    "\n",
    "\n",
    "bypy['AP'] = pd.cut(bypy.PY,bins=[0,1985,1990.1,1995.1,2001.1,2007.1,2013.1,9999],labels=[\"NA\",\"AR1\",\"AR2\",\"AR3\",\"AR4\",\"AR5\",\"AR6\"])\n",
    "bypy['total'] = bypy.only_wos + bypy.scopus + bypy.both\n",
    "bypy.head(5)"
   ]
  },
  {
   "cell_type": "code",
   "execution_count": 36,
   "metadata": {
    "collapsed": false,
    "deletable": true,
    "editable": true
   },
   "outputs": [
    {
     "name": "stdout",
     "output_type": "stream",
     "text": [
      "      total                   PY        \n",
      "        sum          mean    sum    mean\n",
      "AP                                      \n",
      "NA     3498    699.600000   9915  1983.0\n",
      "AR1    6350   1270.000000   9940  1988.0\n",
      "AR2   20917   4183.400000   9965  1993.0\n",
      "AR3   48287   8047.833333  11991  1998.5\n",
      "AR4  103556  17259.333333  12027  2004.5\n",
      "AR5  265383  44230.500000  12063  2010.5\n",
      "AR6  203063  67687.666667   6045  2015.0\n"
     ]
    },
    {
     "data": {
      "image/png": "[encoded data removed]",
      "text/plain": [
       "<matplotlib.figure.Figure at 0x7fe27c604a20>"
      ]
     },
     "metadata": {},
     "output_type": "display_data"
    }
   ],
   "source": [
    "plt.rcParams[\"figure.figsize\"] = [12,8]\n",
    "\n",
    "bypy=bypy[bypy['PY']<2017]\n",
    "\n",
    "edge=\"grey\"\n",
    "color = \"white\"\n",
    "\n",
    "colors = {'NA':\"white\",'AR1':\"#D53E4F\", 'AR2':'#FC8D59', 'AR3':'#FEE08B', 'AR4':'#E6F598','AR5':'#99D594','AR6':'#3288BD'}\n",
    "\n",
    "p1 = plt.bar(bypy.PY,bypy['only_wos'],color=bypy['AP'].apply(lambda x: colors[x]),edgecolor=edge, hatch=2*\"/\")\n",
    "p2 = plt.bar(bypy.PY,bypy['both'],color=bypy['AP'].apply(lambda x: colors[x]),edgecolor=edge, hatch=2*\"x\",bottom=bypy['only_wos'])\n",
    "p3 = plt.bar(bypy.PY,bypy['scopus'],color=bypy['AP'].apply(lambda x: colors[x]),edgecolor=edge, hatch=2*\"\\\\\",bottom=bypy['only_wos']+bypy['both'])\n",
    "\n",
    "plt.legend(\n",
    "    (p2[6],p2[10],p2[15],p2[22],p2[28],p2[35],p3[0],p2[0],p1[0]),\n",
    "    ('AR1','AR2','AR3','AR4','AR5','AR6','Only Scopus','Both','Only WoS')\n",
    ")\n",
    "\n",
    "grouped = bypy[['AP','total','PY']].groupby('AP').agg([np.sum,np.mean])\n",
    "print(grouped)\n",
    "for index, row in grouped.iterrows():\n",
    "    plt.text(\n",
    "        row['PY']['mean'],\n",
    "        row['total']['mean']+1000,\n",
    "        \"[{:,.0f}]\".format(row['total']['sum']),\n",
    "        ha='right'\n",
    "    )\n",
    "\n",
    "plt.text(1986,65000,\"Total Publication Count: {:,}\".format(bypy.total.sum()))\n",
    "    #print(group.agg({}))\n",
    "    \n",
    "plt.xlabel('Publication Year')\n",
    "plt.ylabel('Number of Publications')\n",
    "\n",
    "\n",
    "plt.savefig('../plots/wos_scopus_docs_time.png',bbox_inches='tight')\n",
    "plt.show()"
   ]
  },
  {
   "cell_type": "code",
   "execution_count": 8,
   "metadata": {
    "collapsed": false,
    "deletable": true,
    "editable": true
   },
   "outputs": [
    {
     "name": "stdout",
     "output_type": "stream",
     "text": [
      "        PY  only_wos  scopus    both   total\n",
      "AP                                          \n",
      "NA    9915       528    1353     458    2339\n",
      "AR1   9940      1013    2680    1368    5061\n",
      "AR2   9965      3571    5938   11408   20917\n",
      "AR3  11991      5325   10559   31002   46886\n",
      "AR4  12027     17821   22956   43779   84556\n",
      "AR5  12063     42025   54062  132698  228785\n",
      "AR6   6045     39445   31084  105865  176394\n"
     ]
    }
   ],
   "source": [
    "bypy['total'] = bypy.only_wos + bypy.scopus + bypy.both\n",
    "byap = bypy.groupby(['AP']).sum()\n",
    "print(byap)"
   ]
  },
  {
   "cell_type": "code",
   "execution_count": 9,
   "metadata": {
    "collapsed": false,
    "deletable": true,
    "editable": true
   },
   "outputs": [
    {
     "data": {
      "text/plain": [
       "564938"
      ]
     },
     "execution_count": 9,
     "metadata": {},
     "output_type": "execute_result"
    }
   ],
   "source": [
    "bypy.total.sum()"
   ]
  },
  {
   "cell_type": "code",
   "execution_count": null,
   "metadata": {
    "collapsed": true,
    "deletable": true,
    "editable": true
   },
   "outputs": [],
   "source": []
  }
 ],
 "metadata": {
  "kernelspec": {
   "display_name": "Python 3",
   "language": "python",
   "name": "python3"
  },
  "language_info": {
   "codemirror_mode": {
    "name": "ipython",
    "version": 3
   },
   "file_extension": ".py",
   "mimetype": "text/x-python",
   "name": "python",
   "nbconvert_exporter": "python",
   "pygments_lexer": "ipython3",
   "version": "3.4.3"
  }
 },
 "nbformat": 4,
 "nbformat_minor": 2
}
