{
 "cells": [
  {
   "cell_type": "code",
   "execution_count": 1,
   "metadata": {
    "collapsed": true,
    "deletable": true,
    "editable": true
   },
   "outputs": [],
   "source": [
    "import os, sys, time, resource, re, gc, shutil\n",
    "from multiprocess import Pool\n",
    "from functools import partial\n",
    "from tabulate import tabulate\n",
    "from urllib.parse import urlparse, parse_qsl\n",
    "\n",
    "import matplotlib.pyplot as plt\n",
    "import numpy as np\n",
    "import pandas as pd\n",
    "from mongoengine.queryset.visitor import Q\n",
    "import django\n",
    "from django.db.models import Count\n",
    "sys.path.append('/home/galm/software/django/tmv/BasicBrowser/')\n",
    "os.environ.setdefault(\"DJANGO_SETTINGS_MODULE\", \"BasicBrowser.settings\")\n",
    "django.setup()\n",
    "\n",
    "from scoping.models import *\n",
    "from tmv_app.models import *\n",
    "from django.db.models import F\n",
    "from utils.tm_mgmt import *\n",
    "from run_id import *"
   ]
  },
  {
   "cell_type": "code",
   "execution_count": 2,
   "metadata": {
    "collapsed": false,
    "deletable": true,
    "editable": true
   },
   "outputs": [],
   "source": [
    "qs = Query.objects.filter(id__in=[1982,1984,1985,2009,2023,2024])\n"
   ]
  },
  {
   "cell_type": "code",
   "execution_count": 3,
   "metadata": {
    "collapsed": false,
    "deletable": true,
    "editable": true
   },
   "outputs": [
    {
     "data": {
      "text/plain": [
       "386"
      ]
     },
     "execution_count": 3,
     "metadata": {},
     "output_type": "execute_result"
    }
   ],
   "source": [
    "run_id"
   ]
  },
  {
   "cell_type": "code",
   "execution_count": 4,
   "metadata": {
    "collapsed": false,
    "deletable": true,
    "editable": true
   },
   "outputs": [
    {
     "name": "stdout",
     "output_type": "stream",
     "text": [
      "['run_517_topics_14', 'scores_517', 'similarity_517-518', 'run_518_topics_24', 'scores_518', 'similarity_518-519', 'run_519_topics_34', 'scores_519', 'similarity_519-520', 'run_520_topics_44', 'scores_520']\n",
      "C2:C47\n",
      "F2:F47\n",
      "I2:I47\n",
      "['run_521_topics_40', 'scores_521', 'similarity_521-522', 'run_522_topics_50', 'scores_522', 'similarity_522-523', 'run_523_topics_60', 'scores_523', 'similarity_523-524', 'run_524_topics_70', 'scores_524', 'similarity_524-525', 'run_525_topics_80', 'scores_525', 'similarity_525-526', 'run_526_topics_90', 'scores_526']\n",
      "C2:C103\n",
      "F2:F103\n",
      "I2:I103\n",
      "L2:L103\n",
      "O2:O103\n",
      "['run_527_topics_56', 'scores_527', 'similarity_527-528', 'run_528_topics_66', 'scores_528', 'similarity_528-529', 'run_529_topics_76', 'scores_529', 'similarity_529-530', 'run_530_topics_86', 'scores_530', 'similarity_530-531', 'run_531_topics_96', 'scores_531', 'similarity_531-532', 'run_532_topics_106', 'scores_532']\n",
      "C2:C127\n",
      "F2:F127\n",
      "I2:I127\n",
      "L2:L127\n",
      "O2:O127\n",
      "['run_534_topics_69', 'scores_534', 'similarity_534-535', 'run_535_topics_79', 'scores_535', 'similarity_535-536', 'run_536_topics_89', 'scores_536', 'similarity_536-537', 'run_537_topics_99', 'scores_537', 'similarity_537-538', 'run_538_topics_109', 'scores_538', 'similarity_538-541', 'run_541_topics_119', 'scores_541']\n",
      "C2:C145\n",
      "F2:F145\n",
      "I2:I145\n",
      "L2:L145\n",
      "O2:O145\n",
      "['run_542_topics_83', 'scores_542', 'similarity_542-543', 'run_543_topics_93', 'scores_543', 'similarity_543-544', 'run_544_topics_103', 'scores_544', 'similarity_544-546', 'run_546_topics_113', 'scores_546', 'similarity_546-547', 'run_547_topics_123', 'scores_547']\n",
      "C2:C141\n",
      "F2:F141\n",
      "I2:I141\n",
      "L2:L141\n",
      "['run_549_topics_81', 'scores_549', 'similarity_549-550', 'run_550_topics_91', 'scores_550', 'similarity_550-551', 'run_551_topics_101', 'scores_551', 'similarity_551-552', 'run_552_topics_111', 'scores_552', 'similarity_552-553', 'run_553_topics_121', 'scores_553', 'similarity_553-554', 'run_554_topics_131', 'scores_554']\n",
      "C2:C161\n",
      "F2:F161\n",
      "I2:I161\n",
      "L2:L161\n",
      "O2:O161\n"
     ]
    }
   ],
   "source": [
    "for q in qs:\n",
    "\n",
    "    res = compare_topic_queryset(q.runstats_set.filter(status=3))\n",
    "\n",
    "    ss = res[1]\n",
    "    res = res[0]\n",
    "\n",
    "    fname = \"../tables/window_topic_comparison/{}.xlsx\".format(q.title)\n",
    "\n",
    "    writer = pd.ExcelWriter(fname, engine='xlsxwriter')\n",
    "\n",
    "    res.to_excel(writer)\n",
    "\n",
    "    worksheet = writer.sheets['Sheet1']\n",
    "\n",
    "    for i in range(len(ss)):\n",
    "        if (i+1)*3 > 26:\n",
    "            c = 'A'+chr(ord('A')-1+((i+1)*3)-26)\n",
    "        else:\n",
    "            c = chr(ord('A')-1+(i+1)*3)\n",
    "        r = \"{}2:{}{}\".format(c,c,len(res))\n",
    "        print(r)\n",
    "\n",
    "        worksheet.conditional_format(r, {\n",
    "            'type': '3_color_scale',\n",
    "            'min_value': 0,\n",
    "            'mid_value': 5,\n",
    "            'max_value': 10,\n",
    "            'min_type': 'num',\n",
    "            'mid_type': 'num',\n",
    "            'max_type': 'num',\n",
    "        })\n",
    "\n",
    "    writer.save()"
   ]
  },
  {
   "cell_type": "code",
   "execution_count": 5,
   "metadata": {
    "collapsed": false,
    "deletable": true,
    "editable": true
   },
   "outputs": [
    {
     "name": "stdout",
     "output_type": "stream",
     "text": [
      "['run_386_topics_100', 'scores_386', 'similarity_386-483', 'run_483_topics_100', 'scores_483']\n",
      "C2:C101\n"
     ]
    }
   ],
   "source": [
    "qset = RunStats.objects.filter(\n",
    "    run_id__in=[386,483]\n",
    ").order_by('run_id')\n",
    "\n",
    "res = compare_topic_queryset(qset)\n",
    "\n",
    "ss = res[1]\n",
    "res = res[0]\n",
    "\n",
    "fname = \"../tables/window_topic_comparison/{}.xlsx\".format(\"Dynamic vs normal\")\n",
    "\n",
    "writer = pd.ExcelWriter(fname, engine='xlsxwriter')\n",
    "\n",
    "res.to_excel(writer)\n",
    "\n",
    "worksheet = writer.sheets['Sheet1']\n",
    "\n",
    "for i in range(len(ss)):\n",
    "    if (i+1)*3 > 26:\n",
    "        c = 'A'+chr(ord('A')-1+((i+1)*3)-26)\n",
    "    else:\n",
    "        c = chr(ord('A')-1+(i+1)*3)\n",
    "    r = \"{}2:{}{}\".format(c,c,len(res))\n",
    "    print(r)\n",
    "\n",
    "    worksheet.conditional_format(r, {\n",
    "        'type': '3_color_scale',\n",
    "        'min_value': 0,\n",
    "        'mid_value': 5,\n",
    "        'max_value': 10,\n",
    "        'min_type': 'num',\n",
    "        'mid_type': 'num',\n",
    "        'max_type': 'num',\n",
    "    })\n",
    "\n",
    "writer.save()"
   ]
  }
 ],
 "metadata": {
  "kernelspec": {
   "display_name": "Python 3",
   "language": "python",
   "name": "python3"
  },
  "language_info": {
   "codemirror_mode": {
    "name": "ipython",
    "version": 3
   },
   "file_extension": ".py",
   "mimetype": "text/x-python",
   "name": "python",
   "nbconvert_exporter": "python",
   "pygments_lexer": "ipython3",
   "version": "3.4.3"
  }
 },
 "nbformat": 4,
 "nbformat_minor": 2
}
