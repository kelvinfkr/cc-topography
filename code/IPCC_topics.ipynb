{
 "cells": [
  {
   "cell_type": "code",
   "execution_count": 15,
   "metadata": {
    "collapsed": false,
    "deletable": true,
    "editable": true
   },
   "outputs": [],
   "source": [
    "import os, sys, time, resource, re, gc, shutil\n",
    "from multiprocess import Pool\n",
    "from functools import partial\n",
    "from tabulate import tabulate\n",
    "from urllib.parse import urlparse, parse_qsl\n",
    "\n",
    "import matplotlib.pyplot as plt\n",
    "import numpy as np\n",
    "import pandas as pd\n",
    "from mongoengine.queryset.visitor import Q\n",
    "import django\n",
    "from django.db.models import Count\n",
    "sys.path.append('/home/galm/software/django/tmv/BasicBrowser/')\n",
    "os.environ.setdefault(\"DJANGO_SETTINGS_MODULE\", \"BasicBrowser.settings\")\n",
    "django.setup()\n",
    "\n",
    "from scoping.models import *\n",
    "from tmv_app.models import *\n",
    "from django.db.models import F, Sum, Count\n",
    "from matplotlib import gridspec\n",
    "\n",
    "from utils.utils import *\n",
    "\n",
    "import statsmodels.formula.api as sm, statsmodels.stats.api as sms\n",
    "\n",
    "\n",
    "from run_id import run_id\n",
    "\n",
    "runstat = RunStats.objects.get(pk=run_id)"
   ]
  },
  {
   "cell_type": "code",
   "execution_count": 2,
   "metadata": {
    "collapsed": false,
    "deletable": true,
    "editable": true
   },
   "outputs": [],
   "source": [
    "\n",
    "\n",
    "dts = DocTopic.objects.filter(\n",
    "    run_id=run_id,\n",
    "    doc__PY__lt=2014,\n",
    "    score__gt=runstat.dthreshold\n",
    ").values('topic__title')\n",
    "\n",
    "dts = dts.annotate(\n",
    "    ipcc = models.Sum(\n",
    "        models.Case(\n",
    "            models.When(doc__ipccref__isnull=False,then=F('score')),default=0, output_field=models.FloatField()\n",
    "        )\n",
    "    ),\n",
    "    no_ipcc = models.Sum(\n",
    "        models.Case(\n",
    "            models.When(doc__ipccref__isnull=True,then=F('score')),default=0, output_field=models.FloatField()\n",
    "        )\n",
    "    )\n",
    ")\n",
    "df =  pd.DataFrame.from_dict(list(dts))"
   ]
  },
  {
   "cell_type": "code",
   "execution_count": 3,
   "metadata": {
    "collapsed": false,
    "deletable": true,
    "editable": true
   },
   "outputs": [
    {
     "data": {
      "text/html": [
       "<div>\n",
       "<table border=\"1\" class=\"dataframe\">\n",
       "  <thead>\n",
       "    <tr style=\"text-align: right;\">\n",
       "      <th></th>\n",
       "      <th>ipcc</th>\n",
       "      <th>no_ipcc</th>\n",
       "      <th>topic__title</th>\n",
       "      <th>total</th>\n",
       "      <th>ipcc_pcnt</th>\n",
       "    </tr>\n",
       "  </thead>\n",
       "  <tbody>\n",
       "    <tr>\n",
       "      <th>0</th>\n",
       "      <td>79.255687</td>\n",
       "      <td>151.767158</td>\n",
       "      <td>{aerosol, forc, radiat}</td>\n",
       "      <td>231.022844</td>\n",
       "      <td>34.306428</td>\n",
       "    </tr>\n",
       "    <tr>\n",
       "      <th>1</th>\n",
       "      <td>64.254971</td>\n",
       "      <td>155.017713</td>\n",
       "      <td>{adapt, vulner, strategi}</td>\n",
       "      <td>219.272683</td>\n",
       "      <td>29.303682</td>\n",
       "    </tr>\n",
       "    <tr>\n",
       "      <th>2</th>\n",
       "      <td>84.535940</td>\n",
       "      <td>229.621940</td>\n",
       "      <td>{scenario, project, futur}</td>\n",
       "      <td>314.157879</td>\n",
       "      <td>26.908744</td>\n",
       "    </tr>\n",
       "    <tr>\n",
       "      <th>3</th>\n",
       "      <td>48.701467</td>\n",
       "      <td>136.883693</td>\n",
       "      <td>{ozon, stratospher, tropospher}</td>\n",
       "      <td>185.585160</td>\n",
       "      <td>26.242113</td>\n",
       "    </tr>\n",
       "    <tr>\n",
       "      <th>4</th>\n",
       "      <td>43.362495</td>\n",
       "      <td>126.577861</td>\n",
       "      <td>{cloud, feedback, radiat}</td>\n",
       "      <td>169.940356</td>\n",
       "      <td>25.516303</td>\n",
       "    </tr>\n",
       "  </tbody>\n",
       "</table>\n",
       "</div>"
      ],
      "text/plain": [
       "        ipcc     no_ipcc                     topic__title       total  \\\n",
       "0  79.255687  151.767158          {aerosol, forc, radiat}  231.022844   \n",
       "1  64.254971  155.017713        {adapt, vulner, strategi}  219.272683   \n",
       "2  84.535940  229.621940       {scenario, project, futur}  314.157879   \n",
       "3  48.701467  136.883693  {ozon, stratospher, tropospher}  185.585160   \n",
       "4  43.362495  126.577861        {cloud, feedback, radiat}  169.940356   \n",
       "\n",
       "   ipcc_pcnt  \n",
       "0  34.306428  \n",
       "1  29.303682  \n",
       "2  26.908744  \n",
       "3  26.242113  \n",
       "4  25.516303  "
      ]
     },
     "execution_count": 3,
     "metadata": {},
     "output_type": "execute_result"
    }
   ],
   "source": [
    "df['total'] = df.ipcc+df.no_ipcc\n",
    "df['ipcc_pcnt'] = df.ipcc/df.total*100\n",
    "df = df.sort_values(by='ipcc_pcnt', ascending=0).reset_index(drop=True)\n",
    "df.head()"
   ]
  },
  {
   "cell_type": "code",
   "execution_count": 7,
   "metadata": {
    "collapsed": false,
    "deletable": true,
    "editable": true
   },
   "outputs": [
    {
     "data": {
      "text/html": [
       "<div>\n",
       "<table border=\"1\" class=\"dataframe\">\n",
       "  <thead>\n",
       "    <tr style=\"text-align: right;\">\n",
       "      <th></th>\n",
       "      <th>ipcc_coverage</th>\n",
       "      <th>title</th>\n",
       "    </tr>\n",
       "  </thead>\n",
       "  <tbody>\n",
       "    <tr>\n",
       "      <th>0</th>\n",
       "      <td>0.343064</td>\n",
       "      <td>{aerosol, forc, radiat}</td>\n",
       "    </tr>\n",
       "    <tr>\n",
       "      <th>1</th>\n",
       "      <td>0.293037</td>\n",
       "      <td>{adapt, vulner, strategi}</td>\n",
       "    </tr>\n",
       "    <tr>\n",
       "      <th>2</th>\n",
       "      <td>0.269087</td>\n",
       "      <td>{scenario, project, futur}</td>\n",
       "    </tr>\n",
       "    <tr>\n",
       "      <th>3</th>\n",
       "      <td>0.262421</td>\n",
       "      <td>{ozon, stratospher, tropospher}</td>\n",
       "    </tr>\n",
       "    <tr>\n",
       "      <th>4</th>\n",
       "      <td>0.255163</td>\n",
       "      <td>{cloud, feedback, radiat}</td>\n",
       "    </tr>\n",
       "  </tbody>\n",
       "</table>\n",
       "</div>"
      ],
      "text/plain": [
       "   ipcc_coverage                            title\n",
       "0       0.343064          {aerosol, forc, radiat}\n",
       "1       0.293037        {adapt, vulner, strategi}\n",
       "2       0.269087       {scenario, project, futur}\n",
       "3       0.262421  {ozon, stratospher, tropospher}\n",
       "4       0.255163        {cloud, feedback, radiat}"
      ]
     },
     "execution_count": 7,
     "metadata": {},
     "output_type": "execute_result"
    }
   ],
   "source": [
    "df = pd.DataFrame.from_dict(\n",
    "        list(Topic.objects.filter(\n",
    "            run_id=run_id,\n",
    "            topicarscores__ar=5,\n",
    "            topicarscores__share__gt=0.005\n",
    "        ).order_by('-ipcc_coverage').values('title','ipcc_coverage'))\n",
    ")\n",
    "\n",
    "df.head()"
   ]
  },
  {
   "cell_type": "code",
   "execution_count": 19,
   "metadata": {
    "collapsed": false,
    "deletable": true,
    "editable": true
   },
   "outputs": [
    {
     "data": {
      "image/png": "[encoded data removed]",
      "text/plain": [
       "<matplotlib.figure.Figure at 0x7eff204d0e48>"
      ]
     },
     "metadata": {},
     "output_type": "display_data"
    }
   ],
   "source": [
    "plt.rcParams[\"figure.figsize\"] = [16,10]\n",
    "\n",
    "# plot it\n",
    "fig = plt.figure(figsize=(16, 10)) \n",
    "gs = gridspec.GridSpec(1, 2, width_ratios=[1, 2]) \n",
    "ax0 = plt.subplot(gs[0])\n",
    "ax1 = plt.subplot(gs[1],sharey=ax0)\n",
    "\n",
    "axs = [ax0,ax1]\n",
    "\n",
    "nn = 15\n",
    "\n",
    "i=0\n",
    "for ax in axs:\n",
    "\n",
    "    bdf = df.set_index(['title'])[['ipcc_coverage']]\n",
    "    \n",
    "    #ax.set_ylim([0, 20])\n",
    "    \n",
    "    if i==0:\n",
    "        n = nn-5\n",
    "        bdf.head(n).plot.bar(ax=ax)\n",
    "        ax.set_title('Top {} topics'.format(n))\n",
    "    else:\n",
    "        n = nn+5\n",
    "        bdf.tail(n).plot.bar(ax=ax)\n",
    "        ax.set_title('Bottom {} topics'.format(n))\n",
    "        \n",
    "    i+=1\n",
    "    \n",
    "    ax.set_xlabel('Topic Title')\n",
    "    ax.set_xticklabels(ax.get_xticklabels(), rotation=40, ha=\"right\")\n",
    "    \n",
    "plt.xlabel('Topic Title')\n",
    "\n",
    "plt.savefig('../plots/ipcc_topics_{}.png'.format(run_id),bbox_inches='tight')   \n",
    "plt.show()"
   ]
  },
  {
   "cell_type": "code",
   "execution_count": 12,
   "metadata": {
    "collapsed": false
   },
   "outputs": [
    {
     "name": "stdout",
     "output_type": "stream",
     "text": [
      "9\n"
     ]
    },
    {
     "data": {
      "text/plain": [
       "<QuerySet [<Topic: {biochar, amend, pyrolysi}>, <Topic: {root, respir, fine}>, <Topic: {wetland, marsh, coastal}>, <Topic: {rice, paddi, field}>, <Topic: {soc, stock, soil}>, <Topic: {fertil, nitrogen, treatment}>, <Topic: {land, use, agricultur}>, <Topic: {crop, yield, wheat}>, <Topic: {soil, moistur, respir}>]>"
      ]
     },
     "execution_count": 12,
     "metadata": {},
     "output_type": "execute_result"
    }
   ],
   "source": [
    "soil_tops = Topic.objects.filter(\n",
    "    topicterm__run_id=run_id,\n",
    "    topicterm__term__title=\"soil\"\n",
    ")\n",
    "print(soil_tops.count())\n",
    "\n",
    "soil_tops"
   ]
  },
  {
   "cell_type": "code",
   "execution_count": null,
   "metadata": {
    "collapsed": false,
    "deletable": true,
    "editable": true
   },
   "outputs": [],
   "source": [
    "ipccdocs = DocTopic.objects.filter(\n",
    "    doc__ipccref__isnull=False,\n",
    "    run_id=run_id\n",
    ").values('topic__title','doc__ipccref__ar','doc__ipccref__wg__wg').annotate(\n",
    "    score=Sum('score'),\n",
    "    count=Count('doc',distinct=True)\n",
    ")\n",
    "ipdf_tops =  pd.DataFrame.from_dict(list(ipccdocs)).rename(columns={'doc__ipccref__ar':'AR','doc__ipccref__wg__wg':'WG'})\n",
    "#ipdf.head()"
   ]
  },
  {
   "cell_type": "code",
   "execution_count": null,
   "metadata": {
    "collapsed": false,
    "deletable": true,
    "editable": true
   },
   "outputs": [],
   "source": [
    "wgtcounts = DocTopic.objects.filter(\n",
    "    doc__ipccref__isnull=False,\n",
    "    run_id=run_id\n",
    ").values('doc__ipccref__ar','doc__ipccref__wg__wg').annotate(\n",
    "    wgt_score=Sum('score'),\n",
    "    wgt_count=Count('doc',distinct=True)\n",
    ")\n",
    "wgtc =  pd.DataFrame.from_dict(list(wgtcounts)).rename(columns={'doc__ipccref__ar':'AR','doc__ipccref__wg__wg':'WG'})\n",
    "wgtc.head()"
   ]
  },
  {
   "cell_type": "code",
   "execution_count": null,
   "metadata": {
    "collapsed": false,
    "deletable": true,
    "editable": true
   },
   "outputs": [],
   "source": [
    "wgcounts = IPCCRef.objects.all().values('ar','wg__wg').annotate(\n",
    "    wg_count=Count('pk',distinct=True)\n",
    ")\n",
    "wgc =  pd.DataFrame.from_dict(list(wgcounts)).rename(columns={'ar':'AR','wg__wg':'WG'})\n",
    "wgc.head(15)"
   ]
  },
  {
   "cell_type": "code",
   "execution_count": null,
   "metadata": {
    "collapsed": false,
    "deletable": true,
    "editable": true
   },
   "outputs": [],
   "source": [
    "ipdf = ipdf_tops.merge(wgc).merge(wgtc)\n",
    "ipdf.head()"
   ]
  },
  {
   "cell_type": "code",
   "execution_count": null,
   "metadata": {
    "collapsed": false,
    "deletable": true,
    "editable": true
   },
   "outputs": [],
   "source": []
  },
  {
   "cell_type": "code",
   "execution_count": null,
   "metadata": {
    "collapsed": false,
    "deletable": true,
    "editable": true
   },
   "outputs": [],
   "source": [
    "plt.rcParams[\"figure.figsize\"] = [16,10]\n",
    "\n",
    "fig, axs = plt.subplots(\n",
    "    nrows=1,\n",
    "    ncols=3,\n",
    "    sharey=True\n",
    ")\n",
    "\n",
    "grouped = ipdf.groupby('WG')\n",
    "\n",
    "targets = zip(grouped.groups.keys(), axs.flatten())\n",
    "\n",
    "n = 12\n",
    "\n",
    "for i, (key, ax) in enumerate(targets):\n",
    "#for name, group in ipdf.groupby('WG'):\n",
    "    group = grouped.get_group(key).set_index(['topic__title'])\n",
    "    group = group.sort_values('score',ascending=False)\n",
    "    group['sum'] = group['score'].sum()\n",
    "    group['share'] = group['score'] / group['sum']*100\n",
    "    ax.set_title('WG {:.0f} topics'.format(key))\n",
    "    group.head(n)['share'].plot.bar(ax=ax)\n",
    "    ax.set_xticklabels(ax.get_xticklabels(), rotation=40, ha=\"right\")\n",
    "\n",
    "plt.tight_layout()\n",
    "plt.show()"
   ]
  },
  {
   "cell_type": "code",
   "execution_count": null,
   "metadata": {
    "collapsed": false,
    "deletable": true,
    "editable": true
   },
   "outputs": [],
   "source": [
    "plt.rcParams[\"figure.figsize\"] = [16,24]\n",
    "\n",
    "fig, axs = plt.subplots(\n",
    "    nrows=4,\n",
    "    ncols=1,\n",
    "    sharey=True#,\n",
    "    #gridspec_kw=dict(hspace=0.4,)\n",
    ")\n",
    "\n",
    "grouped = ipdf[ipdf['WG']==3].groupby('AR')\n",
    "\n",
    "targets = zip(range(2,6), axs.flatten())\n",
    "\n",
    "n = 25\n",
    "\n",
    "for i, (key, ax) in enumerate(targets):\n",
    "#for name, group in ipdf.groupby('WG'):\n",
    "    group = grouped.get_group(key).set_index(['topic__title'])\n",
    "    group = group.sort_values('score',ascending=False)\n",
    "    group['sum'] = group['score'].sum()\n",
    "    group['share'] = group['score'] / group['sum']*100\n",
    "    ax.set_title('AR {:.0f} topics'.format(key))\n",
    "    group.head(n)['share'].plot.bar(ax=ax)\n",
    "    ax.set_xticklabels(ax.get_xticklabels(), rotation=40, ha=\"right\")\n",
    "\n",
    "plt.tight_layout()\n",
    "plt.show()"
   ]
  },
  {
   "cell_type": "code",
   "execution_count": null,
   "metadata": {
    "collapsed": false,
    "deletable": true,
    "editable": true
   },
   "outputs": [],
   "source": [
    "plt.rcParams[\"figure.figsize\"] = [16,24]\n",
    "\n",
    "fig, axs = plt.subplots(\n",
    "    nrows=4,\n",
    "    ncols=3,\n",
    "    sharey=True#,\n",
    "    #gridspec_kw=dict(hspace=0.4,)\n",
    ")\n",
    "\n",
    "grouped = ipdf.dropna().sort_values(['AR','WG']).groupby(['AR','WG'])\n",
    "\n",
    "arorder = []\n",
    "for x in range(2,6):\n",
    "    for y in range(1,4):\n",
    "        arorder.append((float(x),float(y)))\n",
    "\n",
    "targets = zip(arorder, axs.flatten())\n",
    "\n",
    "n = 12\n",
    "\n",
    "for i, (key, ax) in enumerate(targets):\n",
    "    group = grouped.get_group(key).set_index(['topic__title'])\n",
    "    group = group.sort_values('score',ascending=False)\n",
    "    group['sum'] = group['score'].sum()\n",
    "    group['share'] = group['score'] / group['sum']*100\n",
    "    ax.set_title('AR {:.0f} WG {:.0f} topics'.format(key[0],key[1]))\n",
    "    group.head(n)['share'].plot.bar(ax=ax)\n",
    "    ax.set_xticklabels(ax.get_xticklabels(), rotation=40, ha=\"right\")\n",
    "    ax.set_xlabel('Topic Title')\n",
    "    text = \"{} out of {} references\".format(group['wgt_count'][0],group['wg_count'][0])\n",
    "    ax.text(n-1,8,text,ha=\"right\")\n",
    "\n",
    "plt.tight_layout()\n",
    "\n",
    "plt.savefig('../plots/ipcc_topics_ars_{}.png'.format(run_id),bbox_inches='tight')   \n",
    "plt.show()\n",
    "\n",
    "plt.show()"
   ]
  },
  {
   "cell_type": "code",
   "execution_count": null,
   "metadata": {
    "collapsed": false,
    "deletable": true,
    "editable": true
   },
   "outputs": [],
   "source": [
    "wg3 = ipdf[ipdf['WG']==3].dropna().sort_values(['AR','WG'])\n",
    "\n",
    "wg3['share'] = wg3['score'] / wg3['wgt_score']*100\n",
    "\n",
    "wg3 = wg3[wg3['share']>2]\n",
    "\n",
    "wg3 = wg3[wg3['AR']>1]\n",
    "\n",
    "wg3 = pd.pivot_table(\n",
    "                wg3,\n",
    "                values='share',\n",
    "                index='AR',\n",
    "                columns='topic__title'\n",
    "            )\n",
    "wg3.head()\n",
    "\n",
    "fig, ax = plt.subplots()\n",
    "\n",
    "#ax = enumerate(axs)[0]\n",
    "\n",
    "wg3.plot.bar(stacked=True,ax=ax)\n",
    "\n",
    "handles, labels = ax.get_legend_handles_labels()\n",
    "\n",
    "lpos = (1.1,0.75)\n",
    "\n",
    "ax.legend(reversed(handles), reversed(labels),bbox_to_anchor=lpos, loc=2, borderaxespad=.0,)\n",
    "\n",
    "plt.show()"
   ]
  },
  {
   "cell_type": "code",
   "execution_count": null,
   "metadata": {
    "collapsed": false,
    "deletable": true,
    "editable": true
   },
   "outputs": [],
   "source": [
    "wgs = [\n",
    "    {\"WG\":1, \"score\": 0},\n",
    "    {\"WG\":2, \"score\": 0},\n",
    "    {\"WG\":3, \"score\": 0}\n",
    "]\n",
    "for topic in Topic.objects.filter(run_id=run_id):\n",
    "    tdocs = Doc.objects.filter(doctopic__topic=topic,doctopic__score__gt=runstat.dthreshold)\n",
    "    for wg in wgs:\n",
    "        wgdocs = tdocs.filter(ipccref__wg__wg=wg[\"WG\"])\n",
    "        if wgdocs.count() == 0:\n",
    "            wg['score'] = 0\n",
    "        else:\n",
    "            wg['score'] = wgdocs.aggregate(s = Sum('doctopic__score'))['s']       \n",
    "    maxwg =  max(wgs, key=lambda x:x['score'])\n",
    "    tscore = sum(x['score'] for x in wgs)\n",
    "    if tscore==0:\n",
    "        tscore=1\n",
    "    topic.wg_1 = wgs[0]['score'] / tscore\n",
    "    topic.wg_2 = wgs[1]['score'] / tscore\n",
    "    topic.wg_3 = wgs[2]['score'] / tscore\n",
    "    topic.primary_wg = maxwg['WG']\n",
    "    topic.wg_prop = maxwg['score'] / tscore\n",
    "    topic.save()"
   ]
  },
  {
   "cell_type": "code",
   "execution_count": null,
   "metadata": {
    "collapsed": false,
    "deletable": true,
    "editable": true
   },
   "outputs": [],
   "source": [
    "wgdts = DocTopic.objects.filter(topic__run_id=run_id).values('doc__PY','topic__title').annotate(\n",
    "    score = Sum('score')\n",
    ")\n",
    "\n",
    "\n",
    "wgpy = pd.DataFrame.from_dict(list(wgdts.values('topic__title','score','doc__PY','topic__wg_1','topic__wg_2','topic__wg_3')))\n",
    "\n",
    "wgpy.head()"
   ]
  },
  {
   "cell_type": "code",
   "execution_count": null,
   "metadata": {
    "collapsed": false,
    "deletable": true,
    "editable": true
   },
   "outputs": [],
   "source": [
    "wgpy_dict = []\n",
    "\n",
    "for py in range(1990,2017):\n",
    "    for wg in wgs:\n",
    "        wgscore = 0\n",
    "        for t in wgdts.values('topic__id','doc__PY','score').filter(doc__PY=py):\n",
    "            top = Topic.objects.get(id=t['topic__id'])\n",
    "            score = t['score'] * getattr(top,\"wg_{}\".format(wg['WG']))\n",
    "            wgscore += score\n",
    "        wgpy_dict.append({\n",
    "            'PY': py,\n",
    "            'WG': wg['WG'],\n",
    "            'score': wgscore\n",
    "        })"
   ]
  },
  {
   "cell_type": "code",
   "execution_count": null,
   "metadata": {
    "collapsed": false,
    "deletable": true,
    "editable": true,
    "scrolled": true
   },
   "outputs": [],
   "source": [
    "plt.rcParams[\"figure.figsize\"] = [16,10]\n",
    "\n",
    "wgpy = pd.DataFrame.from_dict(wgpy_dict)\n",
    "\n",
    "wgpy.head()\n",
    "\n",
    "wgpy_wide = pd.pivot_table(\n",
    "    data=wgpy,\n",
    "    index='PY',\n",
    "    columns='WG',\n",
    "    values='score'\n",
    ")\n",
    "\n",
    "wgpy_wide.head()\n",
    "\n",
    "wgpy_wide.plot()\n",
    "\n",
    "plt.show()\n",
    "\n",
    "\n"
   ]
  },
  {
   "cell_type": "code",
   "execution_count": null,
   "metadata": {
    "collapsed": false,
    "deletable": true,
    "editable": true
   },
   "outputs": [],
   "source": [
    "tword = \"biochar\"\n",
    "\n",
    "sus = Topic.objects.filter(run_id=run_id,title__icontains=tword)\n",
    "\n",
    "print(sus.count())\n",
    "\n",
    "sus_scores = []\n",
    "\n",
    "for py in range(1990,2017):\n",
    "    for wg in wgs:\n",
    "        wgscore = 0\n",
    "        for t in wgdts.values('topic__id','doc__PY','score').filter(doc__PY=py,topic__in=sus):\n",
    "            top = Topic.objects.get(id=t['topic__id'])\n",
    "            score = t['score'] * getattr(top,\"wg_{}\".format(wg['WG']))\n",
    "            wgscore += score\n",
    "        sus_scores.append({\n",
    "            'PY': py,\n",
    "            'WG': wg['WG'],\n",
    "            'score': wgscore\n",
    "        })\n",
    "sus_df = pd.DataFrame.from_dict(sus_scores)\n",
    "\n",
    "sus_wide = pd.pivot_table(\n",
    "    data=sus_df,\n",
    "    index='PY',\n",
    "    columns='WG',\n",
    "    values='score'\n",
    ")\n",
    "\n",
    "sus_wide.plot()\n",
    "\n",
    "plt.title(tword)\n",
    "\n",
    "plt.show()\n"
   ]
  },
  {
   "cell_type": "code",
   "execution_count": null,
   "metadata": {
    "collapsed": false,
    "deletable": true,
    "editable": true
   },
   "outputs": [],
   "source": [
    "iprs = Doc.objects.filter(ipccref__isnull=False).values('PY','ipccref__wg__wg').annotate(\n",
    "    n = Count('UT')\n",
    ")\n",
    "\n",
    "ippy = pd.DataFrame.from_dict(list(iprs))\n",
    "\n",
    "ippy_wide = pd.pivot_table(\n",
    "    data=ippy,\n",
    "    index='PY',\n",
    "    columns='ipccref__wg__wg',\n",
    "    values='n'\n",
    ")\n",
    "\n",
    "\n",
    "ippy_wide.plot()\n",
    "\n",
    "plt.show()"
   ]
  },
  {
   "cell_type": "code",
   "execution_count": null,
   "metadata": {
    "collapsed": false,
    "deletable": true,
    "editable": true
   },
   "outputs": [],
   "source": [
    "tcs = TopicCorr.objects.filter(run_id=run_id).filter(score__gt=0.05,score__lt=1).annotate(\n",
    "        source=F('topic'),\n",
    "        target=F('topiccorr')\n",
    "    )\n",
    "\n",
    "\n",
    "\n",
    "tcdf = pd.DataFrame.from_dict(list(tcs.values('topic','topiccorr','topic__primary_wg','topiccorr__primary_wg','score')))\n",
    "\n",
    "def issame(x):\n",
    "    if x['topic__primary_wg']==x['topiccorr__primary_wg']:\n",
    "        return 1\n",
    "    else:\n",
    "        return 0\n",
    "\n",
    "tcdf['samewg'] = tcdf.apply(lambda x: issame(x) ,axis=1)\n",
    "\n",
    "tcdf.head()"
   ]
  },
  {
   "cell_type": "code",
   "execution_count": null,
   "metadata": {
    "collapsed": false,
    "deletable": true,
    "editable": true
   },
   "outputs": [],
   "source": [
    "result = sm.ols(formula=\"score ~ samewg + topic__primary_wg\", data=tcdf).fit()\n",
    "\n",
    "print(result.summary())"
   ]
  },
  {
   "cell_type": "code",
   "execution_count": null,
   "metadata": {
    "collapsed": false,
    "deletable": true,
    "editable": true
   },
   "outputs": [],
   "source": [
    "X1, X2 = np.arange(10,21), np.arange(20,26.5,.5)\n",
    "\n",
    "cm = sms.CompareMeans(sms.DescrStatsW(X1), sms.DescrStatsW(X2))\n",
    "print(cm.tconfint_diff(usevar='unequal'))"
   ]
  },
  {
   "cell_type": "code",
   "execution_count": null,
   "metadata": {
    "collapsed": false,
    "deletable": true,
    "editable": true
   },
   "outputs": [],
   "source": [
    "from scipy.stats import ttest_ind\n",
    "\n",
    "cat1 = tcdf[tcdf['samewg']==1]\n",
    "cat2 = tcdf[tcdf['samewg']==0]\n",
    "\n",
    "\n",
    "ttest_ind(cat1['score'], cat2['score'])"
   ]
  },
  {
   "cell_type": "code",
   "execution_count": null,
   "metadata": {
    "collapsed": false,
    "deletable": true,
    "editable": true
   },
   "outputs": [],
   "source": [
    "plt.rcParams[\"figure.figsize\"] = [8,5]\n",
    "\n",
    "gp = tcdf[['score','samewg']].groupby('samewg')\n",
    "\n",
    "means = gp.mean()\n",
    "\n",
    "print(means)\n",
    "\n",
    "errors = gp.std()\n",
    "\n",
    "print(errors)\n",
    "\n",
    "fig, ax = plt.subplots()\n",
    "\n",
    "means.plot(yerr=errors, ax=ax, kind='bar')\n",
    "\n",
    "plt.show()\n"
   ]
  },
  {
   "cell_type": "code",
   "execution_count": null,
   "metadata": {
    "collapsed": false,
    "deletable": true,
    "editable": true
   },
   "outputs": [],
   "source": [
    "dts = DocTopic.objects.filter(run_id=run_id)\n",
    "\n",
    "df = pd.DataFrame(list(dts.values('doc_id','topic_id','score')))\n",
    "\n",
    "df = df.pivot(index='doc_id',columns='topic_id',values='score').fillna(0)\n",
    "\n",
    "corr = df.corr()\n",
    "\n",
    "corr['topic1'] = corr.index\n"
   ]
  },
  {
   "cell_type": "code",
   "execution_count": null,
   "metadata": {
    "collapsed": false,
    "deletable": true,
    "editable": true
   },
   "outputs": [],
   "source": [
    "topics = Topic.objects.filter(run_id=run_id)\n",
    "tdf = pd.DataFrame.from_dict(list(topics.values('id','primary_wg')))\n",
    "\n",
    "\n",
    "tdf.head()"
   ]
  },
  {
   "cell_type": "code",
   "execution_count": null,
   "metadata": {
    "collapsed": false,
    "deletable": true,
    "editable": true
   },
   "outputs": [],
   "source": [
    "corrlong = pd.melt(corr,id_vars=['topic1'])\n",
    "corrlong = corrlong[corrlong['value']<1]\n",
    "\n",
    "mask = corrlong['topic1'] < corrlong['topic_id']\n",
    "\n",
    "corrlong['first'] = corrlong['topic1'].where(mask, corrlong['topic_id'])\n",
    "corrlong['second'] = corrlong['topic_id'].where(mask, corrlong['topic1'])\n",
    "\n",
    "corrlong = corrlong.drop_duplicates(subset=['value', 'first', 'second'])[['topic1','topic_id','value']].rename(columns={\n",
    "    'topic1':'topic1','topic_id':'topic2'\n",
    "})\n",
    "\n",
    "tdf1 = tdf.rename(columns={\n",
    "    'id':'topic1',\n",
    "    'primary_wg': 'wg_1'\n",
    "})\n",
    "\n",
    "tdf2 = tdf.rename(columns={\n",
    "    'id':'topic2',\n",
    "    'primary_wg': 'wg_2'\n",
    "})\n",
    "\n",
    "corrlong = corrlong.merge(tdf1).merge(tdf2)\n",
    "\n",
    "def issame(x):\n",
    "    if x['wg_1']==x['wg_2']:\n",
    "        return 1\n",
    "    else:\n",
    "        return 0\n",
    "\n",
    "corrlong['samewg'] = corrlong.apply(lambda x: issame(x) ,axis=1)\n",
    "\n",
    "\n",
    "corrlong.head()"
   ]
  },
  {
   "cell_type": "code",
   "execution_count": null,
   "metadata": {
    "collapsed": false,
    "deletable": true,
    "editable": true,
    "scrolled": true
   },
   "outputs": [],
   "source": [
    "gp = corrlong[['value','samewg']].groupby('samewg')\n",
    "\n",
    "means = gp.mean()\n",
    "\n",
    "print(means)\n",
    "\n",
    "errors = gp.std()\n",
    "\n",
    "print(errors)\n",
    "\n",
    "fig, ax = plt.subplots()\n",
    "\n",
    "means.plot(yerr=errors, ax=ax, kind='bar')\n",
    "\n",
    "plt.show()"
   ]
  },
  {
   "cell_type": "code",
   "execution_count": null,
   "metadata": {
    "collapsed": true,
    "deletable": true,
    "editable": true
   },
   "outputs": [],
   "source": []
  },
  {
   "cell_type": "code",
   "execution_count": null,
   "metadata": {
    "collapsed": false,
    "deletable": true,
    "editable": true
   },
   "outputs": [],
   "source": [
    "from scipy.stats import ttest_ind\n",
    "\n",
    "cat1 = corrlong[corrlong['samewg']==1]\n",
    "cat2 = corrlong[corrlong['samewg']==0]\n",
    "\n",
    "\n",
    "ttest_ind(cat1['value'], cat2['value'])"
   ]
  }
 ],
 "metadata": {
  "kernelspec": {
   "display_name": "Python 3",
   "language": "python",
   "name": "python3"
  },
  "language_info": {
   "codemirror_mode": {
    "name": "ipython",
    "version": 3
   },
   "file_extension": ".py",
   "mimetype": "text/x-python",
   "name": "python",
   "nbconvert_exporter": "python",
   "pygments_lexer": "ipython3",
   "version": "3.4.3"
  }
 },
 "nbformat": 4,
 "nbformat_minor": 2
}
