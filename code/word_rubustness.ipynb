{
 "cells": [
  {
   "cell_type": "code",
   "execution_count": 109,
   "metadata": {
    "collapsed": false
   },
   "outputs": [
    {
     "name": "stdout",
     "output_type": "stream",
     "text": [
      "wos_all_updated\n"
     ]
    }
   ],
   "source": [
    "import os, sys, time, resource, re, gc, shutil\n",
    "from multiprocess import Pool\n",
    "from functools import partial\n",
    "from tabulate import tabulate\n",
    "from urllib.parse import urlparse, parse_qsl\n",
    "\n",
    "import matplotlib.pyplot as plt\n",
    "import numpy as np\n",
    "import pandas as pd\n",
    "from mongoengine.queryset.visitor import Q\n",
    "import django\n",
    "from django.db.models import Count\n",
    "sys.path.append('/home/galm/software/django/tmv/BasicBrowser/')\n",
    "os.environ.setdefault(\"DJANGO_SETTINGS_MODULE\", \"BasicBrowser.settings\")\n",
    "django.setup()\n",
    "\n",
    "from scoping.models import *\n",
    "from tmv_app.models import *\n",
    "from utils.text import *\n",
    "from utils.plotting import *\n",
    "from sklearn.feature_extraction.text import *\n",
    "from sklearn.decomposition import NMF\n",
    "from scipy.sparse import coo_matrix, find\n",
    "from django.db.models import Q, F, Sum, Count, FloatField, Case, When\n",
    "\n",
    "from run_id import run_id\n",
    "run_id = 662\n",
    "stat = RunStats.objects.get(pk=run_id)\n",
    "parent_run_id = stat.parent_run_id\n",
    "q = stat.query\n",
    "print(q.title)\n",
    "from tmv_app.tasks import *\n",
    "from utils.text import *"
   ]
  },
  {
   "cell_type": "code",
   "execution_count": 15,
   "metadata": {
    "collapsed": false
   },
   "outputs": [],
   "source": [
    "def check_phrase(phrase):\n",
    "\n",
    "    doc_ids = set(list(DocTopic.objects.filter(\n",
    "        run_id=parent_run_id\n",
    "    ).values_list('doc_id',flat=True)))\n",
    "\n",
    "    phrase_years = []\n",
    "\n",
    "    for p in stat.periods.order_by('n'):\n",
    "        ydocs = Doc.objects.filter(\n",
    "                    pk__in=doc_ids,\n",
    "                    PY__in=p.ys\n",
    "                )\n",
    "        yn = ydocs.count()\n",
    "        yphrase = ydocs.filter(content__iregex=phrase).count()\n",
    "        phrase_years.append({\n",
    "            'AP': p.title,\n",
    "            'yn': yn,\n",
    "            phrase: yphrase\n",
    "        })\n",
    "    return pd.DataFrame.from_dict(phrase_years)"
   ]
  },
  {
   "cell_type": "code",
   "execution_count": 47,
   "metadata": {
    "collapsed": true
   },
   "outputs": [],
   "source": [
    "p = Project.objects.get(title=\"NETs\")\n",
    "pdocs = Doc.objects.filter(query__project=p) | Doc.objects.filter(technology__project=p)\n",
    "\n",
    "ne_ids = set(list(pdocs.filter(docownership__relevant=1).values_list('id',flat=True)))\n",
    "\n",
    "ne_docs = Doc.objects.filter(id__in=ne_ids)\n",
    "\n",
    "phrase_years = []\n",
    "\n",
    "for p in stat.periods.order_by('n'):\n",
    "    ydocs = Doc.objects.filter(\n",
    "                pk__in=doc_ids,\n",
    "                PY__in=p.ys,\n",
    "                PY__lt=2017\n",
    "            )\n",
    "    yn = ydocs.count()\n",
    "    #yphrase = ne_docs.filter(PY__in=p.ys).count()\n",
    "    yphrase = ydocs.filter(id__in=ne_ids).count()\n",
    "    phrase_years.append({\n",
    "        'AP': p.title,\n",
    "        'yn': yn,\n",
    "        'ne': yphrase\n",
    "    })\n",
    "ne = pd.DataFrame.from_dict(phrase_years)"
   ]
  },
  {
   "cell_type": "code",
   "execution_count": 48,
   "metadata": {
    "collapsed": false
   },
   "outputs": [
    {
     "data": {
      "text/html": [
       "<div>\n",
       "<table border=\"1\" class=\"dataframe\">\n",
       "  <thead>\n",
       "    <tr style=\"text-align: right;\">\n",
       "      <th></th>\n",
       "      <th>AP</th>\n",
       "      <th>ne</th>\n",
       "      <th>yn</th>\n",
       "      <th>share</th>\n",
       "    </tr>\n",
       "  </thead>\n",
       "  <tbody>\n",
       "    <tr>\n",
       "      <th>0</th>\n",
       "      <td>AR1</td>\n",
       "      <td>0</td>\n",
       "      <td>264</td>\n",
       "      <td>0.000000</td>\n",
       "    </tr>\n",
       "    <tr>\n",
       "      <th>1</th>\n",
       "      <td>AR2</td>\n",
       "      <td>28</td>\n",
       "      <td>5801</td>\n",
       "      <td>0.482675</td>\n",
       "    </tr>\n",
       "    <tr>\n",
       "      <th>2</th>\n",
       "      <td>AR3</td>\n",
       "      <td>46</td>\n",
       "      <td>16750</td>\n",
       "      <td>0.274627</td>\n",
       "    </tr>\n",
       "    <tr>\n",
       "      <th>3</th>\n",
       "      <td>AR4</td>\n",
       "      <td>201</td>\n",
       "      <td>40141</td>\n",
       "      <td>0.500735</td>\n",
       "    </tr>\n",
       "    <tr>\n",
       "      <th>4</th>\n",
       "      <td>AR5</td>\n",
       "      <td>612</td>\n",
       "      <td>101654</td>\n",
       "      <td>0.602042</td>\n",
       "    </tr>\n",
       "    <tr>\n",
       "      <th>5</th>\n",
       "      <td>AR6</td>\n",
       "      <td>546</td>\n",
       "      <td>89453</td>\n",
       "      <td>0.610376</td>\n",
       "    </tr>\n",
       "  </tbody>\n",
       "</table>\n",
       "</div>"
      ],
      "text/plain": [
       "    AP   ne      yn     share\n",
       "0  AR1    0     264  0.000000\n",
       "1  AR2   28    5801  0.482675\n",
       "2  AR3   46   16750  0.274627\n",
       "3  AR4  201   40141  0.500735\n",
       "4  AR5  612  101654  0.602042\n",
       "5  AR6  546   89453  0.610376"
      ]
     },
     "execution_count": 48,
     "metadata": {},
     "output_type": "execute_result"
    }
   ],
   "source": [
    "ne['share'] = ne['ne'] / ne['yn'] * 100\n",
    "ne.head(6)"
   ]
  },
  {
   "cell_type": "code",
   "execution_count": 79,
   "metadata": {
    "collapsed": false
   },
   "outputs": [
    {
     "data": {
      "image/png": "[encoded data removed]",
      "text/plain": [
       "<matplotlib.figure.Figure at 0x7fac67da34a8>"
      ]
     },
     "metadata": {},
     "output_type": "display_data"
    }
   ],
   "source": [
    "ne[['AP','share']].set_index('AP').plot(legend=None)\n",
    "plt.ylabel('% share of documents')\n",
    "\n",
    "plt.suptitle(\"Negative Emissions\")\n",
    "plt.savefig('../plots/negative_emissions_share.png'.format(run_id),bbox_inches='tight')\n",
    "\n",
    "plt.show()"
   ]
  },
  {
   "cell_type": "code",
   "execution_count": 16,
   "metadata": {
    "collapsed": false
   },
   "outputs": [
    {
     "data": {
      "text/html": [
       "<div>\n",
       "<table border=\"1\" class=\"dataframe\">\n",
       "  <thead>\n",
       "    <tr style=\"text-align: right;\">\n",
       "      <th></th>\n",
       "      <th>AP</th>\n",
       "      <th>negative emission|carbon dioxide removal</th>\n",
       "      <th>yn</th>\n",
       "    </tr>\n",
       "  </thead>\n",
       "  <tbody>\n",
       "    <tr>\n",
       "      <th>0</th>\n",
       "      <td>AR1</td>\n",
       "      <td>0</td>\n",
       "      <td>264</td>\n",
       "    </tr>\n",
       "    <tr>\n",
       "      <th>1</th>\n",
       "      <td>AR2</td>\n",
       "      <td>5</td>\n",
       "      <td>5801</td>\n",
       "    </tr>\n",
       "    <tr>\n",
       "      <th>2</th>\n",
       "      <td>AR3</td>\n",
       "      <td>8</td>\n",
       "      <td>16750</td>\n",
       "    </tr>\n",
       "    <tr>\n",
       "      <th>3</th>\n",
       "      <td>AR4</td>\n",
       "      <td>10</td>\n",
       "      <td>40141</td>\n",
       "    </tr>\n",
       "    <tr>\n",
       "      <th>4</th>\n",
       "      <td>AR5</td>\n",
       "      <td>72</td>\n",
       "      <td>101654</td>\n",
       "    </tr>\n",
       "  </tbody>\n",
       "</table>\n",
       "</div>"
      ],
      "text/plain": [
       "    AP  negative emission|carbon dioxide removal      yn\n",
       "0  AR1                                         0     264\n",
       "1  AR2                                         5    5801\n",
       "2  AR3                                         8   16750\n",
       "3  AR4                                        10   40141\n",
       "4  AR5                                        72  101654"
      ]
     },
     "execution_count": 16,
     "metadata": {},
     "output_type": "execute_result"
    }
   ],
   "source": [
    "phrase = \"negative emission|carbon dioxide removal\"\n",
    "\n",
    "df = check_phrase(phrase)\n",
    "df.head()"
   ]
  },
  {
   "cell_type": "code",
   "execution_count": 20,
   "metadata": {
    "collapsed": false
   },
   "outputs": [
    {
     "data": {
      "text/html": [
       "<div>\n",
       "<table border=\"1\" class=\"dataframe\">\n",
       "  <thead>\n",
       "    <tr style=\"text-align: right;\">\n",
       "      <th></th>\n",
       "      <th>AP</th>\n",
       "      <th>negative emission|carbon dioxide removal</th>\n",
       "      <th>yn</th>\n",
       "      <th>share</th>\n",
       "    </tr>\n",
       "  </thead>\n",
       "  <tbody>\n",
       "    <tr>\n",
       "      <th>0</th>\n",
       "      <td>AR1</td>\n",
       "      <td>0</td>\n",
       "      <td>264</td>\n",
       "      <td>0.000000</td>\n",
       "    </tr>\n",
       "    <tr>\n",
       "      <th>1</th>\n",
       "      <td>AR2</td>\n",
       "      <td>5</td>\n",
       "      <td>5801</td>\n",
       "      <td>0.000862</td>\n",
       "    </tr>\n",
       "    <tr>\n",
       "      <th>2</th>\n",
       "      <td>AR3</td>\n",
       "      <td>8</td>\n",
       "      <td>16750</td>\n",
       "      <td>0.000478</td>\n",
       "    </tr>\n",
       "    <tr>\n",
       "      <th>3</th>\n",
       "      <td>AR4</td>\n",
       "      <td>10</td>\n",
       "      <td>40141</td>\n",
       "      <td>0.000249</td>\n",
       "    </tr>\n",
       "    <tr>\n",
       "      <th>4</th>\n",
       "      <td>AR5</td>\n",
       "      <td>72</td>\n",
       "      <td>101654</td>\n",
       "      <td>0.000708</td>\n",
       "    </tr>\n",
       "    <tr>\n",
       "      <th>5</th>\n",
       "      <td>AR6</td>\n",
       "      <td>113</td>\n",
       "      <td>124708</td>\n",
       "      <td>0.000906</td>\n",
       "    </tr>\n",
       "  </tbody>\n",
       "</table>\n",
       "</div>"
      ],
      "text/plain": [
       "    AP  negative emission|carbon dioxide removal      yn     share\n",
       "0  AR1                                         0     264  0.000000\n",
       "1  AR2                                         5    5801  0.000862\n",
       "2  AR3                                         8   16750  0.000478\n",
       "3  AR4                                        10   40141  0.000249\n",
       "4  AR5                                        72  101654  0.000708\n",
       "5  AR6                                       113  124708  0.000906"
      ]
     },
     "execution_count": 20,
     "metadata": {},
     "output_type": "execute_result"
    }
   ],
   "source": [
    "df['share'] = df['negative emission|carbon dioxide removal'] / df['yn']\n",
    "df.head(6)"
   ]
  },
  {
   "cell_type": "code",
   "execution_count": 58,
   "metadata": {
    "collapsed": false
   },
   "outputs": [
    {
     "data": {
      "text/html": [
       "<div>\n",
       "<table border=\"1\" class=\"dataframe\">\n",
       "  <thead>\n",
       "    <tr style=\"text-align: right;\">\n",
       "      <th></th>\n",
       "      <th>AP</th>\n",
       "      <th>negative emission|carbon dioxide removal</th>\n",
       "      <th>yn</th>\n",
       "      <th>share</th>\n",
       "    </tr>\n",
       "  </thead>\n",
       "  <tbody>\n",
       "    <tr>\n",
       "      <th>0</th>\n",
       "      <td>AR1</td>\n",
       "      <td>0</td>\n",
       "      <td>264</td>\n",
       "      <td>0.000000</td>\n",
       "    </tr>\n",
       "    <tr>\n",
       "      <th>1</th>\n",
       "      <td>AR2</td>\n",
       "      <td>5</td>\n",
       "      <td>5801</td>\n",
       "      <td>0.000862</td>\n",
       "    </tr>\n",
       "    <tr>\n",
       "      <th>2</th>\n",
       "      <td>AR3</td>\n",
       "      <td>8</td>\n",
       "      <td>16750</td>\n",
       "      <td>0.000478</td>\n",
       "    </tr>\n",
       "    <tr>\n",
       "      <th>3</th>\n",
       "      <td>AR4</td>\n",
       "      <td>10</td>\n",
       "      <td>40141</td>\n",
       "      <td>0.000249</td>\n",
       "    </tr>\n",
       "    <tr>\n",
       "      <th>4</th>\n",
       "      <td>AR5</td>\n",
       "      <td>72</td>\n",
       "      <td>101654</td>\n",
       "      <td>0.000708</td>\n",
       "    </tr>\n",
       "  </tbody>\n",
       "</table>\n",
       "</div>"
      ],
      "text/plain": [
       "    AP  negative emission|carbon dioxide removal      yn     share\n",
       "0  AR1                                         0     264  0.000000\n",
       "1  AR2                                         5    5801  0.000862\n",
       "2  AR3                                         8   16750  0.000478\n",
       "3  AR4                                        10   40141  0.000249\n",
       "4  AR5                                        72  101654  0.000708"
      ]
     },
     "execution_count": 58,
     "metadata": {},
     "output_type": "execute_result"
    }
   ],
   "source": [
    "sus = check_phrase(\"research|sustain|social\")"
   ]
  },
  {
   "cell_type": "code",
   "execution_count": 77,
   "metadata": {
    "collapsed": false
   },
   "outputs": [
    {
     "data": {
      "text/html": [
       "<div>\n",
       "<table border=\"1\" class=\"dataframe\">\n",
       "  <thead>\n",
       "    <tr style=\"text-align: right;\">\n",
       "      <th></th>\n",
       "      <th>AP</th>\n",
       "      <th>research|sustain|social</th>\n",
       "      <th>yn</th>\n",
       "      <th>share</th>\n",
       "    </tr>\n",
       "  </thead>\n",
       "  <tbody>\n",
       "    <tr>\n",
       "      <th>0</th>\n",
       "      <td>AR1</td>\n",
       "      <td>19</td>\n",
       "      <td>264</td>\n",
       "      <td>7.196970</td>\n",
       "    </tr>\n",
       "    <tr>\n",
       "      <th>1</th>\n",
       "      <td>AR2</td>\n",
       "      <td>666</td>\n",
       "      <td>5801</td>\n",
       "      <td>11.480779</td>\n",
       "    </tr>\n",
       "    <tr>\n",
       "      <th>2</th>\n",
       "      <td>AR3</td>\n",
       "      <td>2142</td>\n",
       "      <td>16750</td>\n",
       "      <td>12.788060</td>\n",
       "    </tr>\n",
       "    <tr>\n",
       "      <th>3</th>\n",
       "      <td>AR4</td>\n",
       "      <td>5719</td>\n",
       "      <td>40141</td>\n",
       "      <td>14.247278</td>\n",
       "    </tr>\n",
       "    <tr>\n",
       "      <th>4</th>\n",
       "      <td>AR5</td>\n",
       "      <td>21232</td>\n",
       "      <td>101654</td>\n",
       "      <td>20.886537</td>\n",
       "    </tr>\n",
       "    <tr>\n",
       "      <th>5</th>\n",
       "      <td>AR6</td>\n",
       "      <td>29722</td>\n",
       "      <td>124708</td>\n",
       "      <td>23.833275</td>\n",
       "    </tr>\n",
       "  </tbody>\n",
       "</table>\n",
       "</div>"
      ],
      "text/plain": [
       "    AP  research|sustain|social      yn      share\n",
       "0  AR1                       19     264   7.196970\n",
       "1  AR2                      666    5801  11.480779\n",
       "2  AR3                     2142   16750  12.788060\n",
       "3  AR4                     5719   40141  14.247278\n",
       "4  AR5                    21232  101654  20.886537\n",
       "5  AR6                    29722  124708  23.833275"
      ]
     },
     "execution_count": 77,
     "metadata": {},
     "output_type": "execute_result"
    }
   ],
   "source": [
    "sus['share'] = sus[\"research|sustain|social\"] / sus['yn'] * 100\n",
    "sus.head(6)"
   ]
  },
  {
   "cell_type": "code",
   "execution_count": 78,
   "metadata": {
    "collapsed": false
   },
   "outputs": [
    {
     "data": {
      "image/png": "[encoded data removed]",
      "text/plain": [
       "<matplotlib.figure.Figure at 0x7fac66e415c0>"
      ]
     },
     "metadata": {},
     "output_type": "display_data"
    }
   ],
   "source": [
    "sus[['AP','share']].set_index('AP').plot(legend=None)\n",
    "plt.ylabel('% share of documents')\n",
    "plt.ylim(ymin=0)\n",
    "plt.suptitle(\"research|sustain|social\")\n",
    "plt.savefig('../plots/sus_share.png'.format(run_id),bbox_inches='tight')\n",
    "\n",
    "plt.show()"
   ]
  },
  {
   "cell_type": "code",
   "execution_count": 72,
   "metadata": {
    "collapsed": false
   },
   "outputs": [],
   "source": [
    "phrase = \"aerosol|forcing\"\n",
    "aero = check_phrase(phrase)\n"
   ]
  },
  {
   "cell_type": "code",
   "execution_count": 75,
   "metadata": {
    "collapsed": false
   },
   "outputs": [
    {
     "data": {
      "text/html": [
       "<div>\n",
       "<table border=\"1\" class=\"dataframe\">\n",
       "  <thead>\n",
       "    <tr style=\"text-align: right;\">\n",
       "      <th></th>\n",
       "      <th>AP</th>\n",
       "      <th>aerosol|forcing</th>\n",
       "      <th>yn</th>\n",
       "      <th>share</th>\n",
       "    </tr>\n",
       "  </thead>\n",
       "  <tbody>\n",
       "    <tr>\n",
       "      <th>0</th>\n",
       "      <td>AR1</td>\n",
       "      <td>31</td>\n",
       "      <td>264</td>\n",
       "      <td>11.742424</td>\n",
       "    </tr>\n",
       "    <tr>\n",
       "      <th>1</th>\n",
       "      <td>AR2</td>\n",
       "      <td>381</td>\n",
       "      <td>5801</td>\n",
       "      <td>6.567833</td>\n",
       "    </tr>\n",
       "    <tr>\n",
       "      <th>2</th>\n",
       "      <td>AR3</td>\n",
       "      <td>1296</td>\n",
       "      <td>16750</td>\n",
       "      <td>7.737313</td>\n",
       "    </tr>\n",
       "    <tr>\n",
       "      <th>3</th>\n",
       "      <td>AR4</td>\n",
       "      <td>3076</td>\n",
       "      <td>40141</td>\n",
       "      <td>7.662988</td>\n",
       "    </tr>\n",
       "    <tr>\n",
       "      <th>4</th>\n",
       "      <td>AR5</td>\n",
       "      <td>5441</td>\n",
       "      <td>101654</td>\n",
       "      <td>5.352470</td>\n",
       "    </tr>\n",
       "    <tr>\n",
       "      <th>5</th>\n",
       "      <td>AR6</td>\n",
       "      <td>5182</td>\n",
       "      <td>124708</td>\n",
       "      <td>4.155307</td>\n",
       "    </tr>\n",
       "  </tbody>\n",
       "</table>\n",
       "</div>"
      ],
      "text/plain": [
       "    AP  aerosol|forcing      yn      share\n",
       "0  AR1               31     264  11.742424\n",
       "1  AR2              381    5801   6.567833\n",
       "2  AR3             1296   16750   7.737313\n",
       "3  AR4             3076   40141   7.662988\n",
       "4  AR5             5441  101654   5.352470\n",
       "5  AR6             5182  124708   4.155307"
      ]
     },
     "execution_count": 75,
     "metadata": {},
     "output_type": "execute_result"
    }
   ],
   "source": [
    "aero['share'] = aero[phrase] / aero['yn'] * 100\n",
    "aero.head(6)"
   ]
  },
  {
   "cell_type": "code",
   "execution_count": 119,
   "metadata": {
    "collapsed": false
   },
   "outputs": [
    {
     "data": {
      "image/png": "[encoded data removed]",
      "text/plain": [
       "<matplotlib.figure.Figure at 0x7fac6439f940>"
      ]
     },
     "metadata": {},
     "output_type": "display_data"
    }
   ],
   "source": [
    "aero[['AP','share']].set_index('AP').plot(legend=None)\n",
    "plt.ylabel('% share of documents')\n",
    "plt.ylim(ymin=0)\n",
    "plt.suptitle(\"aerosol|forcing|cloud\")\n",
    "plt.savefig('../plots/aero_share.png'.format(run_id),bbox_inches='tight')\n",
    "\n",
    "plt.show()"
   ]
  },
  {
   "cell_type": "code",
   "execution_count": 113,
   "metadata": {
    "collapsed": true
   },
   "outputs": [],
   "source": [
    "phrase = \"migration\"\n",
    "migration = check_phrase(phrase)\n"
   ]
  },
  {
   "cell_type": "code",
   "execution_count": 117,
   "metadata": {
    "collapsed": false
   },
   "outputs": [],
   "source": [
    "migration['share'] = migration[phrase] / migration['yn'] * 100\n",
    "migration.head(6)\n",
    "migration.to_csv('../tables/migration.csv')"
   ]
  },
  {
   "cell_type": "code",
   "execution_count": 118,
   "metadata": {
    "collapsed": false
   },
   "outputs": [
    {
     "data": {
      "image/png": "[encoded data removed]",
      "text/plain": [
       "<matplotlib.figure.Figure at 0x7fac67c9f2e8>"
      ]
     },
     "metadata": {},
     "output_type": "display_data"
    }
   ],
   "source": [
    "migration[['AP','share']].set_index('AP').plot(legend=None)\n",
    "plt.ylabel('% share of documents')\n",
    "plt.ylim(ymin=0)\n",
    "plt.suptitle(phrase)\n",
    "plt.savefig('../plots/migration.png'.format(run_id),bbox_inches='tight')\n",
    "\n",
    "plt.show()"
   ]
  },
  {
   "cell_type": "code",
   "execution_count": 91,
   "metadata": {
    "collapsed": true
   },
   "outputs": [],
   "source": [
    "ip_shares = [\n",
    "    \n",
    "]"
   ]
  },
  {
   "cell_type": "code",
   "execution_count": 92,
   "metadata": {
    "collapsed": false
   },
   "outputs": [
    {
     "name": "stdout",
     "output_type": "stream",
     "text": [
      "4.780946940329973\n",
      "1.5467409563179615\n"
     ]
    }
   ],
   "source": [
    "ipcounts = IPCCRef.objects.all().count()\n",
    "ipaero = IPCCRef.objects.filter(text__iregex=\"aerosol|forcing|cloud\").count()\n",
    "ipshare = ipaero/ipcounts*100\n",
    "\n",
    "doc_ids = set(list(DocTopic.objects.filter(\n",
    "    run_id=parent_run_id\n",
    ").values_list('doc_id',flat=True)))\n",
    "\n",
    "docs = Doc.objects.filter(id__in=doc_ids).count()\n",
    "aerodocs = Doc.objects.filter(id__in=doc_ids,title__iregex=\"aerosol|forcing|cloud\").count()\n",
    "\n",
    "docshare = aerodocs / docs * 100\n",
    "\n",
    "ip_shares.append({\n",
    "    'words': \"aerosol|forcing|cloud\",\n",
    "    'ipshare': ipshare,\n",
    "    'docshare': docshare\n",
    "})\n",
    "\n",
    "print(ipshare)\n",
    "print(docshare)"
   ]
  },
  {
   "cell_type": "code",
   "execution_count": 93,
   "metadata": {
    "collapsed": false
   },
   "outputs": [
    {
     "name": "stdout",
     "output_type": "stream",
     "text": [
      "0.05576637967383469\n",
      "0.23631614118218822\n"
     ]
    }
   ],
   "source": [
    "ipcounts = IPCCRef.objects.all().count()\n",
    "ipaero = IPCCRef.objects.filter(text__iregex=\"carbon capture\").count()\n",
    "ipshare = ipaero/ipcounts*100\n",
    "\n",
    "doc_ids = set(list(DocTopic.objects.filter(\n",
    "    run_id=parent_run_id\n",
    ").values_list('doc_id',flat=True)))\n",
    "\n",
    "docs = Doc.objects.filter(\n",
    "    id__in=doc_ids,\n",
    "    PY__lt=2014\n",
    ").count()\n",
    "aerodocs = Doc.objects.filter(\n",
    "    id__in=doc_ids,\n",
    "    title__iregex=\"carbon capture\",\n",
    "    PY__lt=2014\n",
    ").count()\n",
    "\n",
    "docshare = aerodocs / docs * 100\n",
    "\n",
    "ip_shares.append({\n",
    "    'words': \"carbon capture\",\n",
    "    'ipshare': ipshare,\n",
    "    'docshare': docshare\n",
    "})\n",
    "\n",
    "print(ipshare)\n",
    "print(docshare)"
   ]
  },
  {
   "cell_type": "code",
   "execution_count": 94,
   "metadata": {
    "collapsed": false
   },
   "outputs": [
    {
     "data": {
      "text/html": [
       "<div>\n",
       "<table border=\"1\" class=\"dataframe\">\n",
       "  <thead>\n",
       "    <tr style=\"text-align: right;\">\n",
       "      <th></th>\n",
       "      <th>docshare</th>\n",
       "      <th>ipshare</th>\n",
       "      <th>words</th>\n",
       "    </tr>\n",
       "  </thead>\n",
       "  <tbody>\n",
       "    <tr>\n",
       "      <th>0</th>\n",
       "      <td>1.546741</td>\n",
       "      <td>4.780947</td>\n",
       "      <td>aerosol|forcing|cloud</td>\n",
       "    </tr>\n",
       "    <tr>\n",
       "      <th>1</th>\n",
       "      <td>0.236316</td>\n",
       "      <td>0.055766</td>\n",
       "      <td>carbon capture</td>\n",
       "    </tr>\n",
       "  </tbody>\n",
       "</table>\n",
       "</div>"
      ],
      "text/plain": [
       "   docshare   ipshare                  words\n",
       "0  1.546741  4.780947  aerosol|forcing|cloud\n",
       "1  0.236316  0.055766         carbon capture"
      ]
     },
     "execution_count": 94,
     "metadata": {},
     "output_type": "execute_result"
    }
   ],
   "source": [
    "df = pd.DataFrame.from_dict(ip_shares)\n",
    "df.head()"
   ]
  },
  {
   "cell_type": "code",
   "execution_count": 107,
   "metadata": {
    "collapsed": false
   },
   "outputs": [
    {
     "data": {
      "image/png": "[encoded data removed]",
      "text/plain": [
       "<matplotlib.figure.Figure at 0x7fac62bfd320>"
      ]
     },
     "metadata": {},
     "output_type": "display_data"
    }
   ],
   "source": [
    "df.set_index('words').plot(kind=\"bar\")\n",
    "plt.xlabel('')\n",
    "plt.ylabel('% share of documents')\n",
    "plt.xticks(rotation=0)\n",
    "plt.savefig('../plots/ipcc_rep_simple.png'.format(run_id),bbox_inches='tight')\n",
    "plt.show()"
   ]
  },
  {
   "cell_type": "code",
   "execution_count": 110,
   "metadata": {
    "collapsed": false
   },
   "outputs": [
    {
     "name": "stdout",
     "output_type": "stream",
     "text": [
      "0.35908107887542334\n",
      "0.3754328412611628\n"
     ]
    }
   ],
   "source": [
    "ipcounts = IPCCRef.objects.all().count()\n",
    "ipaero = IPCCRef.objects.filter(text__iregex=\"migration\").count()\n",
    "ipshare = ipaero/ipcounts*100\n",
    "\n",
    "doc_ids = set(list(DocTopic.objects.filter(\n",
    "    run_id=parent_run_id\n",
    ").values_list('doc_id',flat=True)))\n",
    "\n",
    "docs = Doc.objects.filter(\n",
    "    id__in=doc_ids,\n",
    "    PY__lt=2014\n",
    ").count()\n",
    "aerodocs = Doc.objects.filter(\n",
    "    id__in=doc_ids,\n",
    "    title__iregex=\"migration\",\n",
    "    PY__lt=2014\n",
    ").count()\n",
    "\n",
    "docshare = aerodocs / docs * 100\n",
    "\n",
    "ip_shares.append({\n",
    "    'words': \"migration\",\n",
    "    'ipshare': ipshare,\n",
    "    'docshare': docshare\n",
    "})\n",
    "\n",
    "print(ipshare)\n",
    "print(docshare)"
   ]
  },
  {
   "cell_type": "code",
   "execution_count": 112,
   "metadata": {
    "collapsed": false
   },
   "outputs": [
    {
     "data": {
      "image/png": "[encoded data removed]",
      "text/plain": [
       "<matplotlib.figure.Figure at 0x7fac62f21160>"
      ]
     },
     "metadata": {},
     "output_type": "display_data"
    }
   ],
   "source": [
    "df = pd.DataFrame.from_dict(ip_shares)\n",
    "df.head()\n",
    "\n",
    "df.set_index('words').plot(kind=\"bar\")\n",
    "plt.xlabel('')\n",
    "plt.ylabel('% share of documents')\n",
    "plt.xticks(rotation=0)\n",
    "plt.savefig('../plots/ipcc_rep_simple.png'.format(run_id),bbox_inches='tight')\n",
    "plt.show()"
   ]
  }
 ],
 "metadata": {
  "kernelspec": {
   "display_name": "Python 3",
   "language": "python",
   "name": "python3"
  },
  "language_info": {
   "codemirror_mode": {
    "name": "ipython",
    "version": 3
   },
   "file_extension": ".py",
   "mimetype": "text/x-python",
   "name": "python",
   "nbconvert_exporter": "python",
   "pygments_lexer": "ipython3",
   "version": "3.4.3"
  }
 },
 "nbformat": 4,
 "nbformat_minor": 2
}
