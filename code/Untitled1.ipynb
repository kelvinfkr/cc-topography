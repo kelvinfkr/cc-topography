{
 "cells": [
  {
   "cell_type": "code",
   "execution_count": 14,
   "metadata": {},
   "outputs": [
    {
     "data": {
      "text/html": [
       "<div>\n",
       "<style scoped>\n",
       "    .dataframe tbody tr th:only-of-type {\n",
       "        vertical-align: middle;\n",
       "    }\n",
       "\n",
       "    .dataframe tbody tr th {\n",
       "        vertical-align: top;\n",
       "    }\n",
       "\n",
       "    .dataframe thead th {\n",
       "        text-align: right;\n",
       "    }\n",
       "</style>\n",
       "<table border=\"1\" class=\"dataframe\">\n",
       "  <thead>\n",
       "    <tr style=\"text-align: right;\">\n",
       "      <th></th>\n",
       "      <th>Unnamed: 0</th>\n",
       "      <th>topic__title</th>\n",
       "      <th>tscore</th>\n",
       "      <th>tshare</th>\n",
       "      <th>cluster</th>\n",
       "    </tr>\n",
       "  </thead>\n",
       "  <tbody>\n",
       "    <tr>\n",
       "      <th>3222</th>\n",
       "      <td>0</td>\n",
       "      <td>{forest, tropic, stand}</td>\n",
       "      <td>104.250300</td>\n",
       "      <td>0.296830</td>\n",
       "      <td>33</td>\n",
       "    </tr>\n",
       "    <tr>\n",
       "      <th>3223</th>\n",
       "      <td>1</td>\n",
       "      <td>{carbon, dioxid, sequestr}</td>\n",
       "      <td>16.765666</td>\n",
       "      <td>0.047737</td>\n",
       "      <td>33</td>\n",
       "    </tr>\n",
       "    <tr>\n",
       "      <th>3224</th>\n",
       "      <td>2</td>\n",
       "      <td>{ecosystem, servic, function}</td>\n",
       "      <td>12.343537</td>\n",
       "      <td>0.035146</td>\n",
       "      <td>33</td>\n",
       "    </tr>\n",
       "    <tr>\n",
       "      <th>3225</th>\n",
       "      <td>3</td>\n",
       "      <td>{manag, resourc, plan}</td>\n",
       "      <td>12.193382</td>\n",
       "      <td>0.034718</td>\n",
       "      <td>33</td>\n",
       "    </tr>\n",
       "    <tr>\n",
       "      <th>3226</th>\n",
       "      <td>4</td>\n",
       "      <td>{tree, stand, pine}</td>\n",
       "      <td>8.024213</td>\n",
       "      <td>0.022847</td>\n",
       "      <td>33</td>\n",
       "    </tr>\n",
       "  </tbody>\n",
       "</table>\n",
       "</div>"
      ],
      "text/plain": [
       "      Unnamed: 0                   topic__title      tscore    tshare  cluster\n",
       "3222           0        {forest, tropic, stand}  104.250300  0.296830       33\n",
       "3223           1     {carbon, dioxid, sequestr}   16.765666  0.047737       33\n",
       "3224           2  {ecosystem, servic, function}   12.343537  0.035146       33\n",
       "3225           3         {manag, resourc, plan}   12.193382  0.034718       33\n",
       "3226           4            {tree, stand, pine}    8.024213  0.022847       33"
      ]
     },
     "execution_count": 14,
     "metadata": {},
     "output_type": "execute_result"
    }
   ],
   "source": [
    "import pandas as pd#\n",
    "\n",
    "df = pd.read_csv(\"../tsne_results/data/run_662_s_100000_p30_clusters.png\")\n",
    "cl = 33\n",
    "df[df['cluster']==cl].head()"
   ]
  }
 ],
 "metadata": {
  "kernelspec": {
   "display_name": "Python 3",
   "language": "python",
   "name": "python3"
  },
  "language_info": {
   "codemirror_mode": {
    "name": "ipython",
    "version": 3
   },
   "file_extension": ".py",
   "mimetype": "text/x-python",
   "name": "python",
   "nbconvert_exporter": "python",
   "pygments_lexer": "ipython3",
   "version": "3.6.5"
  }
 },
 "nbformat": 4,
 "nbformat_minor": 2
}
