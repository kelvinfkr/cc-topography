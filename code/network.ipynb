{
 "cells": [
  {
   "cell_type": "code",
   "execution_count": 1,
   "metadata": {
    "collapsed": false,
    "deletable": true,
    "editable": true
   },
   "outputs": [],
   "source": [
    "import os, sys, time, resource, re, gc, shutil\n",
    "from multiprocess import Pool\n",
    "from functools import partial\n",
    "from urllib.parse import urlparse, parse_qsl\n",
    "import matplotlib\n",
    "matplotlib.use('pgf')\n",
    "import matplotlib.pyplot as plt\n",
    "import numpy as np\n",
    "import pandas as pd\n",
    "import django\n",
    "import igraph\n",
    "sys.path.append('/home/galm/software/django/tmv/BasicBrowser/')\n",
    "os.environ.setdefault(\"DJANGO_SETTINGS_MODULE\", \"BasicBrowser.settings\")\n",
    "django.setup()\n",
    "from django.db.models import Q, F, Sum, Count, FloatField, Case, When, Value, Max\n",
    "import matplotlib.patches as patches\n",
    "from scipy.sparse import csr_matrix, find\n",
    "\n",
    "from scoping.models import *\n",
    "from tmv_app.models import *\n",
    "\n",
    "from sklearn.feature_extraction.text import CountVectorizer, TfidfVectorizer\n",
    "from sklearn.preprocessing import normalize\n",
    "from nltk.stem import SnowballStemmer\n",
    "\n",
    "\n",
    "import textwrap as tw\n",
    "from utils.text import *\n",
    "import networkx as nx\n",
    "run_id = 665\n",
    "stat = RunStats.objects.get(pk=run_id)\n",
    "top = 11046\n",
    "\n",
    "dtopics = DynamicTopic.objects.filter(run_id=stat)\n",
    "wtopics = Topic.objects.filter(run_id=stat)\n"
   ]
  },
  {
   "cell_type": "code",
   "execution_count": 2,
   "metadata": {
    "collapsed": true,
    "deletable": true,
    "editable": true
   },
   "outputs": [],
   "source": [
    "def return_corrs(ar,cor,run_id):\n",
    "    topics = DynamicTopic\n",
    "    topiccorrs = DynamicTopicCorr\n",
    "    tars = DynamicTopicARScores\n",
    "    field = 'dynamictopicarscores__score'\n",
    "    nodes = topics.objects.filter(\n",
    "        run_id=run_id,\n",
    "        timedtopic__period__n=ar,\n",
    "        timedtopic__share__gt=0.0025\n",
    "    )\n",
    "    \n",
    "    nodelist = list(nodes.values_list('id',flat=True))\n",
    "    \n",
    "    nodes = list(nodes.values('id','title','score','primary_wg','wg_prop'))\n",
    "    for n in nodes:\n",
    "        if ar > -1:\n",
    "            tdt = TimeDTopic.objects.get(dtopic_id=n['id'],period__n=ar)\n",
    "            n['arscore'] = tdt.score\n",
    "    links = topiccorrs.objects.filter(run_id=run_id).filter(\n",
    "        score__gt=cor,\n",
    "        score__lt=1,\n",
    "        ar=ar\n",
    "    ).annotate(\n",
    "        source=F('topic'),\n",
    "        target=F('topiccorr')\n",
    "    )\n",
    "    links = list(links.values('source','target','score'))\n",
    "    \n",
    "    links = [x for x in links if x['source'] in nodelist and x['target'] in nodelist]\n",
    "    \n",
    "    for node in nodes:\n",
    "        if node['arscore'] is None:\n",
    "            node['arscore'] = 0\n",
    "    return nodes,links"
   ]
  },
  {
   "cell_type": "code",
   "execution_count": 3,
   "metadata": {
    "collapsed": false,
    "deletable": true,
    "editable": true
   },
   "outputs": [],
   "source": [
    "def generate_graph(nodes,links,top=None,c=1):\n",
    "    g = igraph.Graph()\n",
    "    dt_max = max([x['arscore'] for x in nodes])\n",
    "\n",
    "    cmap = {\n",
    "        1: \"#66c2a5\",\n",
    "        2: \"#fc8d62\",\n",
    "        3: \"#8da0cb\"\n",
    "    }\n",
    "\n",
    "    for n in nodes:\n",
    "        g.add_vertex(\n",
    "            name=str(n['id']),\n",
    "            primary_wg=n['primary_wg'],\n",
    "            color=cmap[n['primary_wg']],\n",
    "            size=20/dt_max*n['arscore'],\n",
    "            title=n['title'],\n",
    "            ttype=\"dynamic\"\n",
    "        )\n",
    "        \n",
    "    labels = []\n",
    "    \n",
    "    node = [x for x in nodes if x['id']==top]\n",
    "    if len(node) > 0: \n",
    "        node = node[0]\n",
    "        node['v'] = g.vs.find(name=str(top))\n",
    "        if node not in labels:\n",
    "            labels.append(node)\n",
    "    \n",
    "    for l in links:\n",
    "        ns = [l['source'],l['target']]\n",
    "        if top in ns and l['score'] > c:\n",
    "            highlight=0.5\n",
    "            for n in ns:\n",
    "                node = [x for x in nodes if x['id']==n]       \n",
    "                if len(node) > 0: \n",
    "                    node = node[0]\n",
    "                    node['v'] = g.vs.find(name=str(top))\n",
    "                    if node not in labels:\n",
    "                        labels.append(node)\n",
    "\n",
    "        else:\n",
    "            highlight=0\n",
    "                  \n",
    "        g.add_edge(str(l['source']),str(l['target']),weight=l['score'],highlight=highlight)\n",
    "\n",
    "    layout = g.layout('fr', weights='weight')\n",
    "    \n",
    "\n",
    "\n",
    "    return g, layout, labels\n",
    "\n",
    "def draw_graph(g, layout, ax, labels):\n",
    "    label_ids = [l['id'] for l in labels]\n",
    "    x = [x[0] for x in layout]\n",
    "    y = [x[1] for x in layout]\n",
    "    c = [v[\"color\"] for v in g.vs]\n",
    "    s = [v[\"size\"]*5 for v in g.vs]\n",
    "    lw = [0.05 if int(v['name']) not in label_ids else 1.5 for v in g.vs ]\n",
    "\n",
    "    ax.scatter(x,y,c=c,s=s,edgecolor=\"black\",linewidths=lw)\n",
    "\n",
    "    for e in g.es:#[:1000]:\n",
    "        s = layout[e.source]\n",
    "        t = layout[e.target]\n",
    "        ex = [s[0],t[0]]\n",
    "        ey = [s[1],t[1]]\n",
    "        lw = 0.05+(np.log(e['weight']+1)*0.5)+e['highlight']*2 #+0.05+(np.log(e['connection_to_n']+1)*5)  #+0.05+np.log(e['connection_to_n'])\n",
    "        alpha = 0.2+(np.log(e['weight']+1)*0.5)+e['highlight']*2\n",
    "        ax.plot(\n",
    "            ex,\n",
    "            ey,\n",
    "            c=\"grey\",\n",
    "            lw=lw,\n",
    "            alpha=alpha,\n",
    "            zorder=-1\n",
    "        )    \n",
    "    for l in labels:\n",
    "        xy = layout[l['v'].index]\n",
    "        ax.text(xy[0],xy[1],l['title'])\n",
    "                \n",
    "    return #xs, ys\n",
    "\n",
    "def eigenvector_centralization(G,w):\n",
    "    vnum = G.vcount()\n",
    "    if vnum < 3:\n",
    "        raise ValueError(\"graph must have at least three vertices\")\n",
    "    denom = (vnum-1)*(vnum-2)\n",
    " \n",
    "    temparr = [2*i/denom for i in G.eigenvector_centrality(weights=\"weight\")]\n",
    "    max_temparr = max(temparr)\n",
    "    return sum(max_temparr-i for i in temparr)/(vnum-1)"
   ]
  },
  {
   "cell_type": "code",
   "execution_count": 4,
   "metadata": {
    "collapsed": false,
    "deletable": true,
    "editable": true
   },
   "outputs": [
    {
     "name": "stdout",
     "output_type": "stream",
     "text": [
      "1\n",
      "2\n",
      "3\n",
      "4\n",
      "5\n",
      "6\n"
     ]
    }
   ],
   "source": [
    "fig = plt.figure()\n",
    "\n",
    "plt.rcParams[\"figure.figsize\"] = (18,18)\n",
    "\n",
    "\n",
    "pgf_with_latex = {\n",
    "    \"text.usetex\": True,            # use LaTeX to write all text\n",
    "    \"pgf.rcfonts\": False,           # Ignore Matplotlibrc\n",
    "    \"text.latex.unicode\": True,\n",
    "    \"pgf.preamble\": [\n",
    "        #r\"\\usepackage[utf8x]{inputenc}\",\n",
    "        r\"\\usepackage{xcolor}\"\n",
    "    ],\n",
    "    \"pgf.texsystem\" : \"xelatex\",\n",
    "    \"figure.figsize\": [12,7]\n",
    "}\n",
    "matplotlib.rcParams.update(pgf_with_latex)\n",
    "\n",
    "periods = TimePeriod.objects.filter(timedtopic__dtopic__run_id=run_id).distinct()\n",
    "\n",
    "all_df = pd.DataFrame()\n",
    "\n",
    "n_ars = 6\n",
    "\n",
    "\n",
    "\n",
    "graph_centrality = []\n",
    "\n",
    "for i,ar in enumerate(range(1,n_ars+1)):\n",
    "    print(ar)\n",
    "    p = periods.get(n=ar)\n",
    "    ax = fig.add_subplot(3,3,i+1)\n",
    "    nodes, links = return_corrs(ar,0.0001,run_id)\n",
    "    g, layout, labels =  generate_graph(nodes, links, top)\n",
    "    draw_graph(g, layout, ax, labels)\n",
    "    ax.set_title(p.title)\n",
    "    ax.grid(False)\n",
    "    ax.axis('off')\n",
    "    node_df = pd.DataFrame.from_dict([x.attributes() for x in g.vs])\n",
    "    node_df['ar'] = p.title\n",
    "    node_df['eigen_centrality'] = g.eigenvector_centrality(weights='weight')\n",
    "    all_df = all_df.append(node_df)\n",
    "    graph_centrality.append(eigenvector_centralization(g,'weight'))\n",
    "    \n",
    "    \n",
    "ax = fig.add_subplot(3,3,i+2)\n",
    "ax.set_title(\"Topic centrality\")\n",
    "\n",
    "#node = [x for x in nodes if x['id']==top][0]\n",
    "#v = node['v'] = g.vs.find(name=str(top))\n",
    "#df = pd.DataFrame.from_dict(list(TimeDTopic.objects.filter(dtopic_id=top).values(\n",
    "#    'period__title','share','score'\n",
    "#))).groupby(['period__title'])['share'].mean()\n",
    "#df.plot.bar(color=v['color'],ax=ax)\n",
    "\n",
    "ind = np.arange(n_ars)\n",
    "width=0.25\n",
    "i=-1\n",
    "cmap = {\n",
    "    1: \"#66c2a5\",\n",
    "    2: \"#fc8d62\",\n",
    "    3: \"#8da0cb\"\n",
    "}\n",
    "\n",
    "for name, group in all_df.groupby('primary_wg'):\n",
    "    c = cmap[name]\n",
    "    p = ax.bar(\n",
    "        ind+(i*width),\n",
    "        #group.sort_values('ar')['eigen_centrality'][:n_ars],\n",
    "        group.groupby('ar')['eigen_centrality'].mean()[:n_ars],\n",
    "        width,\n",
    "        color=c\n",
    "    )\n",
    "    i+=1\n",
    "    \n",
    "fig.patch.set_facecolor('#f0f0f0')\n",
    "plt.savefig(\"../plots/network_development_wgs_{}.pdf\".format(run_id),antialiased=True,facecolor=fig.get_facecolor())"
   ]
  },
  {
   "cell_type": "code",
   "execution_count": null,
   "metadata": {
    "collapsed": false,
    "deletable": true,
    "editable": true
   },
   "outputs": [],
   "source": []
  },
  {
   "cell_type": "code",
   "execution_count": 5,
   "metadata": {
    "collapsed": false,
    "deletable": true,
    "editable": true
   },
   "outputs": [],
   "source": [
    "n_ars = 5 \n",
    "\n",
    "fig, ax = plt.subplots()\n",
    "ind = np.arange(n_ars)\n",
    "\n",
    "width=0.25\n",
    "\n",
    "i=-1\n",
    "cmap = {\n",
    "    1: \"#66c2a5\",\n",
    "    2: \"#fc8d62\",\n",
    "    3: \"#8da0cb\"\n",
    "}\n",
    "for name, group in all_df.groupby('primary_wg'):\n",
    "    c = cmap[name]\n",
    "    p = ax.bar(ind+(i*width),group.sort_values('ar')['eigen_centrality'][:n_ars],width,color=c)\n",
    "    i+=1"
   ]
  },
  {
   "cell_type": "code",
   "execution_count": 6,
   "metadata": {
    "collapsed": false,
    "deletable": true,
    "editable": true
   },
   "outputs": [
    {
     "data": {
      "text/plain": [
       "[0.0005454065864564285,\n",
       " 0.0002567270930028122,\n",
       " 0.00021888489638552958,\n",
       " 0.00020592728254674987,\n",
       " 0.00019689072810077896,\n",
       " 0.00019575051214540352]"
      ]
     },
     "execution_count": 6,
     "metadata": {},
     "output_type": "execute_result"
    }
   ],
   "source": [
    "graph_centrality"
   ]
  },
  {
   "cell_type": "code",
   "execution_count": 7,
   "metadata": {
    "collapsed": false,
    "deletable": true,
    "editable": true
   },
   "outputs": [
    {
     "data": {
      "text/plain": [
       "<matplotlib.axes._subplots.AxesSubplot at 0x7fe93ee79278>"
      ]
     },
     "execution_count": 7,
     "metadata": {},
     "output_type": "execute_result"
    }
   ],
   "source": [
    "node_df.groupby(['primary_wg','ar'])['eigen_centrality'].mean().plot.bar()"
   ]
  },
  {
   "cell_type": "code",
   "execution_count": null,
   "metadata": {
    "collapsed": false,
    "deletable": true,
    "editable": true
   },
   "outputs": [],
   "source": []
  }
 ],
 "metadata": {
  "kernelspec": {
   "display_name": "tmvenv",
   "language": "python",
   "name": "tmvenv"
  },
  "language_info": {
   "codemirror_mode": {
    "name": "ipython",
    "version": 3
   },
   "file_extension": ".py",
   "mimetype": "text/x-python",
   "name": "python",
   "nbconvert_exporter": "python",
   "pygments_lexer": "ipython3",
   "version": "3.4.3"
  }
 },
 "nbformat": 4,
 "nbformat_minor": 2
}
