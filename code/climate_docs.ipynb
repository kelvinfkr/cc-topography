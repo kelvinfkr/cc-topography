{
 "cells": [
  {
   "cell_type": "code",
   "execution_count": 1,
   "metadata": {
    "collapsed": true
   },
   "outputs": [],
   "source": [
    "import os, sys, time, resource, re, gc, shutil\n",
    "from multiprocess import Pool\n",
    "from functools import partial\n",
    "from tabulate import tabulate\n",
    "from urllib.parse import urlparse, parse_qsl\n",
    "\n",
    "import matplotlib.pyplot as plt\n",
    "import numpy as np\n",
    "import pandas as pd\n",
    "from mongoengine.queryset.visitor import Q\n",
    "import django\n",
    "from django.db.models import Count\n",
    "sys.path.append('/home/galm/software/django/tmv/BasicBrowser/')\n",
    "os.environ.setdefault(\"DJANGO_SETTINGS_MODULE\", \"BasicBrowser.settings\")\n",
    "django.setup()\n",
    "\n",
    "from scoping.models import *\n",
    "from tmv_app.models import *\n",
    "from django.db.models import F, Sum, Count\n",
    "from matplotlib import gridspec\n",
    "\n",
    "from utils.utils import *\n",
    "\n",
    "\n",
    "import statsmodels.formula.api as sm, statsmodels.stats.api as sms\n",
    "\n",
    "\n",
    "from run_id import run_id\n",
    "\n",
    "run_id = 654\n",
    "\n",
    "runstat = RunStats.objects.get(pk=run_id)"
   ]
  },
  {
   "cell_type": "code",
   "execution_count": 4,
   "metadata": {
    "collapsed": false
   },
   "outputs": [
    {
     "data": {
      "text/plain": [
       "175814"
      ]
     },
     "execution_count": 4,
     "metadata": {},
     "output_type": "execute_result"
    }
   ],
   "source": [
    "climate_docs = Doc.objects.filter(\n",
    "    title__icontains=\"climate change\"\n",
    ") | Doc.objects.filter(\n",
    "    title__icontains=\"global warming\"\n",
    ") | Doc.objects.filter(\n",
    "    content__icontains=\"climate change\"\n",
    ") | Doc.objects.filter(\n",
    "    content__icontains=\"global warming\"\n",
    ")\n",
    "\n",
    "climate_docs.count()\n"
   ]
  }
 ],
 "metadata": {
  "kernelspec": {
   "display_name": "Python 3",
   "language": "python",
   "name": "python3"
  },
  "language_info": {
   "codemirror_mode": {
    "name": "ipython",
    "version": 3
   },
   "file_extension": ".py",
   "mimetype": "text/x-python",
   "name": "python",
   "nbconvert_exporter": "python",
   "pygments_lexer": "ipython3",
   "version": "3.4.3"
  }
 },
 "nbformat": 4,
 "nbformat_minor": 2
}
