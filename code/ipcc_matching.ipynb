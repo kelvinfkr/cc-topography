{
 "cells": [
  {
   "cell_type": "code",
   "execution_count": 13,
   "metadata": {
    "collapsed": false,
    "deletable": true,
    "editable": true
   },
   "outputs": [],
   "source": [
    "import os, sys, time, resource, re, gc, shutil\n",
    "from multiprocess import Pool\n",
    "from functools import partial\n",
    "\n",
    "from urllib.parse import urlparse, parse_qsl\n",
    "import random\n",
    "\n",
    "import matplotlib.pyplot as plt\n",
    "import numpy as np\n",
    "import pandas as pd\n",
    "from mongoengine.queryset.visitor import Q\n",
    "import django\n",
    "from django.db.models import Count\n",
    "sys.path.append('/home/galm/software/django/tmv/BasicBrowser/')\n",
    "os.environ.setdefault(\"DJANGO_SETTINGS_MODULE\", \"BasicBrowser.settings\")\n",
    "django.setup()\n",
    "\n",
    "from scoping.models import *\n",
    "from tmv_app.models import *\n",
    "from django.db.models import F, Sum, Count\n",
    "from matplotlib import gridspec\n",
    "\n",
    "from utils.utils import *\n",
    "\n",
    "import statsmodels.formula.api as sm, statsmodels.stats.api as sms\n",
    "\n",
    "\n",
    "from run_id import run_id\n",
    "\n",
    "run_id = 1056\n",
    "\n",
    "runstat = RunStats.objects.get(pk=run_id)"
   ]
  },
  {
   "cell_type": "code",
   "execution_count": 14,
   "metadata": {
    "collapsed": false,
    "deletable": true,
    "editable": true
   },
   "outputs": [
    {
     "data": {
      "text/plain": [
       "181340"
      ]
     },
     "execution_count": 14,
     "metadata": {},
     "output_type": "execute_result"
    }
   ],
   "source": [
    "ar5 = AR.objects.get(ar=5)\n",
    "\n",
    "docs = Doc.objects.filter(query=runstat.query,PY__lte=ar5.end)\n",
    "\n",
    "docs.count()"
   ]
  },
  {
   "cell_type": "code",
   "execution_count": 10,
   "metadata": {
    "collapsed": false,
    "deletable": true,
    "editable": true
   },
   "outputs": [
    {
     "name": "stdout",
     "output_type": "stream",
     "text": [
      "Matched 27090 documents\n",
      "\n",
      "Didn't match 46421 documents\n",
      "\n",
      "Matched 0.3685162764756295% of documents\n",
      "\n"
     ]
    }
   ],
   "source": [
    "citations = IPCCRef.objects.all()\n",
    "\n",
    "citations.count()\n",
    "\n",
    "matched = citations.filter(doc__isnull=False)\n",
    "\n",
    "unmatched = citations.filter(doc__isnull=True)\n",
    "\n",
    "print(\"Matched {} documents\\n\".format(matched.count()))\n",
    "\n",
    "print(\"Didn't match {} documents\\n\".format(unmatched.count()))\n",
    "\n",
    "print(\"Matched {}% of documents\\n\".format(matched.count()/(matched.count()+unmatched.count())))"
   ]
  },
  {
   "cell_type": "code",
   "execution_count": 4,
   "metadata": {
    "collapsed": false,
    "deletable": true,
    "editable": true
   },
   "outputs": [
    {
     "data": {
      "text/html": [
       "<div>\n",
       "<style scoped>\n",
       "    .dataframe tbody tr th:only-of-type {\n",
       "        vertical-align: middle;\n",
       "    }\n",
       "\n",
       "    .dataframe tbody tr th {\n",
       "        vertical-align: top;\n",
       "    }\n",
       "\n",
       "    .dataframe thead th {\n",
       "        text-align: right;\n",
       "    }\n",
       "</style>\n",
       "<table border=\"1\" class=\"dataframe\">\n",
       "  <thead>\n",
       "    <tr style=\"text-align: right;\">\n",
       "      <th></th>\n",
       "      <th>text</th>\n",
       "      <th>year</th>\n",
       "    </tr>\n",
       "  </thead>\n",
       "  <tbody>\n",
       "    <tr>\n",
       "      <th>0</th>\n",
       "      <td>Assessing the Impact of the Clean Development ...</td>\n",
       "      <td>2012</td>\n",
       "    </tr>\n",
       "    <tr>\n",
       "      <th>1</th>\n",
       "      <td>Europe in   the new millennium. In: Assessment...</td>\n",
       "      <td>2000</td>\n",
       "    </tr>\n",
       "    <tr>\n",
       "      <th>2</th>\n",
       "      <td>Transient response of a coupled ocean-atmosphe...</td>\n",
       "      <td>1991</td>\n",
       "    </tr>\n",
       "    <tr>\n",
       "      <th>3</th>\n",
       "      <td>'Quantitative introduction of tumors in mice w...</td>\n",
       "      <td>1941</td>\n",
       "    </tr>\n",
       "    <tr>\n",
       "      <th>4</th>\n",
       "      <td>Climatic Effects of Aerosols and Clouds. Sprin...</td>\n",
       "      <td>1999</td>\n",
       "    </tr>\n",
       "  </tbody>\n",
       "</table>\n",
       "</div>"
      ],
      "text/plain": [
       "                                                text  year\n",
       "0  Assessing the Impact of the Clean Development ...  2012\n",
       "1  Europe in   the new millennium. In: Assessment...  2000\n",
       "2  Transient response of a coupled ocean-atmosphe...  1991\n",
       "3  'Quantitative introduction of tumors in mice w...  1941\n",
       "4  Climatic Effects of Aerosols and Clouds. Sprin...  1999"
      ]
     },
     "execution_count": 4,
     "metadata": {},
     "output_type": "execute_result"
    }
   ],
   "source": [
    "df = pd.DataFrame.from_dict(list(unmatched.values('text','year')))\n",
    "df.head()"
   ]
  },
  {
   "cell_type": "code",
   "execution_count": 5,
   "metadata": {
    "collapsed": false,
    "deletable": true,
    "editable": true
   },
   "outputs": [
    {
     "data": {
      "image/png": "[encoded data removed]",
      "text/plain": [
       "<matplotlib.figure.Figure at 0x7ff4dcea1710>"
      ]
     },
     "metadata": {},
     "output_type": "display_data"
    }
   ],
   "source": [
    "df.groupby(['year']).count().plot()\n",
    "\n",
    "plt.show()"
   ]
  },
  {
   "cell_type": "code",
   "execution_count": 6,
   "metadata": {
    "collapsed": false,
    "deletable": true,
    "editable": true
   },
   "outputs": [
    {
     "data": {
      "image/png": "[encoded data removed]",
      "text/plain": [
       "<matplotlib.figure.Figure at 0x7ff4dbd95f98>"
      ]
     },
     "metadata": {},
     "output_type": "display_data"
    }
   ],
   "source": [
    "plt.rcParams[\"figure.figsize\"] = [18,12]\n",
    "\n",
    "fig, axs = plt.subplots(\n",
    "    nrows=3,\n",
    "    ncols=5,\n",
    "    sharey=True#,\n",
    "    #gridspec_kw=dict(hspace=0.4,)\n",
    ")\n",
    "\n",
    "\n",
    "for wg in WG.objects.all().order_by('ar','wg'):\n",
    "    ax = axs[wg.wg-1][wg.ar.ar-1]\n",
    "    irs = IPCCRef.objects.filter(\n",
    "        ar=wg.ar,\n",
    "        wg=wg\n",
    "    )\n",
    "    matched = irs.filter(doc__isnull=False).count()\n",
    "    unmatched = irs.filter(doc__isnull=True).count()\n",
    "    pcntage = round(matched / (matched+unmatched) * 100)\n",
    "    ax.text(1,matched+500,\"{}%\".format(pcntage),ha=\"center\",fontsize=14)\n",
    "    ax.bar([0,1],[unmatched,matched])\n",
    "    ax.set_xticks([0,1])\n",
    "    ax.set_xticklabels([\"Unmatched\",\"Matched\"])\n",
    "    ax.set_title('AR {:.0f} WG {:.0f}'.format(wg.ar.ar,wg.wg))\n",
    "    \n",
    "plt.savefig('../plots/ipcc_matches.png',bbox_inches='tight')   \n",
    "plt.show()"
   ]
  },
  {
   "cell_type": "code",
   "execution_count": 7,
   "metadata": {
    "collapsed": false,
    "deletable": true,
    "editable": true
   },
   "outputs": [
    {
     "data": {
      "text/html": [
       "<div>\n",
       "<style scoped>\n",
       "    .dataframe tbody tr th:only-of-type {\n",
       "        vertical-align: middle;\n",
       "    }\n",
       "\n",
       "    .dataframe tbody tr th {\n",
       "        vertical-align: top;\n",
       "    }\n",
       "\n",
       "    .dataframe thead th {\n",
       "        text-align: right;\n",
       "    }\n",
       "</style>\n",
       "<table border=\"1\" class=\"dataframe\">\n",
       "  <thead>\n",
       "    <tr style=\"text-align: right;\">\n",
       "      <th></th>\n",
       "      <th>matched</th>\n",
       "      <th>unmatched</th>\n",
       "      <th>wg__ar</th>\n",
       "    </tr>\n",
       "  </thead>\n",
       "  <tbody>\n",
       "    <tr>\n",
       "      <th>0</th>\n",
       "      <td>133.0</td>\n",
       "      <td>1554.0</td>\n",
       "      <td>1</td>\n",
       "    </tr>\n",
       "    <tr>\n",
       "      <th>1</th>\n",
       "      <td>981.0</td>\n",
       "      <td>5604.0</td>\n",
       "      <td>2</td>\n",
       "    </tr>\n",
       "    <tr>\n",
       "      <th>2</th>\n",
       "      <td>3956.0</td>\n",
       "      <td>10094.0</td>\n",
       "      <td>3</td>\n",
       "    </tr>\n",
       "    <tr>\n",
       "      <th>3</th>\n",
       "      <td>6678.0</td>\n",
       "      <td>10017.0</td>\n",
       "      <td>4</td>\n",
       "    </tr>\n",
       "    <tr>\n",
       "      <th>4</th>\n",
       "      <td>15468.0</td>\n",
       "      <td>19219.0</td>\n",
       "      <td>5</td>\n",
       "    </tr>\n",
       "  </tbody>\n",
       "</table>\n",
       "</div>"
      ],
      "text/plain": [
       "   matched  unmatched  wg__ar\n",
       "0    133.0     1554.0       1\n",
       "1    981.0     5604.0       2\n",
       "2   3956.0    10094.0       3\n",
       "3   6678.0    10017.0       4\n",
       "4  15468.0    19219.0       5"
      ]
     },
     "execution_count": 7,
     "metadata": {},
     "output_type": "execute_result"
    }
   ],
   "source": []
  },
  {
   "cell_type": "code",
   "execution_count": null,
   "metadata": {
    "collapsed": false,
    "deletable": true,
    "editable": true
   },
   "outputs": [],
   "source": []
  },
  {
   "cell_type": "code",
   "execution_count": 11,
   "metadata": {
    "collapsed": false,
    "deletable": true,
    "editable": true
   },
   "outputs": [
    {
     "data": {
      "text/html": [
       "<div>\n",
       "<style scoped>\n",
       "    .dataframe tbody tr th:only-of-type {\n",
       "        vertical-align: middle;\n",
       "    }\n",
       "\n",
       "    .dataframe tbody tr th {\n",
       "        vertical-align: top;\n",
       "    }\n",
       "\n",
       "    .dataframe thead th {\n",
       "        text-align: right;\n",
       "    }\n",
       "</style>\n",
       "<table border=\"1\" class=\"dataframe\">\n",
       "  <thead>\n",
       "    <tr style=\"text-align: right;\">\n",
       "      <th></th>\n",
       "      <th>ar</th>\n",
       "      <th>authors</th>\n",
       "      <th>text</th>\n",
       "      <th>wg__wg</th>\n",
       "      <th>year</th>\n",
       "    </tr>\n",
       "  </thead>\n",
       "  <tbody>\n",
       "    <tr>\n",
       "      <th>0</th>\n",
       "      <td>3</td>\n",
       "      <td>Müller, J.-F. and G. Brasseur</td>\n",
       "      <td>IMAGES: A three-dimensional   chemical transpo...</td>\n",
       "      <td>1</td>\n",
       "      <td>1995</td>\n",
       "    </tr>\n",
       "    <tr>\n",
       "      <th>1</th>\n",
       "      <td>3</td>\n",
       "      <td>Thomson, M.C., D.A. Elnaeim, R.W. Ashford, and...</td>\n",
       "      <td>Towards   a Kala Azar risk map for Sudan: mapp...</td>\n",
       "      <td>2</td>\n",
       "      <td>1999</td>\n",
       "    </tr>\n",
       "    <tr>\n",
       "      <th>2</th>\n",
       "      <td>3</td>\n",
       "      <td>Kundzewicz, Z. and K. Takeuchi</td>\n",
       "      <td>Flood protection and management:   quo vadimus...</td>\n",
       "      <td>2</td>\n",
       "      <td>1999</td>\n",
       "    </tr>\n",
       "    <tr>\n",
       "      <th>3</th>\n",
       "      <td>5</td>\n",
       "      <td>Verdon-Kidd, D.C., A.S. Kiem, and E.K. Austin</td>\n",
       "      <td>Decision Making underUncertainty – Bridging th...</td>\n",
       "      <td>2</td>\n",
       "      <td>2012</td>\n",
       "    </tr>\n",
       "    <tr>\n",
       "      <th>4</th>\n",
       "      <td>4</td>\n",
       "      <td>Barford, C.C., et al.</td>\n",
       "      <td>Factors controlling long and short term seques...</td>\n",
       "      <td>1</td>\n",
       "      <td>2001</td>\n",
       "    </tr>\n",
       "    <tr>\n",
       "      <th>5</th>\n",
       "      <td>3</td>\n",
       "      <td>UNCTAD</td>\n",
       "      <td>Fostering Technological Dynamics: Evolution of...</td>\n",
       "      <td>3</td>\n",
       "      <td>1996</td>\n",
       "    </tr>\n",
       "    <tr>\n",
       "      <th>6</th>\n",
       "      <td>4</td>\n",
       "      <td>Smith, L.C.</td>\n",
       "      <td>Time-trends in Russian Arctic river ice format...</td>\n",
       "      <td>2</td>\n",
       "      <td>2000</td>\n",
       "    </tr>\n",
       "    <tr>\n",
       "      <th>7</th>\n",
       "      <td>4</td>\n",
       "      <td>Downing, T.E., D. Anthoff, R. Butterfield, M. ...</td>\n",
       "      <td>Scoping uncertainty in the social cost of carb...</td>\n",
       "      <td>2</td>\n",
       "      <td>2005</td>\n",
       "    </tr>\n",
       "    <tr>\n",
       "      <th>8</th>\n",
       "      <td>5</td>\n",
       "      <td>Kahn Ribeiro S, S Kobayashi, M Beuthe, D S Lee...</td>\n",
       "      <td>Transport and its infrastruc-ture. In: Climate...</td>\n",
       "      <td>3</td>\n",
       "      <td>2007</td>\n",
       "    </tr>\n",
       "    <tr>\n",
       "      <th>9</th>\n",
       "      <td>5</td>\n",
       "      <td>Parsons Brinkerhoff</td>\n",
       "      <td>Energy Network Infrastructure and the Climate ...</td>\n",
       "      <td>2</td>\n",
       "      <td>2009</td>\n",
       "    </tr>\n",
       "  </tbody>\n",
       "</table>\n",
       "</div>"
      ],
      "text/plain": [
       "   ar                                            authors  \\\n",
       "0   3                      Müller, J.-F. and G. Brasseur   \n",
       "1   3  Thomson, M.C., D.A. Elnaeim, R.W. Ashford, and...   \n",
       "2   3                     Kundzewicz, Z. and K. Takeuchi   \n",
       "3   5      Verdon-Kidd, D.C., A.S. Kiem, and E.K. Austin   \n",
       "4   4                              Barford, C.C., et al.   \n",
       "5   3                                             UNCTAD   \n",
       "6   4                                        Smith, L.C.   \n",
       "7   4  Downing, T.E., D. Anthoff, R. Butterfield, M. ...   \n",
       "8   5  Kahn Ribeiro S, S Kobayashi, M Beuthe, D S Lee...   \n",
       "9   5                                Parsons Brinkerhoff   \n",
       "\n",
       "                                                text  wg__wg  year  \n",
       "0  IMAGES: A three-dimensional   chemical transpo...       1  1995  \n",
       "1  Towards   a Kala Azar risk map for Sudan: mapp...       2  1999  \n",
       "2  Flood protection and management:   quo vadimus...       2  1999  \n",
       "3  Decision Making underUncertainty – Bridging th...       2  2012  \n",
       "4  Factors controlling long and short term seques...       1  2001  \n",
       "5  Fostering Technological Dynamics: Evolution of...       3  1996  \n",
       "6  Time-trends in Russian Arctic river ice format...       2  2000  \n",
       "7  Scoping uncertainty in the social cost of carb...       2  2005  \n",
       "8  Transport and its infrastruc-ture. In: Climate...       3  2007  \n",
       "9  Energy Network Infrastructure and the Climate ...       2  2009  "
      ]
     },
     "execution_count": 11,
     "metadata": {},
     "output_type": "execute_result"
    }
   ],
   "source": [
    "def random_list(l,n):\n",
    "    return [ l[i].id for i in sorted(random.sample(range(len(l)), n)) ]\n",
    "\n",
    "ir_sample = IPCCRef.objects.filter(id__in=random_list(unmatched,10))\n",
    "\n",
    "df = pd.DataFrame.from_dict(list(ir_sample.values('text','ar','wg__wg','authors','year')))\n",
    "\n",
    "df.head(10)\n"
   ]
  },
  {
   "cell_type": "code",
   "execution_count": null,
   "metadata": {
    "collapsed": false,
    "deletable": true,
    "editable": true
   },
   "outputs": [],
   "source": [
    "cformat = 'l l p{4.5cm} p{2.5cm} r'\n",
    "\n",
    "df = df.rename(columns={\"wg__wg\":\"WG\",\"ar\":\"AR\"})\n",
    "df = df[['AR','WG','text','authors','year']]\n",
    "df.head()\n",
    "with pd.option_context('display.max_colwidth', -1):\n",
    "    df.to_latex('../tables/ipcc_matching_sample.tex',column_format=cformat,index=False)"
   ]
  },
  {
   "cell_type": "code",
   "execution_count": 12,
   "metadata": {
    "collapsed": false,
    "deletable": true,
    "editable": true
   },
   "outputs": [
    {
     "data": {
      "text/html": [
       "<div>\n",
       "<style scoped>\n",
       "    .dataframe tbody tr th:only-of-type {\n",
       "        vertical-align: middle;\n",
       "    }\n",
       "\n",
       "    .dataframe tbody tr th {\n",
       "        vertical-align: top;\n",
       "    }\n",
       "\n",
       "    .dataframe thead th {\n",
       "        text-align: right;\n",
       "    }\n",
       "</style>\n",
       "<table border=\"1\" class=\"dataframe\">\n",
       "  <thead>\n",
       "    <tr style=\"text-align: right;\">\n",
       "      <th></th>\n",
       "      <th>matched</th>\n",
       "      <th>unmatched</th>\n",
       "      <th>wg__ar</th>\n",
       "    </tr>\n",
       "  </thead>\n",
       "  <tbody>\n",
       "    <tr>\n",
       "      <th>0</th>\n",
       "      <td>133.0</td>\n",
       "      <td>1554.0</td>\n",
       "      <td>1</td>\n",
       "    </tr>\n",
       "    <tr>\n",
       "      <th>1</th>\n",
       "      <td>981.0</td>\n",
       "      <td>5604.0</td>\n",
       "      <td>2</td>\n",
       "    </tr>\n",
       "    <tr>\n",
       "      <th>2</th>\n",
       "      <td>3956.0</td>\n",
       "      <td>10094.0</td>\n",
       "      <td>3</td>\n",
       "    </tr>\n",
       "    <tr>\n",
       "      <th>3</th>\n",
       "      <td>6678.0</td>\n",
       "      <td>10017.0</td>\n",
       "      <td>4</td>\n",
       "    </tr>\n",
       "    <tr>\n",
       "      <th>4</th>\n",
       "      <td>15468.0</td>\n",
       "      <td>19219.0</td>\n",
       "      <td>5</td>\n",
       "    </tr>\n",
       "  </tbody>\n",
       "</table>\n",
       "</div>"
      ],
      "text/plain": [
       "   matched  unmatched  wg__ar\n",
       "0    133.0     1554.0       1\n",
       "1    981.0     5604.0       2\n",
       "2   3956.0    10094.0       3\n",
       "3   6678.0    10017.0       4\n",
       "4  15468.0    19219.0       5"
      ]
     },
     "execution_count": 12,
     "metadata": {},
     "output_type": "execute_result"
    }
   ],
   "source": [
    "ar_matches = IPCCRef.objects.filter(wg__ar__in=range(1,6)).values('wg__ar').annotate(\n",
    "    matched = models.Sum(\n",
    "        models.Case(\n",
    "            models.When(\n",
    "                doc__isnull=False,\n",
    "                then=1\n",
    "            ),\n",
    "            default=0,\n",
    "            output_field=models.FloatField()\n",
    "        )\n",
    "    ),\n",
    "    unmatched = models.Sum(\n",
    "        models.Case(\n",
    "            models.When(\n",
    "                doc__isnull=True,\n",
    "                then=1\n",
    "            ),\n",
    "            default=0,\n",
    "            output_field=models.FloatField()\n",
    "        )\n",
    "    )\n",
    ").order_by('wg__ar')\n",
    "\n",
    "matching_df = pd.DataFrame.from_dict(list(ar_matches))\n",
    "\n",
    "matching_df.head()"
   ]
  }
 ],
 "metadata": {
  "kernelspec": {
   "display_name": "tmvenv_36",
   "language": "python",
   "name": "tmvenv_36"
  },
  "language_info": {
   "codemirror_mode": {
    "name": "ipython",
    "version": 3
   },
   "file_extension": ".py",
   "mimetype": "text/x-python",
   "name": "python",
   "nbconvert_exporter": "python",
   "pygments_lexer": "ipython3",
   "version": "3.6.6"
  }
 },
 "nbformat": 4,
 "nbformat_minor": 2
}
