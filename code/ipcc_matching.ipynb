{
 "cells": [
  {
   "cell_type": "code",
   "execution_count": 6,
   "metadata": {},
   "outputs": [],
   "source": [
    "import os, sys, time, resource, re, gc, shutil\n",
    "from multiprocess import Pool\n",
    "from functools import partial\n",
    "\n",
    "\n",
    "from urllib.parse import urlparse, parse_qsl\n",
    "import random\n",
    "\n",
    "import matplotlib.pyplot as plt\n",
    "import numpy as np\n",
    "import pandas as pd\n",
    "from mongoengine.queryset.visitor import Q\n",
    "import django\n",
    "from django.db.models import Count\n",
    "sys.path.append('/home/galm/software/django/tmv/BasicBrowser/')\n",
    "os.environ.setdefault(\"DJANGO_SETTINGS_MODULE\", \"BasicBrowser.settings\")\n",
    "django.setup()\n",
    "\n",
    "from scoping.models import *\n",
    "from tmv_app.models import *\n",
    "from django.db.models import F, Sum, Count\n",
    "from matplotlib import gridspec\n",
    "\n",
    "from utils.utils import *\n",
    "\n",
    "\n",
    "from run_id import run_id\n",
    "\n",
    "run_id = 1861\n",
    "\n",
    "runstat = RunStats.objects.get(pk=run_id)\n",
    "\n",
    "q = runstat.query\n"
   ]
  },
  {
   "cell_type": "code",
   "execution_count": 7,
   "metadata": {},
   "outputs": [
    {
     "data": {
      "text/plain": [
       "206342"
      ]
     },
     "execution_count": 7,
     "metadata": {},
     "output_type": "execute_result"
    }
   ],
   "source": [
    "ar5 = AR.objects.get(ar=5)\n",
    "\n",
    "docs = Doc.objects.filter(query=runstat.query,PY__lte=ar5.end)\n",
    "\n",
    "docs.count()"
   ]
  },
  {
   "cell_type": "code",
   "execution_count": 8,
   "metadata": {},
   "outputs": [
    {
     "name": "stdout",
     "output_type": "stream",
     "text": [
      "Matched 31822 documents\n",
      "\n",
      "Didn't match 41682 documents\n",
      "\n",
      "Matched 0.4329288202002612% of documents\n",
      "\n"
     ]
    }
   ],
   "source": [
    "citations = IPCCRef.objects.all()\n",
    "\n",
    "citations.count()\n",
    "\n",
    "matched = citations.filter(doc__isnull=False)\n",
    "\n",
    "unmatched = citations.filter(doc__isnull=True)\n",
    "\n",
    "print(\"Matched {} documents\\n\".format(matched.count()))\n",
    "\n",
    "print(\"Didn't match {} documents\\n\".format(unmatched.count()))\n",
    "\n",
    "print(\"Matched {}% of documents\\n\".format(matched.count()/(matched.count()+unmatched.count())))"
   ]
  },
  {
   "cell_type": "code",
   "execution_count": 9,
   "metadata": {},
   "outputs": [
    {
     "data": {
      "text/html": [
       "<div>\n",
       "<style scoped>\n",
       "    .dataframe tbody tr th:only-of-type {\n",
       "        vertical-align: middle;\n",
       "    }\n",
       "\n",
       "    .dataframe tbody tr th {\n",
       "        vertical-align: top;\n",
       "    }\n",
       "\n",
       "    .dataframe thead th {\n",
       "        text-align: right;\n",
       "    }\n",
       "</style>\n",
       "<table border=\"1\" class=\"dataframe\">\n",
       "  <thead>\n",
       "    <tr style=\"text-align: right;\">\n",
       "      <th></th>\n",
       "      <th>text</th>\n",
       "      <th>year</th>\n",
       "    </tr>\n",
       "  </thead>\n",
       "  <tbody>\n",
       "    <tr>\n",
       "      <th>0</th>\n",
       "      <td>Acidification and critical   loads in Nordic c...</td>\n",
       "      <td>1992</td>\n",
       "    </tr>\n",
       "    <tr>\n",
       "      <th>1</th>\n",
       "      <td>Climate Risks and Adaptation in Asian Coastal ...</td>\n",
       "      <td>2010</td>\n",
       "    </tr>\n",
       "    <tr>\n",
       "      <th>2</th>\n",
       "      <td>Observed changes in surface atmospheric energy...</td>\n",
       "      <td>2011</td>\n",
       "    </tr>\n",
       "    <tr>\n",
       "      <th>3</th>\n",
       "      <td>Dynamic global vegetation modelling: quantifyi...</td>\n",
       "      <td>2007</td>\n",
       "    </tr>\n",
       "    <tr>\n",
       "      <th>4</th>\n",
       "      <td>Solar cycle variation of stratospheric ozone: ...</td>\n",
       "      <td>2006</td>\n",
       "    </tr>\n",
       "  </tbody>\n",
       "</table>\n",
       "</div>"
      ],
      "text/plain": [
       "                                                text  year\n",
       "0  Acidification and critical   loads in Nordic c...  1992\n",
       "1  Climate Risks and Adaptation in Asian Coastal ...  2010\n",
       "2  Observed changes in surface atmospheric energy...  2011\n",
       "3  Dynamic global vegetation modelling: quantifyi...  2007\n",
       "4  Solar cycle variation of stratospheric ozone: ...  2006"
      ]
     },
     "execution_count": 9,
     "metadata": {},
     "output_type": "execute_result"
    }
   ],
   "source": [
    "df = pd.DataFrame.from_dict(list(unmatched.values('text','year')))\n",
    "df.head()"
   ]
  },
  {
   "cell_type": "code",
   "execution_count": 10,
   "metadata": {},
   "outputs": [
    {
     "data": {
      "image/png": "[encoded data removed]",
      "text/plain": [
       "<matplotlib.figure.Figure at 0x7ff8ed11bdd8>"
      ]
     },
     "metadata": {},
     "output_type": "display_data"
    }
   ],
   "source": [
    "df.groupby(['year']).count().plot()\n",
    "\n",
    "plt.show()"
   ]
  },
  {
   "cell_type": "code",
   "execution_count": 26,
   "metadata": {},
   "outputs": [
    {
     "data": {
      "image/png": "[encoded data removed]",
      "text/plain": [
       "<matplotlib.figure.Figure at 0x7ff8ec07aa20>"
      ]
     },
     "metadata": {},
     "output_type": "display_data"
    }
   ],
   "source": [
    "plt.rcParams[\"figure.figsize\"] = [18,12]\n",
    "\n",
    "fig, axs = plt.subplots(\n",
    "    nrows=3,\n",
    "    ncols=5,\n",
    "    sharey=True#,\n",
    "    #gridspec_kw=dict(hspace=0.4,)\n",
    ")\n",
    "\n",
    "wgdf_rows = []\n",
    "\n",
    "for wg in WG.objects.all().order_by('ar','wg'):\n",
    "    ax = axs[wg.wg-1][wg.ar.ar-1]\n",
    "    irs = IPCCRef.objects.filter(\n",
    "        ar=wg.ar,\n",
    "        wg=wg\n",
    "    )\n",
    "    matched = irs.filter(doc__isnull=False).count()\n",
    "    unmatched = irs.filter(doc__isnull=True).count()\n",
    "    pcntage = round(matched / (matched+unmatched) * 100)\n",
    "    ax.text(1,matched+500,\"{}%\".format(pcntage),ha=\"center\",fontsize=14)\n",
    "    ax.bar([0,1],[unmatched,matched],color=[\"#ef8a62\",\"#67a9cf\"],edgecolor=\"#cccccc\", linewidth=1)\n",
    "    ax.set_xticks([0,1])\n",
    "    ax.set_xticklabels([\"Unmatched\",\"Matched\"])\n",
    "    ax.set_title('AR {:.0f} WG {:.0f}'.format(wg.ar.ar,wg.wg))\n",
    "    \n",
    "    wgdf_rows.append({\n",
    "        'AR': wg.ar,\n",
    "        'WG': wg.wg,\n",
    "        'pcnt': matched / (matched+unmatched) \n",
    "    })\n",
    "    \n",
    "plt.savefig('../plots/ipcc_matches.png',bbox_inches='tight')   \n",
    "plt.show()"
   ]
  },
  {
   "cell_type": "code",
   "execution_count": 39,
   "metadata": {},
   "outputs": [],
   "source": [
    "wgdf = pd.DataFrame.from_dict(wgdf_rows)\n",
    "\n",
    "wgdf_wide = wgdf.pivot(index=\"WG\",columns=\"AR\",values=\"pcnt\")\n",
    "\n",
    "wgdf_wide.to_latex('../tables/ipcc_matching.tex',float_format='{:.0%}'.format)"
   ]
  },
  {
   "cell_type": "code",
   "execution_count": 12,
   "metadata": {},
   "outputs": [],
   "source": [
    "p = Project.objects.get(pk=110)\n",
    "search_ids = []\n",
    "qs = Query.objects.filter(project=p)\n",
    "for q in qs.iterator():\n",
    "    search_ids += q.title.split(' OR ')\n",
    "search_ids = set(search_ids)"
   ]
  },
  {
   "cell_type": "code",
   "execution_count": 13,
   "metadata": {},
   "outputs": [
    {
     "name": "stdout",
     "output_type": "stream",
     "text": [
      "IPCC refs: 34618\n",
      "In db: 18946\n",
      "In Grineisen: 14818\n",
      "Found: 2877\n",
      "not found: 9468\n",
      "still to search: 15672\n"
     ]
    }
   ],
   "source": [
    "\n",
    "q = runstat.query\n",
    "irs = IPCCRef.objects.filter(ar=5)\n",
    "in_db = irs.filter(doc__isnull=False)\n",
    "in_hc = irs.filter(doc__query=q)\n",
    "found = set(irs.filter(doc__query__project=p))\n",
    "unfound = search_ids - found\n",
    "no_db = set(irs.filter(doc__isnull=True).values_list('pk',flat=True))\n",
    "unlooked = no_db - search_ids\n",
    "\n",
    "print(f\"IPCC refs: {irs.count()}\")\n",
    "print(f\"In db: {in_db.count()}\")\n",
    "print(f\"In Grineisen: {in_hc.count()}\")\n",
    "print(f\"Found: {len(found)}\")\n",
    "print(f\"not found: {len(unfound)}\")\n",
    "print(f\"still to search: {len(unlooked)}\")"
   ]
  },
  {
   "cell_type": "code",
   "execution_count": 14,
   "metadata": {},
   "outputs": [
    {
     "data": {
      "image/png": "[encoded data removed]",
      "text/plain": [
       "<matplotlib.figure.Figure at 0x7ff8ec0d1e10>"
      ]
     },
     "metadata": {},
     "output_type": "display_data"
    }
   ],
   "source": [
    "fig, ax = plt.subplots()\n",
    "x = [0,1,2,3,4,5]\n",
    "ax.bar(\n",
    "    x,\n",
    "    [irs.count(),in_db.count(),in_hc.count(),len(found),len(unfound),len(unlooked)]\n",
    ")\n",
    "ax.set_xticks(x)\n",
    "ax.set_xticklabels([\n",
    "    \"references\",\n",
    "    \"in database\",\n",
    "    \"in haunschild\",\n",
    "    \"found\",\n",
    "    \"not found\",\n",
    "    \"to be searched\"\n",
    "])\n",
    "\n",
    "plt.savefig(\"../plots/ipcc_matching.png\")"
   ]
  },
  {
   "cell_type": "code",
   "execution_count": null,
   "metadata": {},
   "outputs": [],
   "source": []
  },
  {
   "cell_type": "code",
   "execution_count": 15,
   "metadata": {},
   "outputs": [
    {
     "ename": "TypeError",
     "evalue": "object of type 'int' has no len()",
     "output_type": "error",
     "traceback": [
      "\u001b[0;31m---------------------------------------------------------------------------\u001b[0m",
      "\u001b[0;31mTypeError\u001b[0m                                 Traceback (most recent call last)",
      "\u001b[0;32m<ipython-input-15-a0dc60561cc1>\u001b[0m in \u001b[0;36m<module>\u001b[0;34m()\u001b[0m\n\u001b[1;32m      2\u001b[0m     \u001b[0;32mreturn\u001b[0m \u001b[0;34m[\u001b[0m \u001b[0ml\u001b[0m\u001b[0;34m[\u001b[0m\u001b[0mi\u001b[0m\u001b[0;34m]\u001b[0m\u001b[0;34m.\u001b[0m\u001b[0mid\u001b[0m \u001b[0;32mfor\u001b[0m \u001b[0mi\u001b[0m \u001b[0;32min\u001b[0m \u001b[0msorted\u001b[0m\u001b[0;34m(\u001b[0m\u001b[0mrandom\u001b[0m\u001b[0;34m.\u001b[0m\u001b[0msample\u001b[0m\u001b[0;34m(\u001b[0m\u001b[0mrange\u001b[0m\u001b[0;34m(\u001b[0m\u001b[0mlen\u001b[0m\u001b[0;34m(\u001b[0m\u001b[0ml\u001b[0m\u001b[0;34m)\u001b[0m\u001b[0;34m)\u001b[0m\u001b[0;34m,\u001b[0m \u001b[0mn\u001b[0m\u001b[0;34m)\u001b[0m\u001b[0;34m)\u001b[0m \u001b[0;34m]\u001b[0m\u001b[0;34m\u001b[0m\u001b[0;34m\u001b[0m\u001b[0m\n\u001b[1;32m      3\u001b[0m \u001b[0;34m\u001b[0m\u001b[0m\n\u001b[0;32m----> 4\u001b[0;31m \u001b[0mir_sample\u001b[0m \u001b[0;34m=\u001b[0m \u001b[0mIPCCRef\u001b[0m\u001b[0;34m.\u001b[0m\u001b[0mobjects\u001b[0m\u001b[0;34m.\u001b[0m\u001b[0mfilter\u001b[0m\u001b[0;34m(\u001b[0m\u001b[0mid__in\u001b[0m\u001b[0;34m=\u001b[0m\u001b[0mrandom_list\u001b[0m\u001b[0;34m(\u001b[0m\u001b[0munmatched\u001b[0m\u001b[0;34m,\u001b[0m\u001b[0;36m10\u001b[0m\u001b[0;34m)\u001b[0m\u001b[0;34m)\u001b[0m\u001b[0;34m\u001b[0m\u001b[0;34m\u001b[0m\u001b[0m\n\u001b[0m\u001b[1;32m      5\u001b[0m \u001b[0;34m\u001b[0m\u001b[0m\n\u001b[1;32m      6\u001b[0m \u001b[0mdf\u001b[0m \u001b[0;34m=\u001b[0m \u001b[0mpd\u001b[0m\u001b[0;34m.\u001b[0m\u001b[0mDataFrame\u001b[0m\u001b[0;34m.\u001b[0m\u001b[0mfrom_dict\u001b[0m\u001b[0;34m(\u001b[0m\u001b[0mlist\u001b[0m\u001b[0;34m(\u001b[0m\u001b[0mir_sample\u001b[0m\u001b[0;34m.\u001b[0m\u001b[0mvalues\u001b[0m\u001b[0;34m(\u001b[0m\u001b[0;34m'text'\u001b[0m\u001b[0;34m,\u001b[0m\u001b[0;34m'ar'\u001b[0m\u001b[0;34m,\u001b[0m\u001b[0;34m'wg__wg'\u001b[0m\u001b[0;34m,\u001b[0m\u001b[0;34m'authors'\u001b[0m\u001b[0;34m,\u001b[0m\u001b[0;34m'year'\u001b[0m\u001b[0;34m)\u001b[0m\u001b[0;34m)\u001b[0m\u001b[0;34m)\u001b[0m\u001b[0;34m\u001b[0m\u001b[0;34m\u001b[0m\u001b[0m\n",
      "\u001b[0;32m<ipython-input-15-a0dc60561cc1>\u001b[0m in \u001b[0;36mrandom_list\u001b[0;34m(l, n)\u001b[0m\n\u001b[1;32m      1\u001b[0m \u001b[0;32mdef\u001b[0m \u001b[0mrandom_list\u001b[0m\u001b[0;34m(\u001b[0m\u001b[0ml\u001b[0m\u001b[0;34m,\u001b[0m\u001b[0mn\u001b[0m\u001b[0;34m)\u001b[0m\u001b[0;34m:\u001b[0m\u001b[0;34m\u001b[0m\u001b[0;34m\u001b[0m\u001b[0m\n\u001b[0;32m----> 2\u001b[0;31m     \u001b[0;32mreturn\u001b[0m \u001b[0;34m[\u001b[0m \u001b[0ml\u001b[0m\u001b[0;34m[\u001b[0m\u001b[0mi\u001b[0m\u001b[0;34m]\u001b[0m\u001b[0;34m.\u001b[0m\u001b[0mid\u001b[0m \u001b[0;32mfor\u001b[0m \u001b[0mi\u001b[0m \u001b[0;32min\u001b[0m \u001b[0msorted\u001b[0m\u001b[0;34m(\u001b[0m\u001b[0mrandom\u001b[0m\u001b[0;34m.\u001b[0m\u001b[0msample\u001b[0m\u001b[0;34m(\u001b[0m\u001b[0mrange\u001b[0m\u001b[0;34m(\u001b[0m\u001b[0mlen\u001b[0m\u001b[0;34m(\u001b[0m\u001b[0ml\u001b[0m\u001b[0;34m)\u001b[0m\u001b[0;34m)\u001b[0m\u001b[0;34m,\u001b[0m \u001b[0mn\u001b[0m\u001b[0;34m)\u001b[0m\u001b[0;34m)\u001b[0m \u001b[0;34m]\u001b[0m\u001b[0;34m\u001b[0m\u001b[0;34m\u001b[0m\u001b[0m\n\u001b[0m\u001b[1;32m      3\u001b[0m \u001b[0;34m\u001b[0m\u001b[0m\n\u001b[1;32m      4\u001b[0m \u001b[0mir_sample\u001b[0m \u001b[0;34m=\u001b[0m \u001b[0mIPCCRef\u001b[0m\u001b[0;34m.\u001b[0m\u001b[0mobjects\u001b[0m\u001b[0;34m.\u001b[0m\u001b[0mfilter\u001b[0m\u001b[0;34m(\u001b[0m\u001b[0mid__in\u001b[0m\u001b[0;34m=\u001b[0m\u001b[0mrandom_list\u001b[0m\u001b[0;34m(\u001b[0m\u001b[0munmatched\u001b[0m\u001b[0;34m,\u001b[0m\u001b[0;36m10\u001b[0m\u001b[0;34m)\u001b[0m\u001b[0;34m)\u001b[0m\u001b[0;34m\u001b[0m\u001b[0;34m\u001b[0m\u001b[0m\n\u001b[1;32m      5\u001b[0m \u001b[0;34m\u001b[0m\u001b[0m\n",
      "\u001b[0;31mTypeError\u001b[0m: object of type 'int' has no len()"
     ]
    }
   ],
   "source": [
    "def random_list(l,n):\n",
    "    return [ l[i].id for i in sorted(random.sample(range(len(l)), n)) ]\n",
    "\n",
    "ir_sample = IPCCRef.objects.filter(id__in=random_list(unmatched,10))\n",
    "\n",
    "df = pd.DataFrame.from_dict(list(ir_sample.values('text','ar','wg__wg','authors','year')))\n",
    "\n",
    "df.head(10)\n"
   ]
  },
  {
   "cell_type": "code",
   "execution_count": null,
   "metadata": {},
   "outputs": [],
   "source": [
    "cformat = 'l l p{4.5cm} p{2.5cm} r'\n",
    "\n",
    "df = df.rename(columns={\"wg__wg\":\"WG\",\"ar\":\"AR\"})\n",
    "df = df[['AR','WG','text','authors','year']]\n",
    "df.head()\n",
    "with pd.option_context('display.max_colwidth', -1):\n",
    "    df.to_latex('../tables/ipcc_matching_sample.tex',column_format=cformat,index=False)"
   ]
  },
  {
   "cell_type": "code",
   "execution_count": 5,
   "metadata": {},
   "outputs": [
    {
     "data": {
      "text/html": [
       "<div>\n",
       "<style scoped>\n",
       "    .dataframe tbody tr th:only-of-type {\n",
       "        vertical-align: middle;\n",
       "    }\n",
       "\n",
       "    .dataframe tbody tr th {\n",
       "        vertical-align: top;\n",
       "    }\n",
       "\n",
       "    .dataframe thead th {\n",
       "        text-align: right;\n",
       "    }\n",
       "</style>\n",
       "<table border=\"1\" class=\"dataframe\">\n",
       "  <thead>\n",
       "    <tr style=\"text-align: right;\">\n",
       "      <th></th>\n",
       "      <th>matched</th>\n",
       "      <th>unmatched</th>\n",
       "      <th>wg__ar</th>\n",
       "    </tr>\n",
       "  </thead>\n",
       "  <tbody>\n",
       "    <tr>\n",
       "      <th>0</th>\n",
       "      <td>165.0</td>\n",
       "      <td>1522.0</td>\n",
       "      <td>1</td>\n",
       "    </tr>\n",
       "    <tr>\n",
       "      <th>1</th>\n",
       "      <td>1177.0</td>\n",
       "      <td>5408.0</td>\n",
       "      <td>2</td>\n",
       "    </tr>\n",
       "    <tr>\n",
       "      <th>2</th>\n",
       "      <td>4462.0</td>\n",
       "      <td>9588.0</td>\n",
       "      <td>3</td>\n",
       "    </tr>\n",
       "    <tr>\n",
       "      <th>3</th>\n",
       "      <td>7169.0</td>\n",
       "      <td>9525.0</td>\n",
       "      <td>4</td>\n",
       "    </tr>\n",
       "    <tr>\n",
       "      <th>4</th>\n",
       "      <td>18988.0</td>\n",
       "      <td>15693.0</td>\n",
       "      <td>5</td>\n",
       "    </tr>\n",
       "  </tbody>\n",
       "</table>\n",
       "</div>"
      ],
      "text/plain": [
       "   matched  unmatched  wg__ar\n",
       "0    165.0     1522.0       1\n",
       "1   1177.0     5408.0       2\n",
       "2   4462.0     9588.0       3\n",
       "3   7169.0     9525.0       4\n",
       "4  18988.0    15693.0       5"
      ]
     },
     "execution_count": 5,
     "metadata": {},
     "output_type": "execute_result"
    }
   ],
   "source": [
    "ar_matches = IPCCRef.objects.filter(wg__ar__in=range(1,6)).values('wg__ar').annotate(\n",
    "    matched = models.Sum(\n",
    "        models.Case(\n",
    "            models.When(\n",
    "                doc__isnull=False,\n",
    "                then=1\n",
    "            ),\n",
    "            default=0,\n",
    "            output_field=models.FloatField()\n",
    "        )\n",
    "    ),\n",
    "    unmatched = models.Sum(\n",
    "        models.Case(\n",
    "            models.When(\n",
    "                doc__isnull=True,\n",
    "                then=1\n",
    "            ),\n",
    "            default=0,\n",
    "            output_field=models.FloatField()\n",
    "        )\n",
    "    )\n",
    ").order_by('wg__ar')\n",
    "\n",
    "matching_df = pd.DataFrame.from_dict(list(ar_matches))\n",
    "\n",
    "matching_df.head()"
   ]
  },
  {
   "cell_type": "code",
   "execution_count": null,
   "metadata": {},
   "outputs": [],
   "source": []
  }
 ],
 "metadata": {
  "kernelspec": {
   "display_name": "tmv",
   "language": "python",
   "name": "tmv"
  },
  "language_info": {
   "codemirror_mode": {
    "name": "ipython",
    "version": 3
   },
   "file_extension": ".py",
   "mimetype": "text/x-python",
   "name": "python",
   "nbconvert_exporter": "python",
   "pygments_lexer": "ipython3",
   "version": "3.6.6"
  },
  "varInspector": {
   "cols": {
    "lenName": 16,
    "lenType": 16,
    "lenVar": 40
   },
   "kernels_config": {
    "python": {
     "delete_cmd_postfix": "",
     "delete_cmd_prefix": "del ",
     "library": "var_list.py",
     "varRefreshCmd": "print(var_dic_list())"
    },
    "r": {
     "delete_cmd_postfix": ") ",
     "delete_cmd_prefix": "rm(",
     "library": "var_list.r",
     "varRefreshCmd": "cat(var_dic_list()) "
    }
   },
   "types_to_exclude": [
    "module",
    "function",
    "builtin_function_or_method",
    "instance",
    "_Feature"
   ],
   "window_display": false
  }
 },
 "nbformat": 4,
 "nbformat_minor": 2
}
