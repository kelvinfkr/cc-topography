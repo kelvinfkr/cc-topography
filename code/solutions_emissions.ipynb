{
 "cells": [
  {
   "cell_type": "code",
   "execution_count": 3,
   "metadata": {},
   "outputs": [
    {
     "name": "stdout",
     "output_type": "stream",
     "text": [
      "34.94\n",
      "28.77\n",
      "63.71\n"
     ]
    }
   ],
   "source": [
    "\n",
    "s = [\"US\",\"EU\",\"AR\",\"BR\",\"CA\",\"JP\",\"ML\",\"SA\",\"ZA\",\"TH\",\"US\"]\n",
    "\n",
    "ghgs = [14.75, 9.33, 0.74, 2.25, 1.63, 2.99, 0.06, 1.21, 1.13, 0.82]\n",
    "\n",
    "print(sum(ghgs))\n",
    "\n",
    "ns = [\"AZ\",\"CN\",\"EG\",\"KE\",\"KG\",\"MG\",\"MV\",\"SW\",\"TZ\"]\n",
    "\n",
    "ghg_ns = [0.15, 27.51, 0.6, 0.13, 0.03, 0.06, 0.00, 0.11, 0.18]\n",
    "\n",
    "print(sum(ghg_ns))\n",
    "\n",
    "print(sum(ghgs+ghg_ns))\n"
   ]
  }
 ],
 "metadata": {
  "kernelspec": {
   "display_name": "tmv",
   "language": "python",
   "name": "tmv"
  },
  "language_info": {
   "codemirror_mode": {
    "name": "ipython",
    "version": 3
   },
   "file_extension": ".py",
   "mimetype": "text/x-python",
   "name": "python",
   "nbconvert_exporter": "python",
   "pygments_lexer": "ipython3",
   "version": "3.6.7"
  },
  "varInspector": {
   "cols": {
    "lenName": 16,
    "lenType": 16,
    "lenVar": 40
   },
   "kernels_config": {
    "python": {
     "delete_cmd_postfix": "",
     "delete_cmd_prefix": "del ",
     "library": "var_list.py",
     "varRefreshCmd": "print(var_dic_list())"
    },
    "r": {
     "delete_cmd_postfix": ") ",
     "delete_cmd_prefix": "rm(",
     "library": "var_list.r",
     "varRefreshCmd": "cat(var_dic_list()) "
    }
   },
   "types_to_exclude": [
    "module",
    "function",
    "builtin_function_or_method",
    "instance",
    "_Feature"
   ],
   "window_display": false
  }
 },
 "nbformat": 4,
 "nbformat_minor": 2
}
