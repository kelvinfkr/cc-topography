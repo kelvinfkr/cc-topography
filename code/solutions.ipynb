{
 "cells": [
  {
   "cell_type": "code",
   "execution_count": 1,
   "metadata": {
    "collapsed": false,
    "deletable": true,
    "editable": true
   },
   "outputs": [
    {
     "name": "stderr",
     "output_type": "stream",
     "text": [
      "/usr/lib/python3.4/importlib/_bootstrap.py:321: FutureWarning: The pandas.core.datetools module is deprecated and will be removed in a future version. Please use the pandas.tseries module instead.\n",
      "  return f(*args, **kwds)\n"
     ]
    }
   ],
   "source": [
    "import os, sys, time, resource, re, gc, shutil\n",
    "import operator\n",
    "from multiprocess import Pool\n",
    "from functools import partial\n",
    "from urllib.parse import urlparse, parse_qsl\n",
    "from django.db.models import Count\n",
    "import matplotlib\n",
    "matplotlib.use('pgf')\n",
    "import matplotlib.pyplot as plt\n",
    "import numpy as np\n",
    "import pandas as pd\n",
    "import django\n",
    "from adjustText import adjust_text\n",
    "\n",
    "sys.path.append('/home/galm/software/django/tmv/BasicBrowser/')\n",
    "os.environ.setdefault(\"DJANGO_SETTINGS_MODULE\", \"BasicBrowser.settings\")\n",
    "django.setup()\n",
    "\n",
    "from scoping.models import *\n",
    "from tmv_app.models import *\n",
    "from django.db.models import F, Sum, Count\n",
    "from matplotlib import gridspec\n",
    "\n",
    "from utils.utils import *\n",
    "\n",
    "\n",
    "import statsmodels.formula.api as sm, statsmodels.stats.api as sms\n",
    "\n",
    "from run_id import run_id\n",
    "\n",
    "run_id = 662\n",
    "\n",
    "runstat = RunStats.objects.get(pk=run_id)\n",
    "topics = DynamicTopic.objects.filter(run_id=run_id)\n",
    "\n",
    "docs = Doc.objects.filter(\n",
    "    query=runstat.query,\n",
    "    content__iregex=\"\\w\"\n",
    ")\n",
    "\n",
    "pgf_with_latex = {\n",
    "    \"text.usetex\": True,            # use LaTeX to write all text\n",
    "    \"pgf.rcfonts\": False,           # Ignore Matplotlibrc\n",
    "    \"text.latex.unicode\": True,\n",
    "    \"pgf.preamble\": [\n",
    "        #r\"\\usepackage[utf8x]{inputenc}\",\n",
    "        r\"\\usepackage{xcolor}\"\n",
    "    ],\n",
    "    \"pgf.texsystem\" : \"xelatex\",\n",
    "    \"figure.figsize\": [3.5,2]\n",
    "}\n",
    "matplotlib.rcParams.update(pgf_with_latex)\n",
    "\n"
   ]
  },
  {
   "cell_type": "code",
   "execution_count": 2,
   "metadata": {
    "collapsed": false,
    "deletable": true,
    "editable": true
   },
   "outputs": [],
   "source": [
    "years = list(range(1990,2015))\n",
    "years\n",
    "\n",
    "s_solutions = []\n",
    "ip_solutions = []\n",
    "\n",
    "r = \"solution|political action|policy\"\n",
    "\n",
    "for y in years:\n",
    "    ydocs = docs.filter(PY=y)\n",
    "    sdocs = ydocs.filter(content__iregex=r)\n",
    "    s_count = sdocs.count()\n",
    "    s_solutions.append(s_count/ydocs.count())\n",
    "    ip_docs = ydocs.filter(ipccref__isnull=False)\n",
    "    ip_solution_docs = ip_docs.filter(content__iregex=r)\n",
    "    try:\n",
    "        ip_solutions.append(ip_solution_docs.count()/ip_docs.count())\n",
    "    except:\n",
    "        ip_solutions.append(0)\n",
    "    #ipdocs = ydocs.filter()\n",
    "    "
   ]
  },
  {
   "cell_type": "code",
   "execution_count": 3,
   "metadata": {
    "collapsed": false,
    "deletable": true,
    "editable": true
   },
   "outputs": [],
   "source": [
    "fig = plt.figure()\n",
    "\n",
    "plt.plot(years,s_solutions)\n",
    "plt.plot(years, ip_solutions)\n",
    "\n",
    "fig.patch.set_facecolor('#f0f0f0')    \n",
    "#plt.tight_layout()\n",
    "\n",
    "plt.savefig(\n",
    "    '../plots/solutions.pdf',\n",
    "    bbox_inches='tight',\n",
    "    facecolor=fig.get_facecolor(),\n",
    ")\n",
    "plt.show()"
   ]
  },
  {
   "cell_type": "code",
   "execution_count": 4,
   "metadata": {
    "collapsed": false,
    "deletable": true,
    "editable": true
   },
   "outputs": [],
   "source": [
    "dts = DocTopic.objects.filter(\n",
    "    run_id=run_id,\n",
    "    doc__PY__lt=2014,\n",
    "    score__gt=runstat.dthreshold,\n",
    "    topic__topicdtopic__dynamictopic__run_id=run_id,\n",
    "    topic__topicdtopic__score__gt=runstat.dthreshold\n",
    ").values('topic__topicdtopic__dynamictopic__id')\n",
    "\n",
    "dts = dts.annotate(\n",
    "    solution = models.Sum(\n",
    "        models.Case(\n",
    "            models.When(\n",
    "                doc__content__iregex=r,\n",
    "                then=F('score')*F('topic__topicdtopic__score')\n",
    "            ),\n",
    "            default=0,\n",
    "            output_field=models.FloatField()\n",
    "        )\n",
    "    )\n",
    ")\n"
   ]
  },
  {
   "cell_type": "code",
   "execution_count": 5,
   "metadata": {
    "collapsed": false,
    "deletable": true,
    "editable": true
   },
   "outputs": [],
   "source": [
    "df = pd.DataFrame.from_dict(list(dts.values(\n",
    "    'topic__topicdtopic__dynamictopic__title',\n",
    "    'solution',\n",
    "    'topic__topicdtopic__dynamictopic__score'\n",
    ")))"
   ]
  },
  {
   "cell_type": "code",
   "execution_count": 6,
   "metadata": {
    "collapsed": false,
    "deletable": true,
    "editable": true
   },
   "outputs": [
    {
     "data": {
      "text/html": [
       "<div>\n",
       "<style scoped>\n",
       "    .dataframe tbody tr th:only-of-type {\n",
       "        vertical-align: middle;\n",
       "    }\n",
       "\n",
       "    .dataframe tbody tr th {\n",
       "        vertical-align: top;\n",
       "    }\n",
       "\n",
       "    .dataframe thead th {\n",
       "        text-align: right;\n",
       "    }\n",
       "</style>\n",
       "<table border=\"1\" class=\"dataframe\">\n",
       "  <thead>\n",
       "    <tr style=\"text-align: right;\">\n",
       "      <th></th>\n",
       "      <th>solution</th>\n",
       "      <th>topic__topicdtopic__dynamictopic__score</th>\n",
       "      <th>topic__topicdtopic__dynamictopic__title</th>\n",
       "    </tr>\n",
       "  </thead>\n",
       "  <tbody>\n",
       "    <tr>\n",
       "      <th>0</th>\n",
       "      <td>38.877515</td>\n",
       "      <td>549.140042</td>\n",
       "      <td>{industri, sector, intens}</td>\n",
       "    </tr>\n",
       "    <tr>\n",
       "      <th>1</th>\n",
       "      <td>54.430908</td>\n",
       "      <td>849.147223</td>\n",
       "      <td>{surfac, layer, atmospher}</td>\n",
       "    </tr>\n",
       "    <tr>\n",
       "      <th>2</th>\n",
       "      <td>40.235860</td>\n",
       "      <td>844.179076</td>\n",
       "      <td>{crop, yield, wheat}</td>\n",
       "    </tr>\n",
       "    <tr>\n",
       "      <th>3</th>\n",
       "      <td>51.705016</td>\n",
       "      <td>643.056244</td>\n",
       "      <td>{uncertainti, estim, paramet}</td>\n",
       "    </tr>\n",
       "    <tr>\n",
       "      <th>4</th>\n",
       "      <td>32.159793</td>\n",
       "      <td>762.489285</td>\n",
       "      <td>{activ, human, enzym}</td>\n",
       "    </tr>\n",
       "  </tbody>\n",
       "</table>\n",
       "</div>"
      ],
      "text/plain": [
       "    solution  topic__topicdtopic__dynamictopic__score  \\\n",
       "0  38.877515                               549.140042   \n",
       "1  54.430908                               849.147223   \n",
       "2  40.235860                               844.179076   \n",
       "3  51.705016                               643.056244   \n",
       "4  32.159793                               762.489285   \n",
       "\n",
       "  topic__topicdtopic__dynamictopic__title  \n",
       "0              {industri, sector, intens}  \n",
       "1              {surfac, layer, atmospher}  \n",
       "2                    {crop, yield, wheat}  \n",
       "3           {uncertainti, estim, paramet}  \n",
       "4                   {activ, human, enzym}  "
      ]
     },
     "execution_count": 6,
     "metadata": {},
     "output_type": "execute_result"
    }
   ],
   "source": [
    "df.head()"
   ]
  }
 ],
 "metadata": {
  "kernelspec": {
   "display_name": "tmvenv",
   "language": "python",
   "name": "tmvenv"
  },
  "language_info": {
   "codemirror_mode": {
    "name": "ipython",
    "version": 3
   },
   "file_extension": ".py",
   "mimetype": "text/x-python",
   "name": "python",
   "nbconvert_exporter": "python",
   "pygments_lexer": "ipython3",
   "version": "3.4.3"
  }
 },
 "nbformat": 4,
 "nbformat_minor": 2
}
