{
 "cells": [
  {
   "cell_type": "code",
   "execution_count": 1,
   "metadata": {},
   "outputs": [
    {
     "ename": "ModuleNotFoundError",
     "evalue": "No module named 'statsmodels'",
     "output_type": "error",
     "traceback": [
      "\u001b[0;31m---------------------------------------------------------------------------\u001b[0m",
      "\u001b[0;31mModuleNotFoundError\u001b[0m                       Traceback (most recent call last)",
      "\u001b[0;32m<ipython-input-1-18445e47772f>\u001b[0m in \u001b[0;36m<module>\u001b[0;34m()\u001b[0m\n\u001b[1;32m     25\u001b[0m \u001b[0;34m\u001b[0m\u001b[0m\n\u001b[1;32m     26\u001b[0m \u001b[0;34m\u001b[0m\u001b[0m\n\u001b[0;32m---> 27\u001b[0;31m \u001b[0;32mimport\u001b[0m \u001b[0mstatsmodels\u001b[0m\u001b[0;34m.\u001b[0m\u001b[0mformula\u001b[0m\u001b[0;34m.\u001b[0m\u001b[0mapi\u001b[0m \u001b[0;32mas\u001b[0m \u001b[0msm\u001b[0m\u001b[0;34m,\u001b[0m \u001b[0mstatsmodels\u001b[0m\u001b[0;34m.\u001b[0m\u001b[0mstats\u001b[0m\u001b[0;34m.\u001b[0m\u001b[0mapi\u001b[0m \u001b[0;32mas\u001b[0m \u001b[0msms\u001b[0m\u001b[0;34m\u001b[0m\u001b[0;34m\u001b[0m\u001b[0m\n\u001b[0m\u001b[1;32m     28\u001b[0m \u001b[0;34m\u001b[0m\u001b[0m\n\u001b[1;32m     29\u001b[0m \u001b[0;32mfrom\u001b[0m \u001b[0mrun_id\u001b[0m \u001b[0;32mimport\u001b[0m \u001b[0mrun_id\u001b[0m\u001b[0;34m\u001b[0m\u001b[0;34m\u001b[0m\u001b[0m\n",
      "\u001b[0;31mModuleNotFoundError\u001b[0m: No module named 'statsmodels'"
     ]
    }
   ],
   "source": [
    "import os, sys, time, resource, re, gc, shutil\n",
    "import operator\n",
    "from multiprocess import Pool\n",
    "from functools import partial\n",
    "from urllib.parse import urlparse, parse_qsl\n",
    "from django.db.models import Count\n",
    "import matplotlib\n",
    "matplotlib.use('pgf')\n",
    "import matplotlib.pyplot as plt\n",
    "import numpy as np\n",
    "import pandas as pd\n",
    "import django\n",
    "from adjustText import adjust_text\n",
    "\n",
    "sys.path.append('/home/galm/software/django/tmv/BasicBrowser/')\n",
    "os.environ.setdefault(\"DJANGO_SETTINGS_MODULE\", \"BasicBrowser.settings\")\n",
    "django.setup()\n",
    "\n",
    "from scoping.models import *\n",
    "from tmv_app.models import *\n",
    "from django.db.models import F, Sum, Count\n",
    "from matplotlib import gridspec\n",
    "\n",
    "from utils.utils import *\n",
    "\n",
    "\n",
    "import statsmodels.formula.api as sm, statsmodels.stats.api as sms\n",
    "\n",
    "from run_id import run_id\n",
    "\n",
    "run_id = 662\n",
    "\n",
    "runstat = RunStats.objects.get(pk=run_id)\n",
    "topics = DynamicTopic.objects.filter(run_id=run_id)\n",
    "\n",
    "docs = Doc.objects.filter(\n",
    "    query=runstat.query,\n",
    "    content__iregex=\"\\w\"\n",
    ")\n",
    "\n",
    "pgf_with_latex = {\n",
    "    \"text.usetex\": True,            # use LaTeX to write all text\n",
    "    \"pgf.rcfonts\": False,           # Ignore Matplotlibrc\n",
    "    \"text.latex.unicode\": True,\n",
    "    \"pgf.preamble\": [\n",
    "        #r\"\\usepackage[utf8x]{inputenc}\",\n",
    "        r\"\\usepackage{xcolor}\"\n",
    "    ],\n",
    "    \"pgf.texsystem\" : \"xelatex\",\n",
    "    \"figure.figsize\": [3.5,2]\n",
    "}\n",
    "matplotlib.rcParams.update(pgf_with_latex)\n",
    "\n"
   ]
  },
  {
   "cell_type": "code",
   "execution_count": null,
   "metadata": {},
   "outputs": [],
   "source": [
    "years = list(range(1990,2015))\n",
    "years\n",
    "\n",
    "s_solutions = []\n",
    "ip_solutions = []\n",
    "\n",
    "r = \"solution|political action|policy\"\n",
    "\n",
    "for y in years:\n",
    "    ydocs = docs.filter(PY=y)\n",
    "    sdocs = ydocs.filter(content__iregex=r)\n",
    "    s_count = sdocs.count()\n",
    "    s_solutions.append(s_count/ydocs.count())\n",
    "    ip_docs = ydocs.filter(ipccref__isnull=False)\n",
    "    ip_solution_docs = ip_docs.filter(content__iregex=r)\n",
    "    try:\n",
    "        ip_solutions.append(ip_solution_docs.count()/ip_docs.count())\n",
    "    except:\n",
    "        ip_solutions.append(0)\n",
    "    #ipdocs = ydocs.filter()\n",
    "    "
   ]
  },
  {
   "cell_type": "code",
   "execution_count": null,
   "metadata": {},
   "outputs": [],
   "source": [
    "fig = plt.figure()\n",
    "\n",
    "plt.plot(years,s_solutions)\n",
    "plt.plot(years, ip_solutions)\n",
    "\n",
    "fig.patch.set_facecolor('#f0f0f0')    \n",
    "#plt.tight_layout()\n",
    "\n",
    "plt.savefig(\n",
    "    '../plots/solutions.pdf',\n",
    "    bbox_inches='tight',\n",
    "    facecolor=fig.get_facecolor(),\n",
    ")\n",
    "plt.show()"
   ]
  },
  {
   "cell_type": "code",
   "execution_count": null,
   "metadata": {},
   "outputs": [],
   "source": [
    "dts = DocTopic.objects.filter(\n",
    "    run_id=run_id,\n",
    "    doc__PY__lt=2014,\n",
    "    score__gt=runstat.dthreshold,\n",
    "    topic__topicdtopic__dynamictopic__run_id=run_id,\n",
    "    topic__topicdtopic__score__gt=runstat.dthreshold\n",
    ").values('topic__topicdtopic__dynamictopic__id')\n",
    "\n",
    "dts = dts.annotate(\n",
    "    solution = models.Sum(\n",
    "        models.Case(\n",
    "            models.When(\n",
    "                doc__content__iregex=r,\n",
    "                then=F('score')*F('topic__topicdtopic__score')\n",
    "            ),\n",
    "            default=0,\n",
    "            output_field=models.FloatField()\n",
    "        )\n",
    "    )\n",
    ")\n"
   ]
  },
  {
   "cell_type": "code",
   "execution_count": null,
   "metadata": {},
   "outputs": [],
   "source": [
    "df = pd.DataFrame.from_dict(list(dts.values(\n",
    "    'topic__topicdtopic__dynamictopic__title',\n",
    "    'solution',\n",
    "    'topic__topicdtopic__dynamictopic__score'\n",
    ")))"
   ]
  },
  {
   "cell_type": "code",
   "execution_count": null,
   "metadata": {},
   "outputs": [],
   "source": [
    "df.sort_values('solution',ascending=False).head()"
   ]
  }
 ],
 "metadata": {
  "kernelspec": {
   "display_name": "tmv",
   "language": "python",
   "name": "tmv"
  },
  "language_info": {
   "codemirror_mode": {
    "name": "ipython",
    "version": 3
   },
   "file_extension": ".py",
   "mimetype": "text/x-python",
   "name": "python",
   "nbconvert_exporter": "python",
   "pygments_lexer": "ipython3",
   "version": "3.6.7"
  },
  "varInspector": {
   "cols": {
    "lenName": 16,
    "lenType": 16,
    "lenVar": 40
   },
   "kernels_config": {
    "python": {
     "delete_cmd_postfix": "",
     "delete_cmd_prefix": "del ",
     "library": "var_list.py",
     "varRefreshCmd": "print(var_dic_list())"
    },
    "r": {
     "delete_cmd_postfix": ") ",
     "delete_cmd_prefix": "rm(",
     "library": "var_list.r",
     "varRefreshCmd": "cat(var_dic_list()) "
    }
   },
   "types_to_exclude": [
    "module",
    "function",
    "builtin_function_or_method",
    "instance",
    "_Feature"
   ],
   "window_display": false
  }
 },
 "nbformat": 4,
 "nbformat_minor": 2
}
