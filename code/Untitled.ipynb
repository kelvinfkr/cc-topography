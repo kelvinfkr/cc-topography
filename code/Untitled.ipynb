{
 "cells": [
  {
   "cell_type": "code",
   "execution_count": 1,
   "metadata": {
    "collapsed": true
   },
   "outputs": [],
   "source": [
    "import os, sys, time, resource, re, gc, shutil\n",
    "from multiprocess import Pool\n",
    "from functools import partial\n",
    "from urllib.parse import urlparse, parse_qsl\n",
    "import matplotlib\n",
    "#from matplotlib.backends.backend_pdf import FigureCanvasPdf\n",
    "#matplotlib.backend_bases.register_backend('pdf', FigureCanvasPdf)\n",
    "#matplotlib.use('pgf')\n",
    "#matplotlib.use('PS') \n",
    "import matplotlib.pyplot as plt\n",
    "import numpy as np\n",
    "import pandas as pd\n",
    "import django\n",
    "sys.path.append('/home/galm/software/django/tmv/BasicBrowser/')\n",
    "os.environ.setdefault(\"DJANGO_SETTINGS_MODULE\", \"BasicBrowser.settings\")\n",
    "django.setup()\n",
    "from django.db.models import Q, F, Sum, Count, FloatField, Case, When, Value, Max\n",
    "import matplotlib.patches as patches\n",
    "from scipy.sparse import csr_matrix, find\n",
    "\n",
    "from scoping.models import *\n",
    "from tmv_app.models import *\n",
    "\n",
    "from sklearn.feature_extraction.text import CountVectorizer, TfidfVectorizer\n",
    "from sklearn.preprocessing import normalize\n",
    "from nltk.stem import SnowballStemmer\n",
    "\n",
    "\n",
    "import textwrap as tw\n",
    "from utils.text import *\n",
    "import networkx as nx\n",
    "\n",
    "stat = RunStats.objects.get(pk=662)\n",
    "\n",
    "dtopics = DynamicTopic.objects.filter(run_id=stat)\n",
    "wtopics = Topic.objects.filter(run_id=stat)"
   ]
  }
 ],
 "metadata": {
  "kernelspec": {
   "display_name": "tmvenv",
   "language": "python",
   "name": "tmvenv"
  },
  "language_info": {
   "codemirror_mode": {
    "name": "ipython",
    "version": 3
   },
   "file_extension": ".py",
   "mimetype": "text/x-python",
   "name": "python",
   "nbconvert_exporter": "python",
   "pygments_lexer": "ipython3",
   "version": "3.4.3"
  }
 },
 "nbformat": 4,
 "nbformat_minor": 2
}
