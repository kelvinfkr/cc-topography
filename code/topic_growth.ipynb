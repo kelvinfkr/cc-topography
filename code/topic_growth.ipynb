{
 "cells": [
  {
   "cell_type": "code",
   "execution_count": 2,
   "metadata": {
    "collapsed": false
   },
   "outputs": [
    {
     "name": "stdout",
     "output_type": "stream",
     "text": [
      "wos_all_updated\n"
     ]
    }
   ],
   "source": [
    "import os, sys, time, resource, re, gc, shutil\n",
    "from multiprocess import Pool\n",
    "from functools import partial\n",
    "from tabulate import tabulate\n",
    "from urllib.parse import urlparse, parse_qsl\n",
    "\n",
    "import matplotlib.pyplot as plt\n",
    "import numpy as np\n",
    "import pandas as pd\n",
    "from mongoengine.queryset.visitor import Q\n",
    "import django\n",
    "from django.db.models import Count\n",
    "sys.path.append('/home/galm/software/django/tmv/BasicBrowser/')\n",
    "os.environ.setdefault(\"DJANGO_SETTINGS_MODULE\", \"BasicBrowser.settings\")\n",
    "django.setup()\n",
    "\n",
    "from scoping.models import *\n",
    "from tmv_app.models import *\n",
    "from utils.text import *\n",
    "from utils.plotting import *\n",
    "from sklearn.feature_extraction.text import *\n",
    "from sklearn.decomposition import NMF\n",
    "from scipy.sparse import coo_matrix, find\n",
    "from django.db.models import Q, F, Sum, Count, FloatField, Case, When\n",
    "\n",
    "from run_id import run_id\n",
    "run_id = 662\n",
    "stat = RunStats.objects.get(pk=run_id)\n",
    "q = stat.query\n",
    "print(q.title)\n",
    "from tmv_app.tasks import *\n",
    "from utils.text import *\n"
   ]
  },
  {
   "cell_type": "code",
   "execution_count": 43,
   "metadata": {
    "collapsed": false
   },
   "outputs": [
    {
     "data": {
      "text/html": [
       "<div>\n",
       "<table border=\"1\" class=\"dataframe\">\n",
       "  <thead>\n",
       "    <tr style=\"text-align: right;\">\n",
       "      <th></th>\n",
       "      <th>dtopic__id</th>\n",
       "      <th>dtopic__title</th>\n",
       "      <th>period__n</th>\n",
       "      <th>score</th>\n",
       "      <th>share</th>\n",
       "    </tr>\n",
       "  </thead>\n",
       "  <tbody>\n",
       "    <tr>\n",
       "      <th>0</th>\n",
       "      <td>10742</td>\n",
       "      <td>{soc, stock, organ}</td>\n",
       "      <td>1</td>\n",
       "      <td>0.000000</td>\n",
       "      <td>0.000000</td>\n",
       "    </tr>\n",
       "    <tr>\n",
       "      <th>1</th>\n",
       "      <td>10779</td>\n",
       "      <td>{food, consumpt, household}</td>\n",
       "      <td>1</td>\n",
       "      <td>0.000000</td>\n",
       "      <td>0.000000</td>\n",
       "    </tr>\n",
       "    <tr>\n",
       "      <th>2</th>\n",
       "      <td>10809</td>\n",
       "      <td>{water, resourc, suppli}</td>\n",
       "      <td>1</td>\n",
       "      <td>1.918460</td>\n",
       "      <td>2.825209</td>\n",
       "    </tr>\n",
       "    <tr>\n",
       "      <th>3</th>\n",
       "      <td>10808</td>\n",
       "      <td>{energi, renew, consumpt}</td>\n",
       "      <td>1</td>\n",
       "      <td>0.468868</td>\n",
       "      <td>0.690476</td>\n",
       "    </tr>\n",
       "    <tr>\n",
       "      <th>4</th>\n",
       "      <td>10813</td>\n",
       "      <td>{carbon, dioxid, sequestr}</td>\n",
       "      <td>1</td>\n",
       "      <td>1.664400</td>\n",
       "      <td>2.451068</td>\n",
       "    </tr>\n",
       "  </tbody>\n",
       "</table>\n",
       "</div>"
      ],
      "text/plain": [
       "   dtopic__id                dtopic__title  period__n     score     share\n",
       "0       10742          {soc, stock, organ}          1  0.000000  0.000000\n",
       "1       10779  {food, consumpt, household}          1  0.000000  0.000000\n",
       "2       10809     {water, resourc, suppli}          1  1.918460  2.825209\n",
       "3       10808    {energi, renew, consumpt}          1  0.468868  0.690476\n",
       "4       10813   {carbon, dioxid, sequestr}          1  1.664400  2.451068"
      ]
     },
     "execution_count": 43,
     "metadata": {},
     "output_type": "execute_result"
    }
   ],
   "source": [
    "yscores = TimeDTopic.objects.filter(\n",
    "        dtopic__run_id=run_id,\n",
    "        share__isnull=False,\n",
    ").order_by('period__n','pgrowth').values('period__n','dtopic__id','dtopic__title','score','share')\n",
    "\n",
    "df = pd.DataFrame.from_dict(list(yscores))\n",
    "df['share'] = df['share'] * 100\n",
    "\n",
    "df.head()"
   ]
  },
  {
   "cell_type": "code",
   "execution_count": 12,
   "metadata": {
    "collapsed": false
   },
   "outputs": [
    {
     "data": {
      "text/html": [
       "<div>\n",
       "<table border=\"1\" class=\"dataframe\">\n",
       "  <thead>\n",
       "    <tr style=\"text-align: right;\">\n",
       "      <th></th>\n",
       "      <th>dtopic__id</th>\n",
       "      <th>dtopic__title</th>\n",
       "      <th>period__n</th>\n",
       "      <th>score</th>\n",
       "      <th>share</th>\n",
       "    </tr>\n",
       "  </thead>\n",
       "  <tbody>\n",
       "    <tr>\n",
       "      <th>0</th>\n",
       "      <td>10798</td>\n",
       "      <td>{environment, impact, life}</td>\n",
       "      <td>1</td>\n",
       "      <td>0.659587</td>\n",
       "      <td>0.009713</td>\n",
       "    </tr>\n",
       "    <tr>\n",
       "      <th>1</th>\n",
       "      <td>10805</td>\n",
       "      <td>{forest, tropic, stand}</td>\n",
       "      <td>1</td>\n",
       "      <td>1.048362</td>\n",
       "      <td>0.015439</td>\n",
       "    </tr>\n",
       "    <tr>\n",
       "      <th>2</th>\n",
       "      <td>10778</td>\n",
       "      <td>{trend, station, year}</td>\n",
       "      <td>1</td>\n",
       "      <td>0.772448</td>\n",
       "      <td>0.011375</td>\n",
       "    </tr>\n",
       "    <tr>\n",
       "      <th>3</th>\n",
       "      <td>10733</td>\n",
       "      <td>{inject, storag, reservoir}</td>\n",
       "      <td>1</td>\n",
       "      <td>0.000000</td>\n",
       "      <td>0.000000</td>\n",
       "    </tr>\n",
       "    <tr>\n",
       "      <th>4</th>\n",
       "      <td>10768</td>\n",
       "      <td>{tree, stand, pine}</td>\n",
       "      <td>1</td>\n",
       "      <td>0.108216</td>\n",
       "      <td>0.001594</td>\n",
       "    </tr>\n",
       "  </tbody>\n",
       "</table>\n",
       "</div>"
      ],
      "text/plain": [
       "   dtopic__id                dtopic__title  period__n     score     share\n",
       "0       10798  {environment, impact, life}          1  0.659587  0.009713\n",
       "1       10805      {forest, tropic, stand}          1  1.048362  0.015439\n",
       "2       10778       {trend, station, year}          1  0.772448  0.011375\n",
       "3       10733  {inject, storag, reservoir}          1  0.000000  0.000000\n",
       "4       10768          {tree, stand, pine}          1  0.108216  0.001594"
      ]
     },
     "execution_count": 12,
     "metadata": {},
     "output_type": "execute_result"
    }
   ],
   "source": []
  },
  {
   "cell_type": "code",
   "execution_count": null,
   "metadata": {
    "collapsed": false
   },
   "outputs": [
    {
     "name": "stdout",
     "output_type": "stream",
     "text": [
      "['{industri, sector, intens}', '{adsorpt, adsorb, capac}', '{area, distribut, protect}', '{urban, citi, plan}', '{build, construct, design}', '{process, captur, reaction}', '{drought, sever, stress}', '{rice, paddi, straw}', '{food, consumpt, household}', '{elev, ambient, leaf}']\n"
     ]
    }
   ],
   "source": [
    "plt.rcParams[\"figure.figsize\"] = (12,7.5)\n",
    "\n",
    "topics = DynamicTopic.objects.filter(\n",
    "    run_id=run_id,timedtopic__period__title=\"AR6\"\n",
    ").order_by('-timedtopic__pgrowth')[:10].values_list('title',flat=True)\n",
    "plots = []\n",
    "plots = [x for x in topics]\n",
    "print(plots)\n",
    "lvalues = [x for x in topics]\n",
    "for name, group in df.groupby('dtopic__title'):\n",
    "    #group = group.set_index('period__n')\n",
    "    if name in topics:      \n",
    "        p = plt.plot(group['period__n'],group['share'])\n",
    "        for i, pl in enumerate(plots):\n",
    "            if pl ==name:\n",
    "                plots[i] = p[0]\n",
    "        lvalues.append(name)\n",
    "    else:\n",
    "        plt.plot(group['period__n'],group['share'],color=\"grey\",alpha=0.1)\n",
    "\n",
    "        \n",
    "\n",
    "plt.legend(plots,lvalues,title='')\n",
    "plt.suptitle(\"Fast growing topics in AR6\")\n",
    "plt.xlabel('AP')\n",
    "plt.ylabel('% share of doctopic scores')\n",
    "\n",
    "plt.savefig('../plots/volume_variety.png',bbox_inches='tight')\n",
    "plt.show()"
   ]
  }
 ],
 "metadata": {
  "kernelspec": {
   "display_name": "Python 3",
   "language": "python",
   "name": "python3"
  },
  "language_info": {
   "codemirror_mode": {
    "name": "ipython",
    "version": 3
   },
   "file_extension": ".py",
   "mimetype": "text/x-python",
   "name": "python",
   "nbconvert_exporter": "python",
   "pygments_lexer": "ipython3",
   "version": "3.4.3"
  }
 },
 "nbformat": 4,
 "nbformat_minor": 2
}
