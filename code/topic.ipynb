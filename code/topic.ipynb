{
 "cells": [
  {
   "cell_type": "code",
   "execution_count": 1,
   "metadata": {
    "collapsed": false,
    "deletable": true,
    "editable": true
   },
   "outputs": [
    {
     "name": "stdout",
     "output_type": "stream",
     "text": [
      "wos_all\n",
      "365\n"
     ]
    }
   ],
   "source": [
    "import os, sys, time, resource, re, gc, shutil\n",
    "from multiprocess import Pool\n",
    "from functools import partial\n",
    "from tabulate import tabulate\n",
    "from urllib.parse import urlparse, parse_qsl\n",
    "\n",
    "import matplotlib.pyplot as plt\n",
    "import numpy as np\n",
    "import pandas as pd\n",
    "from mongoengine.queryset.visitor import Q\n",
    "import django\n",
    "from django.db.models import Count\n",
    "sys.path.append('/home/galm/software/django/tmv/BasicBrowser/')\n",
    "os.environ.setdefault(\"DJANGO_SETTINGS_MODULE\", \"BasicBrowser.settings\")\n",
    "django.setup()\n",
    "\n",
    "from scoping.models import *\n",
    "from tmv_app.models import *\n",
    "from utils.text import *\n",
    "from sklearn.feature_extraction.text import *\n",
    "from sklearn.decomposition import NMF\n",
    "from scipy.sparse import coo_matrix, find\n",
    "\n",
    "from run_id import run_id\n",
    "stat = RunStats.objects.get(pk=run_id)\n",
    "q = stat.query\n",
    "print(q.title)\n",
    "print(q.id)"
   ]
  },
  {
   "cell_type": "code",
   "execution_count": 55,
   "metadata": {
    "collapsed": false,
    "deletable": true,
    "editable": true
   },
   "outputs": [
    {
     "data": {
      "text/html": [
       "<div>\n",
       "<table border=\"1\" class=\"dataframe\">\n",
       "  <thead>\n",
       "    <tr style=\"text-align: right;\">\n",
       "      <th></th>\n",
       "      <th>doc__PY</th>\n",
       "      <th>doc__id</th>\n",
       "      <th>score</th>\n",
       "      <th>topic__title</th>\n",
       "    </tr>\n",
       "  </thead>\n",
       "  <tbody>\n",
       "    <tr>\n",
       "      <th>0</th>\n",
       "      <td>2011</td>\n",
       "      <td>186778</td>\n",
       "      <td>0.118646</td>\n",
       "      <td>{health, pollut, air}</td>\n",
       "    </tr>\n",
       "    <tr>\n",
       "      <th>1</th>\n",
       "      <td>2015</td>\n",
       "      <td>579739</td>\n",
       "      <td>0.116286</td>\n",
       "      <td>{health, pollut, air}</td>\n",
       "    </tr>\n",
       "    <tr>\n",
       "      <th>2</th>\n",
       "      <td>2010</td>\n",
       "      <td>466489</td>\n",
       "      <td>0.114664</td>\n",
       "      <td>{health, pollut, air}</td>\n",
       "    </tr>\n",
       "    <tr>\n",
       "      <th>3</th>\n",
       "      <td>2007</td>\n",
       "      <td>122532</td>\n",
       "      <td>0.113167</td>\n",
       "      <td>{health, pollut, air}</td>\n",
       "    </tr>\n",
       "    <tr>\n",
       "      <th>4</th>\n",
       "      <td>2013</td>\n",
       "      <td>531090</td>\n",
       "      <td>0.113034</td>\n",
       "      <td>{health, pollut, air}</td>\n",
       "    </tr>\n",
       "  </tbody>\n",
       "</table>\n",
       "</div>"
      ],
      "text/plain": [
       "   doc__PY  doc__id     score           topic__title\n",
       "0     2011   186778  0.118646  {health, pollut, air}\n",
       "1     2015   579739  0.116286  {health, pollut, air}\n",
       "2     2010   466489  0.114664  {health, pollut, air}\n",
       "3     2007   122532  0.113167  {health, pollut, air}\n",
       "4     2013   531090  0.113034  {health, pollut, air}"
      ]
     },
     "execution_count": 55,
     "metadata": {},
     "output_type": "execute_result"
    }
   ],
   "source": [
    "t = Topic.objects.get(pk=108973)\n",
    "\n",
    "ts = Topic.objects.filter(pk__in=[108973,108966])\n",
    "\n",
    "dts = DocTopic.objects.filter(topic__in=ts)\n",
    "\n",
    "dtdf = pd.DataFrame.from_dict(list(dts.order_by('topic__id','-score').values('doc__id','score','topic__title','doc__PY')))\n",
    "\n",
    "dtdf.head()"
   ]
  },
  {
   "cell_type": "code",
   "execution_count": 65,
   "metadata": {
    "collapsed": false,
    "deletable": true,
    "editable": true
   },
   "outputs": [
    {
     "data": {
      "image/png": "[encoded data removed]",
      "text/plain": [
       "<matplotlib.figure.Figure at 0x7faa372e2208>"
      ]
     },
     "metadata": {},
     "output_type": "display_data"
    }
   ],
   "source": [
    "#dtdf['index'] = dtdf.index\n",
    "plt.rcParams[\"figure.figsize\"] = [8,5]\n",
    "health = dtdf[dtdf['topic__title']=='{health, pollut, air}'].reset_index()\n",
    "sus = dtdf[dtdf['topic__title']!='{health, pollut, air}'].reset_index()\n",
    "\n",
    "p1 = health['score'].plot()\n",
    "p2 = sus['score'].plot()\n",
    "plt.axhline(y=stat.dthreshold)\n",
    "plt.legend(p1.lines[0:2],[\"health\",\"sustainability\"])\n",
    "plt.xlabel('N Documents')\n",
    "plt.ylabel('Topic Score')\n",
    "plt.savefig('../plots/health_sustain_{}.png'.format(run_id),bbox_inches='tight')   \n",
    "plt.show()"
   ]
  },
  {
   "cell_type": "code",
   "execution_count": 63,
   "metadata": {
    "collapsed": false,
    "deletable": true,
    "editable": true
   },
   "outputs": [
    {
     "data": {
      "image/png": "[encoded data removed]",
      "text/plain": [
       "<matplotlib.figure.Figure at 0x7faa3056aef0>"
      ]
     },
     "metadata": {},
     "output_type": "display_data"
    }
   ],
   "source": [
    "cutoff = 2011\n",
    "\n",
    "#dtdf['index'] = dtdf.index\n",
    "plt.rcParams[\"figure.figsize\"] = [8,5]\n",
    "health_early = dtdf[(dtdf['topic__title']=='{health, pollut, air}') & (dtdf['doc__PY']<cutoff)].reset_index()\n",
    "health_late = dtdf[(dtdf['topic__title']=='{health, pollut, air}') & (dtdf['doc__PY']>cutoff)].reset_index()\n",
    "sus_early = dtdf[(dtdf['topic__title']!='{health, pollut, air}') & (dtdf['doc__PY']<cutoff)].reset_index()\n",
    "sus_late = dtdf[(dtdf['topic__title']!='{health, pollut, air}') & (dtdf['doc__PY']>cutoff)].reset_index()\n",
    "\n",
    "colorset=[\"#d53e4f\",\"#f46d43\",\"#fdae61\",\"#fee08b\",\"#e6f598\",\"#abdda4\",\"#66c2a5\",\"#3288bd\"]\n",
    "\n",
    "p1 = health_early['score'].plot(color=\"#d53e4f\")\n",
    "p2 = health_late['score'].plot(color=\"#d53e4f\")\n",
    "p3 = sus_early['score'].plot(color=colorset[5])\n",
    "p4 = sus_late['score'].plot(color=colorset[5])\n",
    "plt.axhline(y=stat.dthreshold)\n",
    "plt.legend(p1.lines[0:4],[\n",
    "    \"health < {}\".format(cutoff),\n",
    "    \"health > {}\".format(cutoff),\n",
    "    \"sustainability < {}\".format(cutoff),\n",
    "    \"sustainability > {}\".format(cutoff)\n",
    "])\n",
    "plt.xlabel('N Documents')\n",
    "plt.ylabel('Topic Score')\n",
    "#plt.savefig('../plots/health_sustain_{}.png'.format(run_id),bbox_inches='tight')   \n",
    "plt.show()"
   ]
  },
  {
   "cell_type": "code",
   "execution_count": null,
   "metadata": {
    "collapsed": true,
    "deletable": true,
    "editable": true
   },
   "outputs": [],
   "source": []
  },
  {
   "cell_type": "code",
   "execution_count": 45,
   "metadata": {
    "collapsed": false,
    "deletable": true,
    "editable": true
   },
   "outputs": [
    {
     "data": {
      "text/plain": [
       "[<matplotlib.lines.Line2D at 0x7faa312f37f0>]"
      ]
     },
     "execution_count": 45,
     "metadata": {},
     "output_type": "execute_result"
    }
   ],
   "source": []
  },
  {
   "cell_type": "code",
   "execution_count": 53,
   "metadata": {
    "collapsed": false,
    "deletable": true,
    "editable": true
   },
   "outputs": [
    {
     "data": {
      "text/html": [
       "<div>\n",
       "<table border=\"1\" class=\"dataframe\">\n",
       "  <thead>\n",
       "    <tr style=\"text-align: right;\">\n",
       "      <th></th>\n",
       "      <th>doc__PY</th>\n",
       "      <th>doc__id</th>\n",
       "      <th>score</th>\n",
       "      <th>topic__title</th>\n",
       "    </tr>\n",
       "  </thead>\n",
       "  <tbody>\n",
       "    <tr>\n",
       "      <th>0</th>\n",
       "      <td>2010</td>\n",
       "      <td>500186</td>\n",
       "      <td>0.056684</td>\n",
       "      <td>{research, manag, sustain}</td>\n",
       "    </tr>\n",
       "    <tr>\n",
       "      <th>1</th>\n",
       "      <td>2016</td>\n",
       "      <td>709697</td>\n",
       "      <td>0.053547</td>\n",
       "      <td>{research, manag, sustain}</td>\n",
       "    </tr>\n",
       "    <tr>\n",
       "      <th>2</th>\n",
       "      <td>2013</td>\n",
       "      <td>42450</td>\n",
       "      <td>0.052410</td>\n",
       "      <td>{research, manag, sustain}</td>\n",
       "    </tr>\n",
       "    <tr>\n",
       "      <th>3</th>\n",
       "      <td>2011</td>\n",
       "      <td>69886</td>\n",
       "      <td>0.052231</td>\n",
       "      <td>{research, manag, sustain}</td>\n",
       "    </tr>\n",
       "    <tr>\n",
       "      <th>4</th>\n",
       "      <td>2014</td>\n",
       "      <td>682523</td>\n",
       "      <td>0.048519</td>\n",
       "      <td>{research, manag, sustain}</td>\n",
       "    </tr>\n",
       "  </tbody>\n",
       "</table>\n",
       "</div>"
      ],
      "text/plain": [
       "   doc__PY  doc__id     score                topic__title\n",
       "0     2010   500186  0.056684  {research, manag, sustain}\n",
       "1     2016   709697  0.053547  {research, manag, sustain}\n",
       "2     2013    42450  0.052410  {research, manag, sustain}\n",
       "3     2011    69886  0.052231  {research, manag, sustain}\n",
       "4     2014   682523  0.048519  {research, manag, sustain}"
      ]
     },
     "execution_count": 53,
     "metadata": {},
     "output_type": "execute_result"
    }
   ],
   "source": [
    "t = Topic.objects.get(pk=108973)\n",
    "\n",
    "\n",
    "dts = DocTopic.objects.filter(topic=t)\n",
    "\n",
    "dtdf = pd.DataFrame.from_dict(list(dts.order_by('-score').values('doc__id','score','topic__title','doc__PY')))\n",
    "\n",
    "dtdf.head()"
   ]
  },
  {
   "cell_type": "code",
   "execution_count": 54,
   "metadata": {
    "collapsed": false,
    "deletable": true,
    "editable": true
   },
   "outputs": [
    {
     "data": {
      "image/png": "[encoded data removed]",
      "text/plain": [
       "<matplotlib.figure.Figure at 0x7faa30c32fd0>"
      ]
     },
     "metadata": {},
     "output_type": "display_data"
    }
   ],
   "source": [
    "#dtdf['index'] = dtdf.index\n",
    "plt.rcParams[\"figure.figsize\"] = [8,5]\n",
    "early = dtdf[dtdf['doc__PY']<2010].reset_index()\n",
    "late = dtdf[dtdf['doc__PY']>2010].reset_index()\n",
    "\n",
    "p1 = early['score'].plot()\n",
    "p2 = late['score'].plot()\n",
    "plt.axhline(y=stat.dthreshold)\n",
    "plt.legend(p1.lines[0:2],[\"<2010\",\"> 2010\"])\n",
    "plt.xlabel('N Documents')\n",
    "plt.ylabel('Topic Score')\n",
    "plt.savefig('../plots/health_sustain_{}.png'.format(run_id),bbox_inches='tight')   \n",
    "plt.show()"
   ]
  },
  {
   "cell_type": "code",
   "execution_count": 94,
   "metadata": {
    "collapsed": false,
    "deletable": true,
    "editable": true
   },
   "outputs": [
    {
     "name": "stdout",
     "output_type": "stream",
     "text": [
      "{'{polici, govern, tax}': Sum(CASE WHEN <Q: (AND: ('topic', <Topic: {polici, govern, tax}>))> THEN F(score), ELSE Value(None)), '{research, manag, sustain}': Sum(CASE WHEN <Q: (AND: ('topic', <Topic: {research, manag, sustain}>))> THEN F(score), ELSE Value(None))}\n",
      "{polici, govern, tax}\n",
      "How Research-Prioritization Exercises Affect Conservation Policy\n",
      "Role of hydrology and economics in water management policy under increasing uncertainty\n",
      "Informing food policy: balancing the evidence\n",
      "The identification of priority policy options for UK nature conservation\n",
      "Environmental education policy research challenges and ways research might cope with them\n",
      "{'{adapt, vulner, strategi}': Sum(CASE WHEN <Q: (AND: ('topic', <Topic: {adapt, vulner, strategi}>))> THEN F(score), ELSE Value(None)), '{research, manag, sustain}': Sum(CASE WHEN <Q: (AND: ('topic', <Topic: {research, manag, sustain}>))> THEN F(score), ELSE Value(None))}\n",
      "{adapt, vulner, strategi}\n",
      "Methodological choices in solution-oriented adaptation research: a diagnostic framework\n",
      "When not every response to climate change is a good one: Identifying principles for sustainable adaptation\n",
      "Informed adaptation: Ethical considerations for adaptation researchers and decision-makers\n",
      "Future oriented conservation: knowledge governance, uncertainty and learning\n",
      "Towards an integrated agenda for adaptation research: theory, practice and policy\n",
      "{'{research, manag, sustain}': Sum(CASE WHEN <Q: (AND: ('topic', <Topic: {research, manag, sustain}>))> THEN F(score), ELSE Value(None)), '{urban, citi, area}': Sum(CASE WHEN <Q: (AND: ('topic', <Topic: {urban, citi, area}>))> THEN F(score), ELSE Value(None))}\n",
      "{urban, citi, area}\n",
      "A review of urban ecosystem services: six key challenges for future research\n",
      "Lines of Tradition and Recent Approaches to Urban Ecology, Focussing on Germany and the USA\n",
      "Advancing understanding of the complex nature of urban systems\n",
      "Sustainable urban landscapes: South African perspectives on transdisciplinary possibilities\n",
      "A conceptual framework for addressing complexity and unfolding transition dynamics when developing sustainable adaptation strategies in urban water management\n"
     ]
    }
   ],
   "source": [
    "from tmv_app.views import *\n",
    "\n",
    "## Cotopics:\n",
    "topic_ids = [108931,108922,108927]\n",
    "\n",
    "for t in topic_ids:\n",
    "    sus = Topic.objects.get(pk=108973)\n",
    "    tts = Topic.objects.filter(pk__in=[t,108973])\n",
    "    doctopics = DocTopic.objects.filter(\n",
    "        topic__in=tts,\n",
    "        score__gt=0\n",
    "    )\n",
    "    \n",
    "    combine = doctopics.values('doc').annotate(\n",
    "        topic_combination = Sum('score'),\n",
    "        count = Count('score')\n",
    "    ).filter(count__gte=len(tts))\n",
    "    \n",
    "\n",
    "    annotation = {}\n",
    "\n",
    "    combine2 = combine.values('doc')\n",
    "    for tt in tts:\n",
    "        #top = Topic.objects.get(pk=t)\n",
    "        annotation[tt.title] = Sum(\n",
    "            Case(When(topic=tt,then=F('score')),\n",
    "                #default=0,\n",
    "                output_field=models.FloatField()\n",
    "            )\n",
    "        )\n",
    "        \n",
    "    print(annotation)\n",
    "\n",
    "    combine2 = combine2.annotate(**annotation)\n",
    "    combine2 = combine2.annotate(topic_combination=F(tts[0].title))\n",
    "\n",
    "    for i in range(1,len(tts)):\n",
    "        combine2 = combine2.annotate(\n",
    "            topic_combination=F('topic_combination')*F(tts[i].title)\n",
    "        )\n",
    "        \n",
    "    print(Topic.objects.get(pk=t))\n",
    "    y = combine2.order_by('-topic_combination')[:5]\n",
    "    for x in y:\n",
    "        d = Doc.objects.get(pk=x['doc'])\n",
    "        print(d.title)"
   ]
  },
  {
   "cell_type": "code",
   "execution_count": 93,
   "metadata": {
    "collapsed": false,
    "deletable": true,
    "editable": true
   },
   "outputs": [
    {
     "data": {
      "text/plain": [
       "717806"
      ]
     },
     "execution_count": 93,
     "metadata": {},
     "output_type": "execute_result"
    }
   ],
   "source": [
    "y[0]['doc']"
   ]
  }
 ],
 "metadata": {
  "kernelspec": {
   "display_name": "Python 3",
   "language": "python",
   "name": "python3"
  },
  "language_info": {
   "codemirror_mode": {
    "name": "ipython",
    "version": 3
   },
   "file_extension": ".py",
   "mimetype": "text/x-python",
   "name": "python",
   "nbconvert_exporter": "python",
   "pygments_lexer": "ipython3",
   "version": "3.4.3"
  }
 },
 "nbformat": 4,
 "nbformat_minor": 2
}
