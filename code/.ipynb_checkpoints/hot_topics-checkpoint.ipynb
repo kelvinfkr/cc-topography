{
 "cells": [
  {
   "cell_type": "code",
   "execution_count": 4,
   "metadata": {
    "collapsed": true,
    "deletable": true,
    "editable": true
   },
   "outputs": [],
   "source": [
    "import os, sys, time, resource, re, gc, shutil\n",
    "from multiprocess import Pool\n",
    "from functools import partial\n",
    "\n",
    "from urllib.parse import urlparse, parse_qsl\n",
    "\n",
    "import matplotlib.pyplot as plt\n",
    "import numpy as np\n",
    "import pandas as pd\n",
    "from mongoengine.queryset.visitor import Q\n",
    "import django\n",
    "from django.db.models import Count\n",
    "sys.path.append('/home/galm/software/tmv/BasicBrowser/')\n",
    "os.environ.setdefault(\"DJANGO_SETTINGS_MODULE\", \"BasicBrowser.settings\")\n",
    "django.setup()\n",
    "\n",
    "from scoping.models import *\n",
    "from tmv_app.models import *"
   ]
  },
  {
   "cell_type": "code",
   "execution_count": 31,
   "metadata": {
    "collapsed": false,
    "deletable": true,
    "editable": true
   },
   "outputs": [
    {
     "name": "stdout",
     "output_type": "stream",
     "text": [
      "                topic__title  topic_id       AR1       AR2       AR3\n",
      "0      {sea, level, coastal}       115  0.000328  0.005743  0.012867\n",
      "1       {ice, sheet, arctic}       113  0.000732  0.008076  0.015368\n",
      "2  {rainfal, monsoon, event}       133  0.000153  0.003312  0.008487\n",
      "3    {emiss, ghg, greenhous}       103  0.000222  0.008982  0.024311\n",
      "4   {glacier, mass, retreat}       129  0.000027  0.002394  0.009035\n"
     ]
    }
   ],
   "source": [
    "ytopics = []\n",
    "y = 1990\n",
    "\n",
    "run_id = 30\n",
    "ar = \"ar1\"\n",
    "[0,1985,1990.1,1995.1,2001.1,2007.1,2013.1,9999]\n",
    "ars = [\n",
    "    {\"name\":\"AR1\",\"years\":range(1985,1991)},\n",
    "    {\"name\":\"AR2\",\"years\":range(1991,1995)},\n",
    "    {\"name\":\"AR3\",\"years\":range(1995,2001)},\n",
    "    {\"name\":\"AR4\",\"years\":range(2001,2008)},\n",
    "    {\"name\":\"AR5\",\"years\":range(2008,2014)},\n",
    "    {\"name\":\"AR6\",\"years\":range(2014,2020)}\n",
    "]\n",
    "for ar in ars:   \n",
    "    ytopics = DocTopic.objects.filter(doc__PY__in=ar[\"years\"],run_id=run_id).values('topic_id').annotate(\n",
    "        ttotal=models.Sum('scaled_score')\n",
    "    ).values('topic_id','topic__title','ttotal')\n",
    "    if ar[\"name\"]==\"AR1\":\n",
    "        df = pd.DataFrame.from_dict(list(ytopics)).rename(index=str,columns={\"ttotal\": ar[\"name\"]})\n",
    "    else:\n",
    "        df = df.merge(pd.DataFrame.from_dict(list(ytopics)).rename(index=str,columns={\"ttotal\": ar[\"name\"]}))\n",
    "    if ar[\"name\"] == \"AR3\":\n",
    "        break\n",
    "print(df.head())\n",
    "    "
   ]
  },
  {
   "cell_type": "code",
   "execution_count": 28,
   "metadata": {
    "collapsed": false
   },
   "outputs": [
    {
     "data": {
      "text/html": [
       "<div>\n",
       "<table border=\"1\" class=\"dataframe\">\n",
       "  <thead>\n",
       "    <tr style=\"text-align: right;\">\n",
       "      <th></th>\n",
       "      <th>topic__title</th>\n",
       "      <th>topic_id</th>\n",
       "      <th>AR5</th>\n",
       "    </tr>\n",
       "  </thead>\n",
       "  <tbody>\n",
       "    <tr>\n",
       "      <th>0</th>\n",
       "      <td>{sea, level, coastal}</td>\n",
       "      <td>115</td>\n",
       "      <td>0.052821</td>\n",
       "    </tr>\n",
       "    <tr>\n",
       "      <th>1</th>\n",
       "      <td>{ice, sheet, arctic}</td>\n",
       "      <td>113</td>\n",
       "      <td>0.032977</td>\n",
       "    </tr>\n",
       "    <tr>\n",
       "      <th>2</th>\n",
       "      <td>{rainfal, monsoon, event}</td>\n",
       "      <td>133</td>\n",
       "      <td>0.039964</td>\n",
       "    </tr>\n",
       "    <tr>\n",
       "      <th>3</th>\n",
       "      <td>{emiss, ghg, greenhous}</td>\n",
       "      <td>103</td>\n",
       "      <td>0.100176</td>\n",
       "    </tr>\n",
       "    <tr>\n",
       "      <th>4</th>\n",
       "      <td>{glacier, mass, retreat}</td>\n",
       "      <td>129</td>\n",
       "      <td>0.028249</td>\n",
       "    </tr>\n",
       "  </tbody>\n",
       "</table>\n",
       "</div>"
      ],
      "text/plain": [
       "                topic__title  topic_id       AR5\n",
       "0      {sea, level, coastal}       115  0.052821\n",
       "1       {ice, sheet, arctic}       113  0.032977\n",
       "2  {rainfal, monsoon, event}       133  0.039964\n",
       "3    {emiss, ghg, greenhous}       103  0.100176\n",
       "4   {glacier, mass, retreat}       129  0.028249"
      ]
     },
     "execution_count": 28,
     "metadata": {},
     "output_type": "execute_result"
    }
   ],
   "source": [
    "df = pd.DataFrame.from_dict(list(ytopics)).rename(index=str,columns={\"ttotal\": ar[\"name\"]})\n",
    "df.head()"
   ]
  },
  {
   "cell_type": "code",
   "execution_count": null,
   "metadata": {
    "collapsed": true
   },
   "outputs": [],
   "source": [
    "yts = DocTopic.objects.filter(doc__PY__gt=1989,run_id=run_id)\n",
    "\n",
    "            yts = yts.values('doc__PY').annotate(\n",
    "                yeartotal=Sum('scaled_score')\n",
    "            )\n",
    "\n",
    "            ytts = yts.values().values('topic','topic__title','doc__PY').annotate(\n",
    "                score=Sum('scaled_score')\n",
    "            )\n",
    "            TopicYear.objects.filter(run_id=run_id).delete()\n",
    "            for ytt in ytts:\n",
    "                yttyear = ytt['doc__PY']\n",
    "                topic = Topic.objects.get(topic=ytt['topic'])\n",
    "                for yt in yts:\n",
    "                    ytyear = yt['doc__PY']\n",
    "                    if yttyear==ytyear:\n",
    "                        yeartotal = yt['yeartotal']\n",
    "                try:\n",
    "                    topicyear = TopicYear.objects.get(topic=topic,PY=yttyear, run_id=run_id)\n",
    "                except:\n",
    "                    topicyear = TopicYear(topic=topic,PY=yttyear,run_id=run_id)\n",
    "                topicyear.score = ytt['score']\n",
    "                topicyear.count = yeartotal\n",
    "                topicyear.save()"
   ]
  }
 ],
 "metadata": {
  "kernelspec": {
   "display_name": "Python 3",
   "language": "python",
   "name": "python3"
  },
  "language_info": {
   "codemirror_mode": {
    "name": "ipython",
    "version": 3
   },
   "file_extension": ".py",
   "mimetype": "text/x-python",
   "name": "python",
   "nbconvert_exporter": "python",
   "pygments_lexer": "ipython3",
   "version": "3.4.3"
  }
 },
 "nbformat": 4,
 "nbformat_minor": 2
}
