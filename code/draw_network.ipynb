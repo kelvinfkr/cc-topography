{
 "cells": [
  {
   "cell_type": "code",
   "execution_count": 1,
   "metadata": {},
   "outputs": [],
   "source": [
    "import networkx as nx\n",
    "import pickle\n",
    "import random\n",
    "import scipy\n",
    "from scipy.sparse import tril, find\n",
    "import pandas as pd\n",
    "from graph_tool.all import *\n",
    "\n"
   ]
  },
  {
   "cell_type": "code",
   "execution_count": 2,
   "metadata": {},
   "outputs": [
    {
     "data": {
      "text/plain": [
       "<218327x218327 sparse matrix of type '<class 'numpy.int64'>'\n",
       "\twith 24323202 stored elements in Compressed Sparse Row format>"
      ]
     },
     "execution_count": 2,
     "metadata": {},
     "output_type": "execute_result"
    }
   ],
   "source": [
    "sample = 2\n",
    "\n",
    "qid = 3769\n",
    "\n",
    "Cmat = scipy.sparse.load_npz(f'../network/bibCouple_q_{qid}_{sample}.npz')\n",
    "\n",
    "Cmat.data *= Cmat.data>=3\n",
    "Cmat.eliminate_zeros()\n",
    "\n",
    "Cmat"
   ]
  },
  {
   "cell_type": "code",
   "execution_count": 3,
   "metadata": {},
   "outputs": [],
   "source": [
    "ltri = tril(Cmat,k=-1)\n"
   ]
  },
  {
   "cell_type": "code",
   "execution_count": 4,
   "metadata": {},
   "outputs": [
    {
     "data": {
      "text/plain": [
       "<Graph object, directed, with 218327 vertices and 0 edges at 0x7fa2ba5c70b8>"
      ]
     },
     "execution_count": 4,
     "metadata": {},
     "output_type": "execute_result"
    }
   ],
   "source": [
    "g = Graph()\n",
    "for i in range(ltri.shape[0]):\n",
    "    g.add_vertex()\n",
    "g"
   ]
  },
  {
   "cell_type": "code",
   "execution_count": 5,
   "metadata": {},
   "outputs": [
    {
     "data": {
      "text/plain": [
       "<Graph object, directed, with 218327 vertices and 12053683 edges at 0x7fa2ba5c70b8>"
      ]
     },
     "execution_count": 5,
     "metadata": {},
     "output_type": "execute_result"
    }
   ],
   "source": [
    "for i,j,k in zip(*find(ltri)):\n",
    "    g.add_edge(i,j)\n",
    "    \n",
    "g"
   ]
  },
  {
   "cell_type": "code",
   "execution_count": 6,
   "metadata": {},
   "outputs": [
    {
     "ename": "KeyboardInterrupt",
     "evalue": "",
     "output_type": "error",
     "traceback": [
      "\u001b[0;31m---------------------------------------------------------------------------\u001b[0m",
      "\u001b[0;31mKeyboardInterrupt\u001b[0m                         Traceback (most recent call last)",
      "\u001b[0;32m<ipython-input-6-63bbf803cb8c>\u001b[0m in \u001b[0;36m<module>\u001b[0;34m\u001b[0m\n\u001b[0;32m----> 1\u001b[0;31m \u001b[0mgraph_draw\u001b[0m\u001b[0;34m(\u001b[0m\u001b[0mg\u001b[0m\u001b[0;34m,\u001b[0m\u001b[0moutput_size\u001b[0m\u001b[0;34m=\u001b[0m\u001b[0;34m(\u001b[0m\u001b[0;36m1200\u001b[0m\u001b[0;34m,\u001b[0m \u001b[0;36m1200\u001b[0m\u001b[0;34m)\u001b[0m\u001b[0;34m)\u001b[0m\u001b[0;34m\u001b[0m\u001b[0;34m\u001b[0m\u001b[0m\n\u001b[0m",
      "\u001b[0;32m/usr/lib/python3/dist-packages/graph_tool/draw/cairo_draw.py\u001b[0m in \u001b[0;36mgraph_draw\u001b[0;34m(g, pos, vprops, eprops, vorder, eorder, nodesfirst, output_size, fit_view, inline, mplfig, output, fmt, **kwargs)\u001b[0m\n\u001b[1;32m   1044\u001b[0m                 \u001b[0mkwargs\u001b[0m\u001b[0;34m[\u001b[0m\u001b[0;34m\"layout_K\"\u001b[0m\u001b[0;34m]\u001b[0m \u001b[0;34m=\u001b[0m \u001b[0m_avg_edge_distance\u001b[0m\u001b[0;34m(\u001b[0m\u001b[0mg\u001b[0m\u001b[0;34m,\u001b[0m \u001b[0mpos\u001b[0m\u001b[0;34m)\u001b[0m \u001b[0;34m/\u001b[0m \u001b[0;36m10\u001b[0m\u001b[0;34m\u001b[0m\u001b[0;34m\u001b[0m\u001b[0m\n\u001b[1;32m   1045\u001b[0m         \u001b[0;32melse\u001b[0m\u001b[0;34m:\u001b[0m\u001b[0;34m\u001b[0m\u001b[0;34m\u001b[0m\u001b[0m\n\u001b[0;32m-> 1046\u001b[0;31m             \u001b[0mpos\u001b[0m \u001b[0;34m=\u001b[0m \u001b[0msfdp_layout\u001b[0m\u001b[0;34m(\u001b[0m\u001b[0mg\u001b[0m\u001b[0;34m)\u001b[0m\u001b[0;34m\u001b[0m\u001b[0;34m\u001b[0m\u001b[0m\n\u001b[0m\u001b[1;32m   1047\u001b[0m     \u001b[0;32melse\u001b[0m\u001b[0;34m:\u001b[0m\u001b[0;34m\u001b[0m\u001b[0;34m\u001b[0m\u001b[0m\n\u001b[1;32m   1048\u001b[0m         \u001b[0m_check_prop_vector\u001b[0m\u001b[0;34m(\u001b[0m\u001b[0mpos\u001b[0m\u001b[0;34m,\u001b[0m \u001b[0mname\u001b[0m\u001b[0;34m=\u001b[0m\u001b[0;34m\"pos\"\u001b[0m\u001b[0;34m,\u001b[0m \u001b[0mfloating\u001b[0m\u001b[0;34m=\u001b[0m\u001b[0;32mTrue\u001b[0m\u001b[0;34m)\u001b[0m\u001b[0;34m\u001b[0m\u001b[0;34m\u001b[0m\u001b[0m\n",
      "\u001b[0;32m/usr/lib/python3/dist-packages/graph_tool/draw/__init__.py\u001b[0m in \u001b[0;36msfdp_layout\u001b[0;34m(g, vweight, eweight, pin, groups, C, K, p, theta, max_level, gamma, mu, mu_p, init_step, cooling_step, adaptive_cooling, epsilon, max_iter, pos, multilevel, coarse_method, mivs_thres, ec_thres, coarse_stack, weighted_coarse, verbose)\u001b[0m\n\u001b[1;32m    739\u001b[0m                               \u001b[0;31m#               _avg_edge_distance(u, pos)),\u001b[0m\u001b[0;34m\u001b[0m\u001b[0;34m\u001b[0m\u001b[0;34m\u001b[0m\u001b[0m\n\u001b[1;32m    740\u001b[0m                               \u001b[0mmultilevel\u001b[0m\u001b[0;34m=\u001b[0m\u001b[0;32mFalse\u001b[0m\u001b[0;34m,\u001b[0m\u001b[0;34m\u001b[0m\u001b[0;34m\u001b[0m\u001b[0m\n\u001b[0;32m--> 741\u001b[0;31m                               verbose=False)\n\u001b[0m\u001b[1;32m    742\u001b[0m         \u001b[0mpos\u001b[0m \u001b[0;34m=\u001b[0m \u001b[0mg_\u001b[0m\u001b[0;34m.\u001b[0m\u001b[0mown_property\u001b[0m\u001b[0;34m(\u001b[0m\u001b[0mpos\u001b[0m\u001b[0;34m)\u001b[0m\u001b[0;34m\u001b[0m\u001b[0;34m\u001b[0m\u001b[0m\n\u001b[1;32m    743\u001b[0m         \u001b[0;32mreturn\u001b[0m \u001b[0mpos\u001b[0m\u001b[0;34m\u001b[0m\u001b[0;34m\u001b[0m\u001b[0m\n",
      "\u001b[0;32m/usr/lib/python3/dist-packages/graph_tool/draw/__init__.py\u001b[0m in \u001b[0;36msfdp_layout\u001b[0;34m(g, vweight, eweight, pin, groups, C, K, p, theta, max_level, gamma, mu, mu_p, init_step, cooling_step, adaptive_cooling, epsilon, max_iter, pos, multilevel, coarse_method, mivs_thres, ec_thres, coarse_stack, weighted_coarse, verbose)\u001b[0m\n\u001b[1;32m    764\u001b[0m                                      \u001b[0mtheta\u001b[0m\u001b[0;34m,\u001b[0m \u001b[0minit_step\u001b[0m\u001b[0;34m,\u001b[0m \u001b[0mcooling_step\u001b[0m\u001b[0;34m,\u001b[0m \u001b[0mmax_level\u001b[0m\u001b[0;34m,\u001b[0m\u001b[0;34m\u001b[0m\u001b[0;34m\u001b[0m\u001b[0m\n\u001b[1;32m    765\u001b[0m                                      \u001b[0mepsilon\u001b[0m\u001b[0;34m,\u001b[0m \u001b[0mmax_iter\u001b[0m\u001b[0;34m,\u001b[0m \u001b[0;32mnot\u001b[0m \u001b[0madaptive_cooling\u001b[0m\u001b[0;34m,\u001b[0m\u001b[0;34m\u001b[0m\u001b[0;34m\u001b[0m\u001b[0m\n\u001b[0;32m--> 766\u001b[0;31m                                      verbose, _get_rng())\n\u001b[0m\u001b[1;32m    767\u001b[0m     \u001b[0mpos\u001b[0m \u001b[0;34m=\u001b[0m \u001b[0mg_\u001b[0m\u001b[0;34m.\u001b[0m\u001b[0mown_property\u001b[0m\u001b[0;34m(\u001b[0m\u001b[0mpos\u001b[0m\u001b[0;34m)\u001b[0m\u001b[0;34m\u001b[0m\u001b[0;34m\u001b[0m\u001b[0m\n\u001b[1;32m    768\u001b[0m     \u001b[0;32mreturn\u001b[0m \u001b[0mpos\u001b[0m\u001b[0;34m\u001b[0m\u001b[0;34m\u001b[0m\u001b[0m\n",
      "\u001b[0;31mKeyboardInterrupt\u001b[0m: "
     ]
    }
   ],
   "source": [
    "graph_draw(g,output_size=(1200, 1200))"
   ]
  },
  {
   "cell_type": "code",
   "execution_count": 15,
   "metadata": {},
   "outputs": [
    {
     "data": {
      "text/plain": [
       "(218327, 218327)"
      ]
     },
     "execution_count": 15,
     "metadata": {},
     "output_type": "execute_result"
    }
   ],
   "source": [
    "ltri.shape"
   ]
  },
  {
   "cell_type": "code",
   "execution_count": 12,
   "metadata": {},
   "outputs": [
    {
     "data": {
      "text/html": [
       "<div>\n",
       "<style scoped>\n",
       "    .dataframe tbody tr th:only-of-type {\n",
       "        vertical-align: middle;\n",
       "    }\n",
       "\n",
       "    .dataframe tbody tr th {\n",
       "        vertical-align: top;\n",
       "    }\n",
       "\n",
       "    .dataframe thead th {\n",
       "        text-align: right;\n",
       "    }\n",
       "</style>\n",
       "<table border=\"1\" class=\"dataframe\">\n",
       "  <thead>\n",
       "    <tr style=\"text-align: right;\">\n",
       "      <th></th>\n",
       "      <th>Unnamed: 0</th>\n",
       "      <th>oecd</th>\n",
       "      <th>doc</th>\n",
       "    </tr>\n",
       "  </thead>\n",
       "  <tbody>\n",
       "    <tr>\n",
       "      <th>0</th>\n",
       "      <td>0</td>\n",
       "      <td>Agricultural Sciences</td>\n",
       "      <td>100</td>\n",
       "    </tr>\n",
       "    <tr>\n",
       "      <th>1</th>\n",
       "      <td>1</td>\n",
       "      <td>Agricultural Sciences</td>\n",
       "      <td>166</td>\n",
       "    </tr>\n",
       "    <tr>\n",
       "      <th>2</th>\n",
       "      <td>2</td>\n",
       "      <td>Agricultural Sciences</td>\n",
       "      <td>260</td>\n",
       "    </tr>\n",
       "    <tr>\n",
       "      <th>3</th>\n",
       "      <td>3</td>\n",
       "      <td>Agricultural Sciences</td>\n",
       "      <td>278</td>\n",
       "    </tr>\n",
       "    <tr>\n",
       "      <th>4</th>\n",
       "      <td>4</td>\n",
       "      <td>Agricultural Sciences</td>\n",
       "      <td>282</td>\n",
       "    </tr>\n",
       "  </tbody>\n",
       "</table>\n",
       "</div>"
      ],
      "text/plain": [
       "   Unnamed: 0                   oecd  doc\n",
       "0           0  Agricultural Sciences  100\n",
       "1           1  Agricultural Sciences  166\n",
       "2           2  Agricultural Sciences  260\n",
       "3           3  Agricultural Sciences  278\n",
       "4           4  Agricultural Sciences  282"
      ]
     },
     "execution_count": 12,
     "metadata": {},
     "output_type": "execute_result"
    }
   ],
   "source": [
    "oecd_df = pd.read_csv(f\"../tables/oecd_cats_{qid}.csv\")\n",
    "oecd_df.head()"
   ]
  },
  {
   "cell_type": "code",
   "execution_count": 15,
   "metadata": {},
   "outputs": [
    {
     "data": {
      "text/plain": [
       "{'Agricultural Sciences': '#7fc97f',\n",
       " 'Engineering and Technology': '#beaed4',\n",
       " 'Humanities': '#fdc086',\n",
       " 'Medical and Health Sciences': '#ffff99',\n",
       " 'Natural Sciences': '#386cb0',\n",
       " 'Social Sciences': '#f0027f',\n",
       " nan: '#F0F0F0'}"
      ]
     },
     "execution_count": 15,
     "metadata": {},
     "output_type": "execute_result"
    }
   ],
   "source": [
    "colors = ['#7fc97f','#beaed4','#fdc086','#ffff99','#386cb0','#f0027f','#F0F0F0']\n",
    "oecds = oecd_df['oecd'].unique()\n",
    "cmap = {}\n",
    "for i in range(len(colors)):\n",
    "    cmap[oecds[i]] = colors[i]\n",
    "cmap"
   ]
  },
  {
   "cell_type": "code",
   "execution_count": null,
   "metadata": {},
   "outputs": [
    {
     "name": "stderr",
     "output_type": "stream",
     "text": [
      "\n",
      "KeyboardInterrupt\n",
      "\n"
     ]
    },
    {
     "name": "stdout",
     "output_type": "stream",
     "text": [
      "Traceback (most recent call last):\n",
      "  File \"/home/max/.local/lib/python3.6/site-packages/networkx/drawing/layout.py\", line 459, in fruchterman_reingold_layout\n",
      "    dim, seed)\n",
      "  File \"<decorator-gen-786>\", line 2, in _sparse_fruchterman_reingold\n",
      "  File \"/home/max/.local/lib/python3.6/site-packages/networkx/utils/decorators.py\", line 405, in _random_state\n",
      "    return func(*new_args, **kwargs)\n",
      "  File \"/home/max/.local/lib/python3.6/site-packages/networkx/drawing/layout.py\", line 593, in _sparse_fruchterman_reingold\n",
      "    delta = (pos[i] - pos).T\n",
      "KeyboardInterrupt\n",
      "\n",
      "During handling of the above exception, another exception occurred:\n",
      "\n",
      "Traceback (most recent call last):\n",
      "  File \"/home/max/.local/lib/python3.6/site-packages/IPython/core/interactiveshell.py\", line 3265, in run_code\n",
      "    exec(code_obj, self.user_global_ns, self.user_ns)\n",
      "  File \"<ipython-input-24-87fdef23abc9>\", line 1, in <module>\n",
      "    nx.draw(G)\n",
      "  File \"/home/max/.local/lib/python3.6/site-packages/networkx/drawing/nx_pylab.py\", line 126, in draw\n",
      "    draw_networkx(G, pos=pos, ax=ax, **kwds)\n",
      "  File \"/home/max/.local/lib/python3.6/site-packages/networkx/drawing/nx_pylab.py\", line 275, in draw_networkx\n",
      "    pos = nx.drawing.spring_layout(G)  # default to spring layout\n",
      "  File \"<decorator-gen-782>\", line 2, in fruchterman_reingold_layout\n",
      "  File \"/home/max/.local/lib/python3.6/site-packages/networkx/utils/decorators.py\", line 405, in _random_state\n",
      "    return func(*new_args, **kwargs)\n",
      "  File \"/home/max/.local/lib/python3.6/site-packages/networkx/drawing/layout.py\", line 461, in fruchterman_reingold_layout\n",
      "    A = nx.to_numpy_array(G, weight=weight)\n",
      "  File \"/home/max/.local/lib/python3.6/site-packages/networkx/convert_matrix.py\", line 1074, in to_numpy_array\n",
      "    index = dict(zip(nodelist, range(nlen)))\n",
      "KeyboardInterrupt\n",
      "\n",
      "During handling of the above exception, another exception occurred:\n",
      "\n",
      "Traceback (most recent call last):\n",
      "  File \"/home/max/.local/lib/python3.6/site-packages/IPython/core/interactiveshell.py\", line 2016, in showtraceback\n",
      "    stb = value._render_traceback_()\n",
      "AttributeError: 'KeyboardInterrupt' object has no attribute '_render_traceback_'\n",
      "\n",
      "During handling of the above exception, another exception occurred:\n",
      "\n",
      "Traceback (most recent call last):\n",
      "  File \"/home/max/.local/lib/python3.6/site-packages/IPython/core/interactiveshell.py\", line 3189, in run_ast_nodes\n",
      "    if (yield from self.run_code(code, result)):\n"
     ]
    }
   ],
   "source": []
  }
 ],
 "metadata": {
  "kernelspec": {
   "display_name": "Python 3",
   "language": "python",
   "name": "python3"
  },
  "language_info": {
   "codemirror_mode": {
    "name": "ipython",
    "version": 3
   },
   "file_extension": ".py",
   "mimetype": "text/x-python",
   "name": "python",
   "nbconvert_exporter": "python",
   "pygments_lexer": "ipython3",
   "version": "3.6.7"
  }
 },
 "nbformat": 4,
 "nbformat_minor": 2
}
