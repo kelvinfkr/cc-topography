{
 "cells": [
  {
   "cell_type": "code",
   "execution_count": 2,
   "metadata": {
    "collapsed": false
   },
   "outputs": [
    {
     "name": "stdout",
     "output_type": "stream",
     "text": [
      "wos_all_updated\n"
     ]
    }
   ],
   "source": [
    "import os, sys, time, resource, re, gc, shutil\n",
    "from multiprocess import Pool\n",
    "from functools import partial\n",
    "from tabulate import tabulate\n",
    "from urllib.parse import urlparse, parse_qsl\n",
    "\n",
    "import matplotlib.pyplot as plt\n",
    "import numpy as np\n",
    "import pandas as pd\n",
    "from mongoengine.queryset.visitor import Q\n",
    "import django\n",
    "from django.db.models import Count\n",
    "sys.path.append('/home/galm/software/django/tmv/BasicBrowser/')\n",
    "os.environ.setdefault(\"DJANGO_SETTINGS_MODULE\", \"BasicBrowser.settings\")\n",
    "django.setup()\n",
    "\n",
    "from scoping.models import *\n",
    "from tmv_app.models import *\n",
    "from utils.text import *\n",
    "from utils.plotting import *\n",
    "from sklearn.feature_extraction.text import *\n",
    "from sklearn.decomposition import NMF\n",
    "from scipy.sparse import coo_matrix, find\n",
    "from django.db.models import Q, F, Sum, Count, FloatField, Case, When\n",
    "\n",
    "from run_id import run_id\n",
    "run_id = 662\n",
    "stat = RunStats.objects.get(pk=run_id)\n",
    "q = stat.query\n",
    "print(q.title)\n",
    "from tmv_app.tasks import *\n",
    "from utils.text import *\n"
   ]
  },
  {
   "cell_type": "code",
   "execution_count": null,
   "metadata": {
    "collapsed": true
   },
   "outputs": [],
   "source": [
    "t = DynamicTopic.objects.filter"
   ]
  }
 ],
 "metadata": {
  "kernelspec": {
   "display_name": "Python 3",
   "language": "python",
   "name": "python3"
  },
  "language_info": {
   "codemirror_mode": {
    "name": "ipython",
    "version": 3
   },
   "file_extension": ".py",
   "mimetype": "text/x-python",
   "name": "python",
   "nbconvert_exporter": "python",
   "pygments_lexer": "ipython3",
   "version": "3.4.3"
  }
 },
 "nbformat": 4,
 "nbformat_minor": 2
}
